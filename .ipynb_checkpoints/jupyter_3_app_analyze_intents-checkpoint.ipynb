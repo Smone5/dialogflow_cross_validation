{
 "cells": [
  {
   "cell_type": "markdown",
   "id": "a00d5e8c-41b3-42c0-85f4-c70693478f4d",
   "metadata": {},
   "source": [
    "# App Analyze Intents in Jupyter\n",
    "This is a Jupyter notebook that breaks down the the app that analzyes intents into small cell. Good for testing new ideas in the program before implementing them."
   ]
  },
  {
   "cell_type": "code",
   "execution_count": 1,
   "id": "1566d212-a64a-4f12-991d-7cf471debd6d",
   "metadata": {},
   "outputs": [
    {
     "name": "stderr",
     "output_type": "stream",
     "text": [
      "2021-11-03 10:41:20.435 INFO    numexpr.utils: NumExpr defaulting to 8 threads.\n"
     ]
    }
   ],
   "source": [
    "import streamlit as st\n",
    "import pandas as pd\n",
    "from sentence_transformers import SentenceTransformer, util\n",
    "from sklearn.metrics.pairwise import cosine_similarity"
   ]
  },
  {
   "cell_type": "code",
   "execution_count": 2,
   "id": "244c29c2-5e2d-4a3f-91ac-197a3e62789b",
   "metadata": {},
   "outputs": [],
   "source": [
    "# fucntions\n",
    "def load_pretrained_model(model_name):\n",
    "    model = SentenceTransformer(model_name)\n",
    "    return model\n",
    "\n",
    "def get_pred_matrix_data(file_name):\n",
    "    #path = \"data/output/cross_validation_intent_level/\"\n",
    "    file = file_name\n",
    "    sheet = 'prediction_matrix'\n",
    "    df = pd.read_excel(file, sheet_name=sheet)\n",
    "    df = df.set_index(\"index\")\n",
    "    return df\n",
    "\n",
    "def get_cross_validation_data(file_name):\n",
    "    #path = \"data/output/cross_validation_intent_level/\"\n",
    "    file = file_name\n",
    "    sheet = 'current_all_data'\n",
    "    df = pd.read_excel(file, sheet_name=sheet)\n",
    "    return df\n",
    "\n",
    "def get_flaged_data(file_name):\n",
    "    #path = \"data/output/cross_validation_intent_level/\"\n",
    "    file = file_name\n",
    "    sheet = 'intent_summary'\n",
    "    df = pd.read_excel(file, sheet_name=sheet, index_col=0)\n",
    "    df = df.rename(columns={'f1-score_cur':'F1-Score','support_imbal_ratio_cur':'Imbalanced Ratio'})\n",
    "    cols = ['F1-Score','Imbalanced Ratio']\n",
    "    df = df[cols]\n",
    "    return df\n",
    "\n",
    "def filter_confused_intents(dataframe, max_confused_display):\n",
    "    data = dataframe.loc[confused_intent]\n",
    "    data = data.loc[~data.index.isin([confused_intent])]\n",
    "    data = data[data > 0]\n",
    "    data = data.sort_values(ascending=False)\n",
    "    data = data[0:max_confused_display]\n",
    "    data2 = data.reset_index(drop=False)\n",
    "    data2 = data2.rename(columns={'index':'Confused Intent',confused_intent:'Count'})\n",
    "    return data, data2\n",
    "\n",
    "def similar_phrases_compare(check_embed, compare_embed, check_text, compare_list, K_similar, similar_thres):\n",
    "    cosine_scores = util.pytorch_cos_sim(check_embed, compare_embed)\n",
    "    #cosine_scores_sk = cosine_similarity(check_embed, compare_embed)\n",
    "    values,indices = cosine_scores.topk(K_similar)\n",
    "    values = values.numpy()\n",
    "    indices = indices.tolist()\n",
    "    indices_list = [indices[0][i] for i in range(len(indices[0]))]\n",
    "    compare_embed_text_list = [compare_list[i] for i in indices_list]\n",
    "    similar_score_list = [values[0][i] for i in range(len(values[0]))]\n",
    "    \n",
    "    data = list(zip(compare_embed_text_list, similar_score_list))\n",
    "    similar_df = pd.DataFrame(data, columns=['Similar Phrase','Similar Score'])\n",
    "    similar_df = similar_df[similar_df['Similar Score'] > similar_thres]\n",
    "    \n",
    "    return similar_df[1:]"
   ]
  },
  {
   "cell_type": "code",
   "execution_count": 3,
   "id": "ac13c29a-e341-498b-a140-c6f6d98df803",
   "metadata": {},
   "outputs": [],
   "source": [
    "#initialize\n",
    "confused_intent = 'faq.1.00-refund.via.paypal'\n",
    "similar_intent = 'faq.1.00-group.best.offer.counter.offer'\n",
    "check_text = 'what if the seller comes back with a higher offer for the item'\n",
    "nlu_model = 'bert-base-uncased'\n",
    "path = 'data/output/cross_validation_intent_level/'\n",
    "file = 'cv_scan2021_11_03_09_46_50.xlsx'\n",
    "max_confused_intents_display = 10\n",
    "top_K_similar = 10\n",
    "similar_thres = .50"
   ]
  },
  {
   "cell_type": "code",
   "execution_count": 4,
   "id": "e72cbd35-5ec2-42e8-98be-70d885aac727",
   "metadata": {},
   "outputs": [
    {
     "name": "stderr",
     "output_type": "stream",
     "text": [
      "2021-11-03 10:41:34.449 INFO    sentence_transformers.SentenceTransformer: Load pretrained SentenceTransformer: bert-base-uncased\n",
      "2021-11-03 10:41:34.450 WARNING root: No sentence-transformers model found with name C:\\Users\\amelton/.cache\\torch\\sentence_transformers\\bert-base-uncased. Creating a new one with MEAN pooling.\n",
      "Some weights of the model checkpoint at C:\\Users\\amelton/.cache\\torch\\sentence_transformers\\bert-base-uncased were not used when initializing BertModel: ['cls.predictions.transform.dense.bias', 'cls.predictions.transform.LayerNorm.weight', 'cls.predictions.transform.LayerNorm.bias', 'cls.seq_relationship.bias', 'cls.seq_relationship.weight', 'cls.predictions.bias', 'cls.predictions.transform.dense.weight', 'cls.predictions.decoder.weight']\n",
      "- This IS expected if you are initializing BertModel from the checkpoint of a model trained on another task or with another architecture (e.g. initializing a BertForSequenceClassification model from a BertForPreTraining model).\n",
      "- This IS NOT expected if you are initializing BertModel from the checkpoint of a model that you expect to be exactly identical (initializing a BertForSequenceClassification model from a BertForSequenceClassification model).\n",
      "2021-11-03 10:41:36.306 INFO    sentence_transformers.SentenceTransformer: Use pytorch device: cpu\n"
     ]
    }
   ],
   "source": [
    "# get data\n",
    "file_name = path+file\n",
    "\n",
    "df = get_pred_matrix_data(file_name)\n",
    "cross_df = get_cross_validation_data(file_name)\n",
    "flag_df = get_flaged_data(file_name)\n",
    "\n",
    "model = load_pretrained_model(nlu_model)"
   ]
  },
  {
   "cell_type": "code",
   "execution_count": 5,
   "id": "83709da7-9db6-49e8-9655-66cd450fbdf8",
   "metadata": {},
   "outputs": [],
   "source": [
    "data, data2 = filter_confused_intents(df, max_confused_intents_display)"
   ]
  },
  {
   "cell_type": "code",
   "execution_count": 6,
   "id": "cfbaebdf-2910-4b3a-9c8e-e9c4bf533b79",
   "metadata": {},
   "outputs": [],
   "source": [
    "confused_phrases_df = cross_df[['text','pred_conf']][(cross_df['actual_intent']==confused_intent) & (cross_df['pred_intent']==similar_intent)].set_index('text')\n",
    "similar_phrases_df = cross_df[['text','pred_conf']][(cross_df['actual_intent']==similar_intent)].set_index('text')"
   ]
  },
  {
   "cell_type": "code",
   "execution_count": 7,
   "id": "d304de32-cdea-4121-9734-b7136d258b82",
   "metadata": {},
   "outputs": [
    {
     "data": {
      "application/vnd.jupyter.widget-view+json": {
       "model_id": "65f5cd3f347c4a96bd8ff365e634794f",
       "version_major": 2,
       "version_minor": 0
      },
      "text/plain": [
       "Batches:   0%|          | 0/1 [00:00<?, ?it/s]"
      ]
     },
     "metadata": {},
     "output_type": "display_data"
    },
    {
     "name": "stderr",
     "output_type": "stream",
     "text": [
      "C:\\Users\\amelton\\Anaconda3\\envs\\dialogflow_train\\lib\\site-packages\\transformers\\tokenization_utils_base.py:2227: UserWarning: `max_length` is ignored when `padding`=`True`.\n",
      "  warnings.warn(\"`max_length` is ignored when `padding`=`True`.\")\n"
     ]
    },
    {
     "data": {
      "application/vnd.jupyter.widget-view+json": {
       "model_id": "f3520ef344fb430695bc75cca3913ba7",
       "version_major": 2,
       "version_minor": 0
      },
      "text/plain": [
       "Batches:   0%|          | 0/5 [00:00<?, ?it/s]"
      ]
     },
     "metadata": {},
     "output_type": "display_data"
    }
   ],
   "source": [
    "check_embed = model.encode(check_text)\n",
    "compare_embed = model.encode(list(similar_phrases_df.index.values))\n",
    "a = similar_phrases_compare(check_embed, compare_embed, check_text, list(similar_phrases_df.index.values), top_K_similar, similar_thres)"
   ]
  },
  {
   "cell_type": "code",
   "execution_count": 30,
   "id": "f17182aa-ec1a-4a91-8f6a-e47219c2e60c",
   "metadata": {},
   "outputs": [
    {
     "data": {
      "image/png": "[encoded data removed]",
      "text/plain": [
       "<Figure size 432x288 with 1 Axes>"
      ]
     },
     "metadata": {},
     "output_type": "display_data"
    }
   ],
   "source": [
    "import networkx as nx\n",
    "similarity_matrix = cosine_similarity(compare_embed)\n",
    "G = nx.to_networkx_graph(similarity_matrix)\n",
    "nx.draw(G)"
   ]
  },
  {
   "cell_type": "code",
   "execution_count": 10,
   "id": "94db2571-2956-44fd-837b-a806c9a21bc2",
   "metadata": {},
   "outputs": [],
   "source": [
    "\n",
    "def create_node_trace(G):\n",
    "    # collect node information from G to plot\n",
    "    node_x = []\n",
    "    node_y = []\n",
    "    node_text = []\n",
    "    node_color = []\n",
    "\n",
    "    for i, node in enumerate(G.nodes(data=True)):\n",
    "        # get node x,y position and store\n",
    "        x, y = node[1]['pos']\n",
    "        node_x.append(x)\n",
    "        node_y.append(y)\n",
    "\n",
    "        node_text.append(node[1]['text'])\n",
    "        node_color.append(node[1]['color'])\n",
    "\n",
    "    # create node trace (i.e., scatter plot)\n",
    "    # make it invisible by default\n",
    "    node_trace = go.Scatter(\n",
    "        x=node_x, y=node_y,\n",
    "        mode='markers',\n",
    "        hoverinfo='text',\n",
    "        marker=dict(\n",
    "            showscale=False,\n",
    "            color=node_color,\n",
    "            size=16,\n",
    "            line_width=0.5,\n",
    "        ),\n",
    "        text=node_text,\n",
    "        visible=False\n",
    "    )\n",
    "\n",
    "    return node_trace"
   ]
  },
  {
   "cell_type": "code",
   "execution_count": 11,
   "id": "2977b29a-fe3e-47e3-9a1e-564c9f2dee94",
   "metadata": {},
   "outputs": [],
   "source": [
    "def create_edge_trace(G):\n",
    "    # collect edges information from G to plot\n",
    "    edge_weight = []\n",
    "    edge_text = []\n",
    "    edge_pos = []\n",
    "    edge_color = []\n",
    "    \n",
    "    for edge in G.edges(data=True):\n",
    "        \n",
    "        # edge is line connecting two points\n",
    "        x0, y0 = G.nodes[edge[0]]['pos']\n",
    "        x1, y1 = G.nodes[edge[1]]['pos']\n",
    "        edge_pos.append([[x0, x1, None], [y0, y1, None]])\n",
    "        \n",
    "        # edge line color when drawn\n",
    "        edge_color.append(\"black\")\n",
    "\n",
    "    # there is a trace for each edge\n",
    "    edge_traces = []\n",
    "    for i in range(len(edge_pos)):\n",
    "        \n",
    "        # edge line width\n",
    "        line_width = 1\n",
    "\n",
    "        # is scatter because it is line connecting two points\n",
    "        trace = go.Scatter(\n",
    "            x=edge_pos[i][0], y=edge_pos[i][1],\n",
    "            line=dict(width=line_width, color=edge_color[i]),\n",
    "            mode='lines',\n",
    "            visible=False\n",
    "        )\n",
    "        edge_traces.append(trace)\n",
    "\n",
    "    return edge_traces"
   ]
  },
  {
   "cell_type": "code",
   "execution_count": 12,
   "id": "dfd3c8e8-d131-4a20-9126-344a0976ea51",
   "metadata": {},
   "outputs": [],
   "source": [
    "\n",
    "def filter_similarity_matrix_at_step(square_matrix, step_value):\n",
    "    # copy matrix\n",
    "    aux = square_matrix.copy()\n",
    "    \n",
    "    # set as NaN all values equal to or below threshold value\n",
    "    aux[aux <= step_value] = np.nan\n",
    "    \n",
    "    # return filtered matrix\n",
    "    return aux"
   ]
  },
  {
   "cell_type": "code",
   "execution_count": 15,
   "id": "fc5eea0f-f870-480f-b0ea-b651977653de",
   "metadata": {},
   "outputs": [],
   "source": [
    "def get_interactive_slider_similarity_graph(square_matrix, slider_values, node_text=None, yaxisrange=None, xaxisrange=None):\n",
    "    \n",
    "    # Create figure with plotly\n",
    "    fig = go.Figure()\n",
    "\n",
    "    # key: slider value\n",
    "    # value: list of traces to display for that slider value\n",
    "    slider_dict = {}\n",
    "    \n",
    "    # total number of traces\n",
    "    total_n_traces = 0\n",
    "    \n",
    "    # node positions on plot\n",
    "    #node_pos = None\n",
    "\n",
    "    # for each possible value in the slider, create and store traces (i.e., plots)\n",
    "    for i, step_value in enumerate(slider_values):\n",
    "\n",
    "        # update similarity matrix for the current step\n",
    "        aux = filter_similarity_matrix_at_step(square_matrix, step_value)\n",
    "\n",
    "        # create nx graph from sim matrix\n",
    "        G = nx.to_networkx_graph(aux)\n",
    "        \n",
    "        # remove edges for 0 weight (NaN)\n",
    "        G.remove_edges_from([(a, b) for a, b, attrs in G.edges(data=True) if np.isnan(attrs[\"weight\"])])\n",
    "\n",
    "        # assign node positions if None\n",
    "        node_pos = nx.nx_pydot.graphviz_layout(G, prog=\"dot\")\n",
    "\n",
    "        # populate nodes with meta information\n",
    "        for node in G.nodes(data=True):\n",
    "            \n",
    "            # node position\n",
    "            node[1]['pos'] = node_pos[node[0]]\n",
    "\n",
    "            # node color\n",
    "            node[1]['color'] = \"orange\"\n",
    "\n",
    "            # node text on hover if any is specified else is empty\n",
    "            if node_text is not None:\n",
    "                node[1]['text'] = node_text[node[0]]\n",
    "            else:\n",
    "                node[1]['text'] = \"\"\n",
    "\n",
    "        # create edge taces (each edge is a trace, thus this is a list)\n",
    "        edge_traces = create_edge_trace(G)\n",
    "        \n",
    "        # create node trace (a single trace for all nodes, thus it is not a list)\n",
    "        node_trace = create_node_trace(G) \n",
    "\n",
    "        # store edge+node traces as single list for the current step value\n",
    "        slider_dict[step_value] = edge_traces + [node_trace]\n",
    "        \n",
    "        # keep count of the total number of traces\n",
    "        total_n_traces += len(slider_dict[step_value])\n",
    "\n",
    "        # make sure that the first slider value is active for visualization\n",
    "        if i == 0:\n",
    "            for trace in slider_dict[step_value]:\n",
    "                # make visible\n",
    "                trace.visible = True\n",
    "\n",
    "                \n",
    "    # Create steps objects (one step per step_value)\n",
    "    steps = []\n",
    "    for step_value in slider_values:\n",
    "        \n",
    "        # count traces before adding new traces\n",
    "        n_traces_before_adding_new = len(fig.data)\n",
    "        \n",
    "        # add new traces\n",
    "        fig.add_traces(slider_dict[step_value])\n",
    "\n",
    "        step = dict(\n",
    "            # update figure when this step is active\n",
    "            method=\"update\",\n",
    "            # make all traces invisible\n",
    "            args=[{\"visible\": [False] * total_n_traces}],\n",
    "            # label on the slider\n",
    "            label=str(round(step_value, 3)),\n",
    "        )\n",
    "\n",
    "        # only toggle this step's traces visible, others remain invisible\n",
    "        n_traces_for_step_value = len(slider_dict[step_value])\n",
    "        for i in range(n_traces_before_adding_new, n_traces_before_adding_new + n_traces_for_step_value):\n",
    "            step[\"args\"][0][\"visible\"][i] = True\n",
    "        \n",
    "        # store step object in list of many steps\n",
    "        steps.append(step)\n",
    "\n",
    "    # create slider with list of step objects\n",
    "    slider = [dict(\n",
    "        active=0,\n",
    "        steps=steps\n",
    "    )]\n",
    "\n",
    "    # add slider to figure and create layout\n",
    "    fig.update_layout(\n",
    "        sliders=slider,\n",
    "        showlegend=False,\n",
    "        hovermode='closest',\n",
    "        margin=dict(b=20, l=5, r=5, t=40),\n",
    "        xaxis=dict(range=xaxisrange, showgrid=False, zeroline=False, showticklabels=False),\n",
    "        yaxis=dict(range=yaxisrange, showgrid=False, zeroline=False, showticklabels=False),\n",
    "        width=700, height=700,\n",
    "    )\n",
    "\n",
    "    return fig"
   ]
  },
  {
   "cell_type": "code",
   "execution_count": 16,
   "id": "704c88db-9912-43e3-8638-a11a5a1eca49",
   "metadata": {},
   "outputs": [
    {
     "ename": "FileNotFoundError",
     "evalue": "[WinError 2] \"dot\" not found in path.",
     "output_type": "error",
     "traceback": [
      "\u001b[1;31m---------------------------------------------------------------------------\u001b[0m",
      "\u001b[1;31mFileNotFoundError\u001b[0m                         Traceback (most recent call last)",
      "\u001b[1;32m~\\Anaconda3\\envs\\dialogflow_train\\lib\\site-packages\\pydot.py\u001b[0m in \u001b[0;36mcreate\u001b[1;34m(self, prog, format, encoding)\u001b[0m\n\u001b[0;32m   1922\u001b[0m         \u001b[1;32mtry\u001b[0m\u001b[1;33m:\u001b[0m\u001b[1;33m\u001b[0m\u001b[1;33m\u001b[0m\u001b[0m\n\u001b[1;32m-> 1923\u001b[1;33m             stdout_data, stderr_data, process = call_graphviz(\n\u001b[0m\u001b[0;32m   1924\u001b[0m                 \u001b[0mprogram\u001b[0m\u001b[1;33m=\u001b[0m\u001b[0mprog\u001b[0m\u001b[1;33m,\u001b[0m\u001b[1;33m\u001b[0m\u001b[1;33m\u001b[0m\u001b[0m\n",
      "\u001b[1;32m~\\Anaconda3\\envs\\dialogflow_train\\lib\\site-packages\\pydot.py\u001b[0m in \u001b[0;36mcall_graphviz\u001b[1;34m(program, arguments, working_dir, **kwargs)\u001b[0m\n\u001b[0;32m    131\u001b[0m \u001b[1;33m\u001b[0m\u001b[0m\n\u001b[1;32m--> 132\u001b[1;33m     process = subprocess.Popen(\n\u001b[0m\u001b[0;32m    133\u001b[0m         \u001b[0mprogram_with_args\u001b[0m\u001b[1;33m,\u001b[0m\u001b[1;33m\u001b[0m\u001b[1;33m\u001b[0m\u001b[0m\n",
      "\u001b[1;32m~\\Anaconda3\\envs\\dialogflow_train\\lib\\subprocess.py\u001b[0m in \u001b[0;36m__init__\u001b[1;34m(self, args, bufsize, executable, stdin, stdout, stderr, preexec_fn, close_fds, shell, cwd, env, universal_newlines, startupinfo, creationflags, restore_signals, start_new_session, pass_fds, encoding, errors, text)\u001b[0m\n\u001b[0;32m    857\u001b[0m \u001b[1;33m\u001b[0m\u001b[0m\n\u001b[1;32m--> 858\u001b[1;33m             self._execute_child(args, executable, preexec_fn, close_fds,\n\u001b[0m\u001b[0;32m    859\u001b[0m                                 \u001b[0mpass_fds\u001b[0m\u001b[1;33m,\u001b[0m \u001b[0mcwd\u001b[0m\u001b[1;33m,\u001b[0m \u001b[0menv\u001b[0m\u001b[1;33m,\u001b[0m\u001b[1;33m\u001b[0m\u001b[1;33m\u001b[0m\u001b[0m\n",
      "\u001b[1;32m~\\Anaconda3\\envs\\dialogflow_train\\lib\\subprocess.py\u001b[0m in \u001b[0;36m_execute_child\u001b[1;34m(self, args, executable, preexec_fn, close_fds, pass_fds, cwd, env, startupinfo, creationflags, shell, p2cread, p2cwrite, c2pread, c2pwrite, errread, errwrite, unused_restore_signals, unused_start_new_session)\u001b[0m\n\u001b[0;32m   1310\u001b[0m             \u001b[1;32mtry\u001b[0m\u001b[1;33m:\u001b[0m\u001b[1;33m\u001b[0m\u001b[1;33m\u001b[0m\u001b[0m\n\u001b[1;32m-> 1311\u001b[1;33m                 hp, ht, pid, tid = _winapi.CreateProcess(executable, args,\n\u001b[0m\u001b[0;32m   1312\u001b[0m                                          \u001b[1;31m# no special security\u001b[0m\u001b[1;33m\u001b[0m\u001b[1;33m\u001b[0m\u001b[1;33m\u001b[0m\u001b[0m\n",
      "\u001b[1;31mFileNotFoundError\u001b[0m: [WinError 2] The system cannot find the file specified",
      "\nDuring handling of the above exception, another exception occurred:\n",
      "\u001b[1;31mFileNotFoundError\u001b[0m                         Traceback (most recent call last)",
      "\u001b[1;32m~\\AppData\\Local\\Temp/ipykernel_47216/78457666.py\u001b[0m in \u001b[0;36m<module>\u001b[1;34m\u001b[0m\n\u001b[0;32m      5\u001b[0m \u001b[1;33m\u001b[0m\u001b[0m\n\u001b[0;32m      6\u001b[0m \u001b[1;31m# get the slider figure\u001b[0m\u001b[1;33m\u001b[0m\u001b[1;33m\u001b[0m\u001b[1;33m\u001b[0m\u001b[0m\n\u001b[1;32m----> 7\u001b[1;33m fig = get_interactive_slider_similarity_graph(\n\u001b[0m\u001b[0;32m      8\u001b[0m     \u001b[0msimilarity_matrix\u001b[0m\u001b[1;33m,\u001b[0m\u001b[1;33m\u001b[0m\u001b[1;33m\u001b[0m\u001b[0m\n\u001b[0;32m      9\u001b[0m     \u001b[0mslider_steps\u001b[0m\u001b[1;33m,\u001b[0m\u001b[1;33m\u001b[0m\u001b[1;33m\u001b[0m\u001b[0m\n",
      "\u001b[1;32m~\\AppData\\Local\\Temp/ipykernel_47216/1181923507.py\u001b[0m in \u001b[0;36mget_interactive_slider_similarity_graph\u001b[1;34m(square_matrix, slider_values, node_text, yaxisrange, xaxisrange)\u001b[0m\n\u001b[0;32m     27\u001b[0m \u001b[1;33m\u001b[0m\u001b[0m\n\u001b[0;32m     28\u001b[0m         \u001b[1;31m# assign node positions if None\u001b[0m\u001b[1;33m\u001b[0m\u001b[1;33m\u001b[0m\u001b[1;33m\u001b[0m\u001b[0m\n\u001b[1;32m---> 29\u001b[1;33m         \u001b[0mnode_pos\u001b[0m \u001b[1;33m=\u001b[0m \u001b[0mnx\u001b[0m\u001b[1;33m.\u001b[0m\u001b[0mnx_pydot\u001b[0m\u001b[1;33m.\u001b[0m\u001b[0mgraphviz_layout\u001b[0m\u001b[1;33m(\u001b[0m\u001b[0mG\u001b[0m\u001b[1;33m,\u001b[0m \u001b[0mprog\u001b[0m\u001b[1;33m=\u001b[0m\u001b[1;34m\"dot\"\u001b[0m\u001b[1;33m)\u001b[0m\u001b[1;33m\u001b[0m\u001b[1;33m\u001b[0m\u001b[0m\n\u001b[0m\u001b[0;32m     30\u001b[0m \u001b[1;33m\u001b[0m\u001b[0m\n\u001b[0;32m     31\u001b[0m         \u001b[1;31m# populate nodes with meta information\u001b[0m\u001b[1;33m\u001b[0m\u001b[1;33m\u001b[0m\u001b[1;33m\u001b[0m\u001b[0m\n",
      "\u001b[1;32m~\\Anaconda3\\envs\\dialogflow_train\\lib\\site-packages\\networkx\\drawing\\nx_pydot.py\u001b[0m in \u001b[0;36mgraphviz_layout\u001b[1;34m(G, prog, root)\u001b[0m\n\u001b[0;32m    255\u001b[0m     \u001b[0mThis\u001b[0m \u001b[1;32mis\u001b[0m \u001b[0ma\u001b[0m \u001b[0mwrapper\u001b[0m \u001b[1;32mfor\u001b[0m \u001b[0mpydot_layout\u001b[0m\u001b[1;33m.\u001b[0m\u001b[1;33m\u001b[0m\u001b[1;33m\u001b[0m\u001b[0m\n\u001b[0;32m    256\u001b[0m     \"\"\"\n\u001b[1;32m--> 257\u001b[1;33m     \u001b[1;32mreturn\u001b[0m \u001b[0mpydot_layout\u001b[0m\u001b[1;33m(\u001b[0m\u001b[0mG\u001b[0m\u001b[1;33m=\u001b[0m\u001b[0mG\u001b[0m\u001b[1;33m,\u001b[0m \u001b[0mprog\u001b[0m\u001b[1;33m=\u001b[0m\u001b[0mprog\u001b[0m\u001b[1;33m,\u001b[0m \u001b[0mroot\u001b[0m\u001b[1;33m=\u001b[0m\u001b[0mroot\u001b[0m\u001b[1;33m)\u001b[0m\u001b[1;33m\u001b[0m\u001b[1;33m\u001b[0m\u001b[0m\n\u001b[0m\u001b[0;32m    258\u001b[0m \u001b[1;33m\u001b[0m\u001b[0m\n\u001b[0;32m    259\u001b[0m \u001b[1;33m\u001b[0m\u001b[0m\n",
      "\u001b[1;32m~\\Anaconda3\\envs\\dialogflow_train\\lib\\site-packages\\networkx\\drawing\\nx_pydot.py\u001b[0m in \u001b[0;36mpydot_layout\u001b[1;34m(G, prog, root)\u001b[0m\n\u001b[0;32m    304\u001b[0m     \u001b[1;31m# List of low-level bytes comprising a string in the dot language converted\u001b[0m\u001b[1;33m\u001b[0m\u001b[1;33m\u001b[0m\u001b[1;33m\u001b[0m\u001b[0m\n\u001b[0;32m    305\u001b[0m     \u001b[1;31m# from the passed graph with the passed external GraphViz command.\u001b[0m\u001b[1;33m\u001b[0m\u001b[1;33m\u001b[0m\u001b[1;33m\u001b[0m\u001b[0m\n\u001b[1;32m--> 306\u001b[1;33m     \u001b[0mD_bytes\u001b[0m \u001b[1;33m=\u001b[0m \u001b[0mP\u001b[0m\u001b[1;33m.\u001b[0m\u001b[0mcreate_dot\u001b[0m\u001b[1;33m(\u001b[0m\u001b[0mprog\u001b[0m\u001b[1;33m=\u001b[0m\u001b[0mprog\u001b[0m\u001b[1;33m)\u001b[0m\u001b[1;33m\u001b[0m\u001b[1;33m\u001b[0m\u001b[0m\n\u001b[0m\u001b[0;32m    307\u001b[0m \u001b[1;33m\u001b[0m\u001b[0m\n\u001b[0;32m    308\u001b[0m     \u001b[1;31m# Unique string decoded from these bytes with the preferred locale encoding\u001b[0m\u001b[1;33m\u001b[0m\u001b[1;33m\u001b[0m\u001b[1;33m\u001b[0m\u001b[0m\n",
      "\u001b[1;32m~\\Anaconda3\\envs\\dialogflow_train\\lib\\site-packages\\pydot.py\u001b[0m in \u001b[0;36mnew_method\u001b[1;34m(f, prog, encoding)\u001b[0m\n\u001b[0;32m   1731\u001b[0m                     encoding=None):\n\u001b[0;32m   1732\u001b[0m                 \u001b[1;34m\"\"\"Refer to docstring of method `create`.\"\"\"\u001b[0m\u001b[1;33m\u001b[0m\u001b[1;33m\u001b[0m\u001b[0m\n\u001b[1;32m-> 1733\u001b[1;33m                 return self.create(\n\u001b[0m\u001b[0;32m   1734\u001b[0m                     format=f, prog=prog, encoding=encoding)\n\u001b[0;32m   1735\u001b[0m             \u001b[0mname\u001b[0m \u001b[1;33m=\u001b[0m \u001b[1;34m'create_{fmt}'\u001b[0m\u001b[1;33m.\u001b[0m\u001b[0mformat\u001b[0m\u001b[1;33m(\u001b[0m\u001b[0mfmt\u001b[0m\u001b[1;33m=\u001b[0m\u001b[0mfrmt\u001b[0m\u001b[1;33m)\u001b[0m\u001b[1;33m\u001b[0m\u001b[1;33m\u001b[0m\u001b[0m\n",
      "\u001b[1;32m~\\Anaconda3\\envs\\dialogflow_train\\lib\\site-packages\\pydot.py\u001b[0m in \u001b[0;36mcreate\u001b[1;34m(self, prog, format, encoding)\u001b[0m\n\u001b[0;32m   1931\u001b[0m                 args[1] = '\"{prog}\" not found in path.'.format(\n\u001b[0;32m   1932\u001b[0m                     prog=prog)\n\u001b[1;32m-> 1933\u001b[1;33m                 \u001b[1;32mraise\u001b[0m \u001b[0mOSError\u001b[0m\u001b[1;33m(\u001b[0m\u001b[1;33m*\u001b[0m\u001b[0margs\u001b[0m\u001b[1;33m)\u001b[0m\u001b[1;33m\u001b[0m\u001b[1;33m\u001b[0m\u001b[0m\n\u001b[0m\u001b[0;32m   1934\u001b[0m             \u001b[1;32melse\u001b[0m\u001b[1;33m:\u001b[0m\u001b[1;33m\u001b[0m\u001b[1;33m\u001b[0m\u001b[0m\n\u001b[0;32m   1935\u001b[0m                 \u001b[1;32mraise\u001b[0m\u001b[1;33m\u001b[0m\u001b[1;33m\u001b[0m\u001b[0m\n",
      "\u001b[1;31mFileNotFoundError\u001b[0m: [WinError 2] \"dot\" not found in path."
     ]
    }
   ],
   "source": [
    "import numpy as np\n",
    "import plotly.graph_objects as go\n",
    "# define slider steps (i.e., threshold values)\n",
    "slider_steps = np.arange(0.4, 0.85, 0.05)\n",
    "    \n",
    "# get the slider figure\n",
    "fig = get_interactive_slider_similarity_graph(\n",
    "    similarity_matrix,\n",
    "    slider_steps,\n",
    "    node_text = list(similar_phrases_df.index.values)\n",
    ")\n",
    "\n",
    "# plot it\n",
    "fig.show()"
   ]
  },
  {
   "cell_type": "code",
   "execution_count": 17,
   "id": "21bb7e11-5b32-4293-bfc7-69217f6b768c",
   "metadata": {},
   "outputs": [],
   "source": [
    "def hierarchy_pos(G, root=None, width=1., vert_gap = 0.2, vert_loc = 0, leaf_vs_root_factor = 0.5):\n",
    "\n",
    "    '''\n",
    "    If the graph is a tree this will return the positions to plot this in a \n",
    "    hierarchical layout.\n",
    "    \n",
    "    Based on Joel's answer at https://stackoverflow.com/a/29597209/2966723,\n",
    "    but with some modifications.  \n",
    "\n",
    "    We include this because it may be useful for plotting transmission trees,\n",
    "    and there is currently no networkx equivalent (though it may be coming soon).\n",
    "    \n",
    "    There are two basic approaches we think of to allocate the horizontal \n",
    "    location of a node.  \n",
    "    \n",
    "    - Top down: we allocate horizontal space to a node.  Then its ``k`` \n",
    "      descendants split up that horizontal space equally.  This tends to result\n",
    "      in overlapping nodes when some have many descendants.\n",
    "    - Bottom up: we allocate horizontal space to each leaf node.  A node at a \n",
    "      higher level gets the entire space allocated to its descendant leaves.\n",
    "      Based on this, leaf nodes at higher levels get the same space as leaf\n",
    "      nodes very deep in the tree.  \n",
    "      \n",
    "    We use use both of these approaches simultaneously with ``leaf_vs_root_factor`` \n",
    "    determining how much of the horizontal space is based on the bottom up \n",
    "    or top down approaches.  ``0`` gives pure bottom up, while 1 gives pure top\n",
    "    down.   \n",
    "    \n",
    "    \n",
    "    :Arguments: \n",
    "    \n",
    "    **G** the graph (must be a tree)\n",
    "\n",
    "    **root** the root node of the tree \n",
    "    - if the tree is directed and this is not given, the root will be found and used\n",
    "    - if the tree is directed and this is given, then the positions will be \n",
    "      just for the descendants of this node.\n",
    "    - if the tree is undirected and not given, then a random choice will be used.\n",
    "\n",
    "    **width** horizontal space allocated for this branch - avoids overlap with other branches\n",
    "\n",
    "    **vert_gap** gap between levels of hierarchy\n",
    "\n",
    "    **vert_loc** vertical location of root\n",
    "    \n",
    "    **leaf_vs_root_factor**\n",
    "\n",
    "    xcenter: horizontal location of root\n",
    "    '''\n",
    "    if not nx.is_tree(G):\n",
    "        raise TypeError('cannot use hierarchy_pos on a graph that is not a tree')\n",
    "\n",
    "    if root is None:\n",
    "        if isinstance(G, nx.DiGraph):\n",
    "            root = next(iter(nx.topological_sort(G)))  #allows back compatibility with nx version 1.11\n",
    "        else:\n",
    "            root = random.choice(list(G.nodes))\n",
    "\n",
    "    def _hierarchy_pos(G, root, leftmost, width, leafdx = 0.2, vert_gap = 0.2, vert_loc = 0, \n",
    "                    xcenter = 0.5, rootpos = None, \n",
    "                    leafpos = None, parent = None):\n",
    "        '''\n",
    "        see hierarchy_pos docstring for most arguments\n",
    "\n",
    "        pos: a dict saying where all nodes go if they have been assigned\n",
    "        parent: parent of this branch. - only affects it if non-directed\n",
    "\n",
    "        '''\n",
    "\n",
    "        if rootpos is None:\n",
    "            rootpos = {root:(xcenter,vert_loc)}\n",
    "        else:\n",
    "            rootpos[root] = (xcenter, vert_loc)\n",
    "        if leafpos is None:\n",
    "            leafpos = {}\n",
    "        children = list(G.neighbors(root))\n",
    "        leaf_count = 0\n",
    "        if not isinstance(G, nx.DiGraph) and parent is not None:\n",
    "            children.remove(parent)  \n",
    "        if len(children)!=0:\n",
    "            rootdx = width/len(children)\n",
    "            nextx = xcenter - width/2 - rootdx/2\n",
    "            for child in children:\n",
    "                nextx += rootdx\n",
    "                rootpos, leafpos, newleaves = _hierarchy_pos(G,child, leftmost+leaf_count*leafdx, \n",
    "                                    width=rootdx, leafdx=leafdx,\n",
    "                                    vert_gap = vert_gap, vert_loc = vert_loc-vert_gap, \n",
    "                                    xcenter=nextx, rootpos=rootpos, leafpos=leafpos, parent = root)\n",
    "                leaf_count += newleaves\n",
    "\n",
    "            leftmostchild = min((x for x,y in [leafpos[child] for child in children]))\n",
    "            rightmostchild = max((x for x,y in [leafpos[child] for child in children]))\n",
    "            leafpos[root] = ((leftmostchild+rightmostchild)/2, vert_loc)\n",
    "        else:\n",
    "            leaf_count = 1\n",
    "            leafpos[root]  = (leftmost, vert_loc)\n",
    "#        pos[root] = (leftmost + (leaf_count-1)*dx/2., vert_loc)\n",
    "#        print(leaf_count)\n",
    "        return rootpos, leafpos, leaf_count\n",
    "\n",
    "    xcenter = width/2.\n",
    "    if isinstance(G, nx.DiGraph):\n",
    "        leafcount = len([node for node in nx.descendants(G, root) if G.out_degree(node)==0])\n",
    "    elif isinstance(G, nx.Graph):\n",
    "        leafcount = len([node for node in nx.node_connected_component(G, root) if G.degree(node)==1 and node != root])\n",
    "    rootpos, leafpos, leaf_count = _hierarchy_pos(G, root, 0, width, \n",
    "                                                    leafdx=width*1./leafcount, \n",
    "                                                    vert_gap=vert_gap, \n",
    "                                                    vert_loc = vert_loc, \n",
    "                                                    xcenter = xcenter)\n",
    "    pos = {}\n",
    "    for node in rootpos:\n",
    "        pos[node] = (leaf_vs_root_factor*leafpos[node][0] + (1-leaf_vs_root_factor)*rootpos[node][0], leafpos[node][1]) \n",
    "#    pos = {node:(leaf_vs_root_factor*x1+(1-leaf_vs_root_factor)*x2, y1) for ((x1,y1), (x2,y2)) in (leafpos[node], rootpos[node]) for node in rootpos}\n",
    "    xmax = max(x for x,y in pos.values())\n",
    "    for node in pos:\n",
    "        pos[node]= (pos[node][0]*width/xmax, pos[node][1])\n",
    "    return pos"
   ]
  },
  {
   "cell_type": "code",
   "execution_count": null,
   "id": "89be37cb-aeb4-49f6-9af0-4ce09e08c500",
   "metadata": {},
   "outputs": [],
   "source": []
  },
  {
   "cell_type": "code",
   "execution_count": 141,
   "id": "9c2e76ca-1c9f-46ae-ace2-2056de692439",
   "metadata": {},
   "outputs": [],
   "source": [
    "#cross_df[cross_df['text'].str.startswith('hi')==True][0:10]"
   ]
  },
  {
   "cell_type": "code",
   "execution_count": 119,
   "id": "4af9bcfb-867a-4c87-be00-0420688f9e0f",
   "metadata": {},
   "outputs": [
    {
     "name": "stderr",
     "output_type": "stream",
     "text": [
      "[nltk_data] Downloading package punkt to\n",
      "[nltk_data]     C:\\Users\\amelton\\AppData\\Roaming\\nltk_data...\n",
      "[nltk_data]   Package punkt is already up-to-date!\n",
      "[nltk_data] Downloading package stopwords to\n",
      "[nltk_data]     C:\\Users\\amelton\\AppData\\Roaming\\nltk_data...\n",
      "[nltk_data]   Package stopwords is already up-to-date!\n"
     ]
    }
   ],
   "source": [
    "import nltk\n",
    "import re\n",
    "nltk.download('punkt')\n",
    "nltk.download('stopwords')\n",
    "from nltk.tokenize import word_tokenize\n",
    "from nltk.corpus import stopwords\n",
    "\n",
    "stop_words = set(stopwords.words('english'))\n",
    "\n",
    "#sents = list(similar_phrases_df.index.values)\n",
    "sents = cross_df['text'].tolist()\n",
    "\n",
    "# lower words\n",
    "lowerd_words = [x.lower() for x in sents]\n",
    "\n",
    "# remove punctuation from words\n",
    "remove_punc_pattern = r'[^\\w\\s]'\n",
    "punc_removed = [re.sub(remove_punc_pattern,'',x) for x in lowerd_words]\n",
    "\n",
    "# remove digits from words\n",
    "remove_digits_pattern = r'[0-9]'\n",
    "digits_removed = [re.sub(remove_digits_pattern,'',x) for x in punc_removed]\n",
    "\n",
    "\n",
    "# tokenize words\n",
    "tokenized_sents = [word_tokenize(i.lower()) for i in digits_removed]\n",
    "\n",
    "stop_word_removed_sents = []\n",
    "for sent in tokenized_sents:\n",
    "    filtered_sentence = [w for w in sent if not w in stop_words]\n",
    "    stop_word_removed_sents.append(filtered_sentence)"
   ]
  },
  {
   "cell_type": "code",
   "execution_count": 144,
   "id": "93e09052-a3c2-4a47-9117-d31761f42530",
   "metadata": {},
   "outputs": [
    {
     "name": "stderr",
     "output_type": "stream",
     "text": [
      "2021-11-03 12:23:00.258 INFO    gensim.models.word2vec: collecting all words and their counts\n",
      "2021-11-03 12:23:00.259 INFO    gensim.models.word2vec: PROGRESS: at sentence #0, processed 0 words, keeping 0 word types\n",
      "2021-11-03 12:23:00.274 INFO    gensim.models.word2vec: PROGRESS: at sentence #10000, processed 78212 words, keeping 4110 word types\n",
      "2021-11-03 12:23:00.289 INFO    gensim.models.word2vec: collected 5979 word types from a corpus of 150616 raw words and 19507 sentences\n",
      "2021-11-03 12:23:00.291 INFO    gensim.models.word2vec: Creating a fresh vocabulary\n",
      "2021-11-03 12:23:00.317 INFO    gensim.utils: Word2Vec lifecycle event {'msg': 'effective_min_count=1 retains 5979 unique words (100.0%% of original 5979, drops 0)', 'datetime': '2021-11-03T12:23:00.317669', 'gensim': '4.0.1', 'python': '3.8.11 (default, Aug  6 2021, 09:57:55) [MSC v.1916 64 bit (AMD64)]', 'platform': 'Windows-10-10.0.18363-SP0', 'event': 'prepare_vocab'}\n",
      "2021-11-03 12:23:00.318 INFO    gensim.utils: Word2Vec lifecycle event {'msg': 'effective_min_count=1 leaves 150616 word corpus (100.0%% of original 150616, drops 0)', 'datetime': '2021-11-03T12:23:00.318667', 'gensim': '4.0.1', 'python': '3.8.11 (default, Aug  6 2021, 09:57:55) [MSC v.1916 64 bit (AMD64)]', 'platform': 'Windows-10-10.0.18363-SP0', 'event': 'prepare_vocab'}\n",
      "2021-11-03 12:23:00.357 INFO    gensim.models.word2vec: deleting the raw counts dictionary of 5979 items\n",
      "2021-11-03 12:23:00.357 INFO    gensim.models.word2vec: sample=0.001 downsamples 67 most-common words\n",
      "2021-11-03 12:23:00.358 INFO    gensim.utils: Word2Vec lifecycle event {'msg': 'downsampling leaves estimated 101517.1339457795 word corpus (67.4%% of prior 150616)', 'datetime': '2021-11-03T12:23:00.358654', 'gensim': '4.0.1', 'python': '3.8.11 (default, Aug  6 2021, 09:57:55) [MSC v.1916 64 bit (AMD64)]', 'platform': 'Windows-10-10.0.18363-SP0', 'event': 'prepare_vocab'}\n",
      "2021-11-03 12:23:00.408 INFO    gensim.models.word2vec: estimated required memory for 5979 words and 300 dimensions: 17339100 bytes\n",
      "2021-11-03 12:23:00.409 INFO    gensim.models.word2vec: resetting layer weights\n",
      "2021-11-03 12:23:00.416 INFO    gensim.utils: Word2Vec lifecycle event {'update': False, 'trim_rule': 'None', 'datetime': '2021-11-03T12:23:00.416623', 'gensim': '4.0.1', 'python': '3.8.11 (default, Aug  6 2021, 09:57:55) [MSC v.1916 64 bit (AMD64)]', 'platform': 'Windows-10-10.0.18363-SP0', 'event': 'build_vocab'}\n",
      "2021-11-03 12:23:00.417 INFO    gensim.utils: Word2Vec lifecycle event {'msg': 'training model with 3 workers on 5979 vocabulary and 300 features, using sg=0 hs=0 sample=0.001 negative=5 window=8', 'datetime': '2021-11-03T12:23:00.417624', 'gensim': '4.0.1', 'python': '3.8.11 (default, Aug  6 2021, 09:57:55) [MSC v.1916 64 bit (AMD64)]', 'platform': 'Windows-10-10.0.18363-SP0', 'event': 'train'}\n",
      "2021-11-03 12:23:00.609 INFO    gensim.models.word2vec: worker thread finished; awaiting finish of 2 more threads\n",
      "2021-11-03 12:23:00.609 INFO    gensim.models.word2vec: worker thread finished; awaiting finish of 1 more threads\n",
      "2021-11-03 12:23:00.624 INFO    gensim.models.word2vec: worker thread finished; awaiting finish of 0 more threads\n",
      "2021-11-03 12:23:00.624 INFO    gensim.models.word2vec: EPOCH - 1 : training on 150616 raw words (101340 effective words) took 0.2s, 511764 effective words/s\n",
      "2021-11-03 12:23:00.838 INFO    gensim.models.word2vec: worker thread finished; awaiting finish of 2 more threads\n",
      "2021-11-03 12:23:00.845 INFO    gensim.models.word2vec: worker thread finished; awaiting finish of 1 more threads\n",
      "2021-11-03 12:23:00.848 INFO    gensim.models.word2vec: worker thread finished; awaiting finish of 0 more threads\n",
      "2021-11-03 12:23:00.848 INFO    gensim.models.word2vec: EPOCH - 2 : training on 150616 raw words (101699 effective words) took 0.2s, 477478 effective words/s\n",
      "2021-11-03 12:23:01.038 INFO    gensim.models.word2vec: worker thread finished; awaiting finish of 2 more threads\n",
      "2021-11-03 12:23:01.038 INFO    gensim.models.word2vec: worker thread finished; awaiting finish of 1 more threads\n",
      "2021-11-03 12:23:01.052 INFO    gensim.models.word2vec: worker thread finished; awaiting finish of 0 more threads\n",
      "2021-11-03 12:23:01.053 INFO    gensim.models.word2vec: EPOCH - 3 : training on 150616 raw words (101402 effective words) took 0.2s, 516972 effective words/s\n",
      "2021-11-03 12:23:01.253 INFO    gensim.models.word2vec: worker thread finished; awaiting finish of 2 more threads\n",
      "2021-11-03 12:23:01.271 INFO    gensim.models.word2vec: worker thread finished; awaiting finish of 1 more threads\n",
      "2021-11-03 12:23:01.275 INFO    gensim.models.word2vec: worker thread finished; awaiting finish of 0 more threads\n",
      "2021-11-03 12:23:01.276 INFO    gensim.models.word2vec: EPOCH - 4 : training on 150616 raw words (101669 effective words) took 0.2s, 474329 effective words/s\n",
      "2021-11-03 12:23:01.474 INFO    gensim.models.word2vec: worker thread finished; awaiting finish of 2 more threads\n",
      "2021-11-03 12:23:01.485 INFO    gensim.models.word2vec: worker thread finished; awaiting finish of 1 more threads\n",
      "2021-11-03 12:23:01.487 INFO    gensim.models.word2vec: worker thread finished; awaiting finish of 0 more threads\n",
      "2021-11-03 12:23:01.488 INFO    gensim.models.word2vec: EPOCH - 5 : training on 150616 raw words (101460 effective words) took 0.2s, 502261 effective words/s\n",
      "2021-11-03 12:23:01.692 INFO    gensim.models.word2vec: worker thread finished; awaiting finish of 2 more threads\n",
      "2021-11-03 12:23:01.696 INFO    gensim.models.word2vec: worker thread finished; awaiting finish of 1 more threads\n",
      "2021-11-03 12:23:01.703 INFO    gensim.models.word2vec: worker thread finished; awaiting finish of 0 more threads\n",
      "2021-11-03 12:23:01.704 INFO    gensim.models.word2vec: EPOCH - 6 : training on 150616 raw words (101543 effective words) took 0.2s, 494554 effective words/s\n",
      "2021-11-03 12:23:01.925 INFO    gensim.models.word2vec: worker thread finished; awaiting finish of 2 more threads\n",
      "2021-11-03 12:23:01.927 INFO    gensim.models.word2vec: worker thread finished; awaiting finish of 1 more threads\n",
      "2021-11-03 12:23:01.928 INFO    gensim.models.word2vec: worker thread finished; awaiting finish of 0 more threads\n",
      "2021-11-03 12:23:01.929 INFO    gensim.models.word2vec: EPOCH - 7 : training on 150616 raw words (101332 effective words) took 0.2s, 473520 effective words/s\n",
      "2021-11-03 12:23:02.128 INFO    gensim.models.word2vec: worker thread finished; awaiting finish of 2 more threads\n",
      "2021-11-03 12:23:02.128 INFO    gensim.models.word2vec: worker thread finished; awaiting finish of 1 more threads\n",
      "2021-11-03 12:23:02.144 INFO    gensim.models.word2vec: worker thread finished; awaiting finish of 0 more threads\n",
      "2021-11-03 12:23:02.145 INFO    gensim.models.word2vec: EPOCH - 8 : training on 150616 raw words (101666 effective words) took 0.2s, 489999 effective words/s\n",
      "2021-11-03 12:23:02.336 INFO    gensim.models.word2vec: worker thread finished; awaiting finish of 2 more threads\n",
      "2021-11-03 12:23:02.355 INFO    gensim.models.word2vec: worker thread finished; awaiting finish of 1 more threads\n",
      "2021-11-03 12:23:02.366 INFO    gensim.models.word2vec: worker thread finished; awaiting finish of 0 more threads\n",
      "2021-11-03 12:23:02.366 INFO    gensim.models.word2vec: EPOCH - 9 : training on 150616 raw words (101504 effective words) took 0.2s, 497582 effective words/s\n",
      "2021-11-03 12:23:02.575 INFO    gensim.models.word2vec: worker thread finished; awaiting finish of 2 more threads\n",
      "2021-11-03 12:23:02.580 INFO    gensim.models.word2vec: worker thread finished; awaiting finish of 1 more threads\n",
      "2021-11-03 12:23:02.581 INFO    gensim.models.word2vec: worker thread finished; awaiting finish of 0 more threads\n",
      "2021-11-03 12:23:02.582 INFO    gensim.models.word2vec: EPOCH - 10 : training on 150616 raw words (101298 effective words) took 0.2s, 491325 effective words/s\n",
      "2021-11-03 12:23:02.790 INFO    gensim.models.word2vec: worker thread finished; awaiting finish of 2 more threads\n",
      "2021-11-03 12:23:02.794 INFO    gensim.models.word2vec: worker thread finished; awaiting finish of 1 more threads\n",
      "2021-11-03 12:23:02.797 INFO    gensim.models.word2vec: worker thread finished; awaiting finish of 0 more threads\n",
      "2021-11-03 12:23:02.798 INFO    gensim.models.word2vec: EPOCH - 11 : training on 150616 raw words (101411 effective words) took 0.2s, 493047 effective words/s\n",
      "2021-11-03 12:23:03.005 INFO    gensim.models.word2vec: worker thread finished; awaiting finish of 2 more threads\n",
      "2021-11-03 12:23:03.008 INFO    gensim.models.word2vec: worker thread finished; awaiting finish of 1 more threads\n",
      "2021-11-03 12:23:03.010 INFO    gensim.models.word2vec: worker thread finished; awaiting finish of 0 more threads\n",
      "2021-11-03 12:23:03.010 INFO    gensim.models.word2vec: EPOCH - 12 : training on 150616 raw words (101417 effective words) took 0.2s, 510508 effective words/s\n",
      "2021-11-03 12:23:03.251 INFO    gensim.models.word2vec: worker thread finished; awaiting finish of 2 more threads\n",
      "2021-11-03 12:23:03.260 INFO    gensim.models.word2vec: worker thread finished; awaiting finish of 1 more threads\n",
      "2021-11-03 12:23:03.261 INFO    gensim.models.word2vec: worker thread finished; awaiting finish of 0 more threads\n",
      "2021-11-03 12:23:03.262 INFO    gensim.models.word2vec: EPOCH - 13 : training on 150616 raw words (101351 effective words) took 0.2s, 419111 effective words/s\n",
      "2021-11-03 12:23:03.484 INFO    gensim.models.word2vec: worker thread finished; awaiting finish of 2 more threads\n",
      "2021-11-03 12:23:03.485 INFO    gensim.models.word2vec: worker thread finished; awaiting finish of 1 more threads\n",
      "2021-11-03 12:23:03.490 INFO    gensim.models.word2vec: worker thread finished; awaiting finish of 0 more threads\n",
      "2021-11-03 12:23:03.491 INFO    gensim.models.word2vec: EPOCH - 14 : training on 150616 raw words (101810 effective words) took 0.2s, 462919 effective words/s\n",
      "2021-11-03 12:23:03.774 INFO    gensim.models.word2vec: worker thread finished; awaiting finish of 2 more threads\n",
      "2021-11-03 12:23:03.780 INFO    gensim.models.word2vec: worker thread finished; awaiting finish of 1 more threads\n",
      "2021-11-03 12:23:03.781 INFO    gensim.models.word2vec: worker thread finished; awaiting finish of 0 more threads\n",
      "2021-11-03 12:23:03.782 INFO    gensim.models.word2vec: EPOCH - 15 : training on 150616 raw words (101429 effective words) took 0.3s, 362117 effective words/s\n",
      "2021-11-03 12:23:04.099 INFO    gensim.models.word2vec: worker thread finished; awaiting finish of 2 more threads\n",
      "2021-11-03 12:23:04.116 INFO    gensim.models.word2vec: worker thread finished; awaiting finish of 1 more threads\n",
      "2021-11-03 12:23:04.120 INFO    gensim.models.word2vec: worker thread finished; awaiting finish of 0 more threads\n",
      "2021-11-03 12:23:04.120 INFO    gensim.models.word2vec: EPOCH - 16 : training on 150616 raw words (101654 effective words) took 0.3s, 313051 effective words/s\n",
      "2021-11-03 12:23:04.445 INFO    gensim.models.word2vec: worker thread finished; awaiting finish of 2 more threads\n",
      "2021-11-03 12:23:04.468 INFO    gensim.models.word2vec: worker thread finished; awaiting finish of 1 more threads\n",
      "2021-11-03 12:23:04.473 INFO    gensim.models.word2vec: worker thread finished; awaiting finish of 0 more threads\n",
      "2021-11-03 12:23:04.475 INFO    gensim.models.word2vec: EPOCH - 17 : training on 150616 raw words (101463 effective words) took 0.3s, 295428 effective words/s\n",
      "2021-11-03 12:23:04.844 INFO    gensim.models.word2vec: worker thread finished; awaiting finish of 2 more threads\n",
      "2021-11-03 12:23:04.867 INFO    gensim.models.word2vec: worker thread finished; awaiting finish of 1 more threads\n",
      "2021-11-03 12:23:04.869 INFO    gensim.models.word2vec: worker thread finished; awaiting finish of 0 more threads\n",
      "2021-11-03 12:23:04.869 INFO    gensim.models.word2vec: EPOCH - 18 : training on 150616 raw words (101415 effective words) took 0.4s, 272066 effective words/s\n",
      "2021-11-03 12:23:05.174 INFO    gensim.models.word2vec: worker thread finished; awaiting finish of 2 more threads\n",
      "2021-11-03 12:23:05.204 INFO    gensim.models.word2vec: worker thread finished; awaiting finish of 1 more threads\n",
      "2021-11-03 12:23:05.209 INFO    gensim.models.word2vec: worker thread finished; awaiting finish of 0 more threads\n",
      "2021-11-03 12:23:05.210 INFO    gensim.models.word2vec: EPOCH - 19 : training on 150616 raw words (101606 effective words) took 0.3s, 309202 effective words/s\n",
      "2021-11-03 12:23:05.557 INFO    gensim.models.word2vec: worker thread finished; awaiting finish of 2 more threads\n",
      "2021-11-03 12:23:05.558 INFO    gensim.models.word2vec: worker thread finished; awaiting finish of 1 more threads\n",
      "2021-11-03 12:23:05.565 INFO    gensim.models.word2vec: worker thread finished; awaiting finish of 0 more threads\n",
      "2021-11-03 12:23:05.566 INFO    gensim.models.word2vec: EPOCH - 20 : training on 150616 raw words (101542 effective words) took 0.3s, 295764 effective words/s\n",
      "2021-11-03 12:23:05.873 INFO    gensim.models.word2vec: worker thread finished; awaiting finish of 2 more threads\n",
      "2021-11-03 12:23:05.883 INFO    gensim.models.word2vec: worker thread finished; awaiting finish of 1 more threads\n",
      "2021-11-03 12:23:05.890 INFO    gensim.models.word2vec: worker thread finished; awaiting finish of 0 more threads\n",
      "2021-11-03 12:23:05.891 INFO    gensim.models.word2vec: EPOCH - 21 : training on 150616 raw words (101467 effective words) took 0.3s, 321776 effective words/s\n",
      "2021-11-03 12:23:06.262 INFO    gensim.models.word2vec: worker thread finished; awaiting finish of 2 more threads\n",
      "2021-11-03 12:23:06.273 INFO    gensim.models.word2vec: worker thread finished; awaiting finish of 1 more threads\n",
      "2021-11-03 12:23:06.278 INFO    gensim.models.word2vec: worker thread finished; awaiting finish of 0 more threads\n",
      "2021-11-03 12:23:06.280 INFO    gensim.models.word2vec: EPOCH - 22 : training on 150616 raw words (101707 effective words) took 0.4s, 269620 effective words/s\n",
      "2021-11-03 12:23:06.611 INFO    gensim.models.word2vec: worker thread finished; awaiting finish of 2 more threads\n",
      "2021-11-03 12:23:06.631 INFO    gensim.models.word2vec: worker thread finished; awaiting finish of 1 more threads\n",
      "2021-11-03 12:23:06.637 INFO    gensim.models.word2vec: worker thread finished; awaiting finish of 0 more threads\n",
      "2021-11-03 12:23:06.638 INFO    gensim.models.word2vec: EPOCH - 23 : training on 150616 raw words (101571 effective words) took 0.3s, 294027 effective words/s\n",
      "2021-11-03 12:23:06.953 INFO    gensim.models.word2vec: worker thread finished; awaiting finish of 2 more threads\n",
      "2021-11-03 12:23:06.962 INFO    gensim.models.word2vec: worker thread finished; awaiting finish of 1 more threads\n",
      "2021-11-03 12:23:06.973 INFO    gensim.models.word2vec: worker thread finished; awaiting finish of 0 more threads\n",
      "2021-11-03 12:23:06.974 INFO    gensim.models.word2vec: EPOCH - 24 : training on 150616 raw words (101402 effective words) took 0.3s, 312186 effective words/s\n",
      "2021-11-03 12:23:07.305 INFO    gensim.models.word2vec: worker thread finished; awaiting finish of 2 more threads\n",
      "2021-11-03 12:23:07.321 INFO    gensim.models.word2vec: worker thread finished; awaiting finish of 1 more threads\n",
      "2021-11-03 12:23:07.325 INFO    gensim.models.word2vec: worker thread finished; awaiting finish of 0 more threads\n",
      "2021-11-03 12:23:07.326 INFO    gensim.models.word2vec: EPOCH - 25 : training on 150616 raw words (101480 effective words) took 0.3s, 311609 effective words/s\n",
      "2021-11-03 12:23:07.616 INFO    gensim.models.word2vec: worker thread finished; awaiting finish of 2 more threads\n",
      "2021-11-03 12:23:07.616 INFO    gensim.models.word2vec: worker thread finished; awaiting finish of 1 more threads\n",
      "2021-11-03 12:23:07.628 INFO    gensim.models.word2vec: worker thread finished; awaiting finish of 0 more threads\n",
      "2021-11-03 12:23:07.628 INFO    gensim.models.word2vec: EPOCH - 26 : training on 150616 raw words (101503 effective words) took 0.3s, 345105 effective words/s\n",
      "2021-11-03 12:23:07.932 INFO    gensim.models.word2vec: worker thread finished; awaiting finish of 2 more threads\n",
      "2021-11-03 12:23:07.932 INFO    gensim.models.word2vec: worker thread finished; awaiting finish of 1 more threads\n",
      "2021-11-03 12:23:07.940 INFO    gensim.models.word2vec: worker thread finished; awaiting finish of 0 more threads\n",
      "2021-11-03 12:23:07.941 INFO    gensim.models.word2vec: EPOCH - 27 : training on 150616 raw words (101492 effective words) took 0.3s, 338781 effective words/s\n",
      "2021-11-03 12:23:08.260 INFO    gensim.models.word2vec: worker thread finished; awaiting finish of 2 more threads\n",
      "2021-11-03 12:23:08.260 INFO    gensim.models.word2vec: worker thread finished; awaiting finish of 1 more threads\n",
      "2021-11-03 12:23:08.292 INFO    gensim.models.word2vec: worker thread finished; awaiting finish of 0 more threads\n",
      "2021-11-03 12:23:08.293 INFO    gensim.models.word2vec: EPOCH - 28 : training on 150616 raw words (101653 effective words) took 0.3s, 299500 effective words/s\n",
      "2021-11-03 12:23:08.602 INFO    gensim.models.word2vec: worker thread finished; awaiting finish of 2 more threads\n",
      "2021-11-03 12:23:08.623 INFO    gensim.models.word2vec: worker thread finished; awaiting finish of 1 more threads\n",
      "2021-11-03 12:23:08.626 INFO    gensim.models.word2vec: worker thread finished; awaiting finish of 0 more threads\n",
      "2021-11-03 12:23:08.626 INFO    gensim.models.word2vec: EPOCH - 29 : training on 150616 raw words (101418 effective words) took 0.3s, 315358 effective words/s\n",
      "2021-11-03 12:23:08.941 INFO    gensim.models.word2vec: worker thread finished; awaiting finish of 2 more threads\n",
      "2021-11-03 12:23:08.982 INFO    gensim.models.word2vec: worker thread finished; awaiting finish of 1 more threads\n",
      "2021-11-03 12:23:08.983 INFO    gensim.models.word2vec: worker thread finished; awaiting finish of 0 more threads\n",
      "2021-11-03 12:23:08.984 INFO    gensim.models.word2vec: EPOCH - 30 : training on 150616 raw words (101515 effective words) took 0.3s, 295289 effective words/s\n",
      "2021-11-03 12:23:08.985 INFO    gensim.utils: Word2Vec lifecycle event {'msg': 'training on 4518480 raw words (3045219 effective words) took 8.6s, 355434 effective words/s', 'datetime': '2021-11-03T12:23:08.985826', 'gensim': '4.0.1', 'python': '3.8.11 (default, Aug  6 2021, 09:57:55) [MSC v.1916 64 bit (AMD64)]', 'platform': 'Windows-10-10.0.18363-SP0', 'event': 'train'}\n",
      "2021-11-03 12:23:08.985 INFO    gensim.utils: Word2Vec lifecycle event {'params': 'Word2Vec(vocab=5979, vector_size=300, alpha=0.025)', 'datetime': '2021-11-03T12:23:08.985826', 'gensim': '4.0.1', 'python': '3.8.11 (default, Aug  6 2021, 09:57:55) [MSC v.1916 64 bit (AMD64)]', 'platform': 'Windows-10-10.0.18363-SP0', 'event': 'created'}\n"
     ]
    }
   ],
   "source": [
    "import gensim\n",
    "from gensim.models import Word2Vec\n",
    "nlp = gensim.models.word2vec.Word2Vec(tokenized_sents, vector_size=300, window=8, min_count=1, epochs=30)"
   ]
  },
  {
   "cell_type": "code",
   "execution_count": 148,
   "id": "56d77207-54b7-46fe-be93-3b689588b68d",
   "metadata": {},
   "outputs": [
    {
     "data": {
      "text/plain": [
       "[('offers', 0.6639377474784851),\n",
       " ('counteroffer', 0.6328725218772888),\n",
       " ('counter', 0.5559319853782654),\n",
       " ('bid', 0.4709671437740326),\n",
       " ('chance', 0.46836090087890625),\n",
       " ('highest', 0.46126294136047363),\n",
       " ('auction', 0.458378404378891),\n",
       " ('second', 0.44690921902656555),\n",
       " ('negotiate', 0.4399334192276001),\n",
       " ('programmers', 0.43283316493034363)]"
      ]
     },
     "execution_count": 148,
     "metadata": {},
     "output_type": "execute_result"
    }
   ],
   "source": [
    "#vector = nlp.wv['']  # get numpy vector of a word\n",
    "sims = nlp.wv.most_similar('offer', topn=10)  # get other similar words\n",
    "sims"
   ]
  },
  {
   "cell_type": "code",
   "execution_count": null,
   "id": "556ccdab-4b47-499f-a169-22dcdaa68982",
   "metadata": {},
   "outputs": [],
   "source": [
    "[('bid', 0.9103536009788513),\n",
    " ('item', 0.8998426198959351),\n",
    " ('best', 0.8959853053092957),\n",
    " ('tried', 0.8407072424888611),\n",
    " ('dont', 0.8394164443016052),\n",
    " ('counter', 0.8377029299736023),\n",
    " ('price', 0.8359436988830566),\n",
    " ('win', 0.8324100971221924),\n",
    " ('purchase', 0.8268490433692932),\n",
    " ('negotiated', 0.825219988822937)]"
   ]
  },
  {
   "cell_type": "code",
   "execution_count": 102,
   "id": "7748f87e-7182-4a47-bdf6-583f4edbfe78",
   "metadata": {},
   "outputs": [],
   "source": [
    "tot_words = [word] + [tupla[0] for tupla in \n",
    "                 nlp.wv.most_similar(word, topn=20)]"
   ]
  },
  {
   "cell_type": "code",
   "execution_count": 110,
   "id": "011b93fc-6232-49b4-bf09-2757ccae33e8",
   "metadata": {},
   "outputs": [],
   "source": [
    "X = nlp.wv[tot_words]"
   ]
  },
  {
   "cell_type": "code",
   "execution_count": 113,
   "id": "7eb29bbd-870c-4108-a44e-5b0503f3d4a1",
   "metadata": {},
   "outputs": [
    {
     "name": "stderr",
     "output_type": "stream",
     "text": [
      "C:\\Users\\amelton\\Anaconda3\\envs\\dialogflow_train\\lib\\site-packages\\pandas\\core\\indexing.py:1732: SettingWithCopyWarning:\n",
      "\n",
      "\n",
      "A value is trying to be set on a copy of a slice from a DataFrame\n",
      "\n",
      "See the caveats in the documentation: https://pandas.pydata.org/pandas-docs/stable/user_guide/indexing.html#returning-a-view-versus-a-copy\n",
      "\n"
     ]
    },
    {
     "data": {
      "image/png": "[encoded data removed]",
      "text/plain": [
       "<Figure size 432x288 with 1 Axes>"
      ]
     },
     "metadata": {
      "needs_background": "light"
     },
     "output_type": "display_data"
    }
   ],
   "source": [
    "import matplotlib.pyplot as plt\n",
    "from sklearn import manifold\n",
    "\n",
    "word = \"counter\"\n",
    "fig = plt.figure()\n",
    "## word embedding\n",
    "tot_words = [word] + [tupla[0] for tupla in \n",
    "                 nlp.wv.most_similar(word, topn=20)]\n",
    "X = nlp.wv[tot_words]\n",
    "## pca to reduce dimensionality from 300 to 3\n",
    "pca = manifold.TSNE(perplexity=40, n_components=3, init='pca')\n",
    "X = pca.fit_transform(X)\n",
    "## create dtf\n",
    "dtf_ = pd.DataFrame(X, index=tot_words, columns=[\"x\",\"y\",\"z\"])\n",
    "dtf_[\"input\"] = 0\n",
    "dtf_[\"input\"].iloc[0:1] = 1\n",
    "## plot 3d\n",
    "from mpl_toolkits.mplot3d import Axes3D\n",
    "ax = fig.add_subplot(111, projection='3d')\n",
    "ax.scatter(dtf_[dtf_[\"input\"]==0]['x'], \n",
    "           dtf_[dtf_[\"input\"]==0]['y'], \n",
    "           dtf_[dtf_[\"input\"]==0]['z'], c=\"black\")\n",
    "ax.scatter(dtf_[dtf_[\"input\"]==1]['x'], \n",
    "           dtf_[dtf_[\"input\"]==1]['y'], \n",
    "           dtf_[dtf_[\"input\"]==1]['z'], c=\"red\")\n",
    "ax.set(xlabel=None, ylabel=None, zlabel=None, xticklabels=[], \n",
    "       yticklabels=[], zticklabels=[])\n",
    "for label, row in dtf_[[\"x\",\"y\",\"z\"]].iterrows():\n",
    "    x, y, z = row\n",
    "    ax.text(x, y, z, s=label)"
   ]
  },
  {
   "cell_type": "code",
   "execution_count": null,
   "id": "40802f2f-fa05-4ddb-8804-ffe2dca6ac00",
   "metadata": {},
   "outputs": [],
   "source": []
  },
  {
   "cell_type": "code",
   "execution_count": 42,
   "id": "300cb6f3-8de7-458b-bddd-e9957172f52d",
   "metadata": {},
   "outputs": [
    {
     "data": {
      "application/vnd.jupyter.widget-view+json": {
       "model_id": "8f724e17ca29454d995e61b58f881906",
       "version_major": 2,
       "version_minor": 0
      },
      "text/plain": [
       "Batches:   0%|          | 0/5 [00:00<?, ?it/s]"
      ]
     },
     "metadata": {},
     "output_type": "display_data"
    },
    {
     "name": "stderr",
     "output_type": "stream",
     "text": [
      "C:\\Users\\amelton\\Anaconda3\\envs\\dialogflow_train\\lib\\site-packages\\transformers\\tokenization_utils_base.py:2227: UserWarning:\n",
      "\n",
      "`max_length` is ignored when `padding`=`True`.\n",
      "\n"
     ]
    }
   ],
   "source": [
    "compare_embed = model.encode(list(similar_phrases_df.index.values))"
   ]
  },
  {
   "cell_type": "code",
   "execution_count": 79,
   "id": "ef65785e-5f5c-4b76-87a6-cb07c24c925b",
   "metadata": {},
   "outputs": [
    {
     "ename": "TypeError",
     "evalue": "float() argument must be a string or a number, not 'Word2Vec'",
     "output_type": "error",
     "traceback": [
      "\u001b[1;31m---------------------------------------------------------------------------\u001b[0m",
      "\u001b[1;31mTypeError\u001b[0m                                 Traceback (most recent call last)",
      "\u001b[1;32m~\\AppData\\Local\\Temp/ipykernel_47216/1447751785.py\u001b[0m in \u001b[0;36m<module>\u001b[1;34m\u001b[0m\n\u001b[0;32m      1\u001b[0m \u001b[1;32mimport\u001b[0m \u001b[0mnetworkx\u001b[0m \u001b[1;32mas\u001b[0m \u001b[0mnx\u001b[0m\u001b[1;33m\u001b[0m\u001b[1;33m\u001b[0m\u001b[0m\n\u001b[1;32m----> 2\u001b[1;33m \u001b[0msimilarity_matrix\u001b[0m \u001b[1;33m=\u001b[0m \u001b[0mcosine_similarity\u001b[0m\u001b[1;33m(\u001b[0m\u001b[0mmodel1\u001b[0m\u001b[1;33m)\u001b[0m\u001b[1;33m\u001b[0m\u001b[1;33m\u001b[0m\u001b[0m\n\u001b[0m\u001b[0;32m      3\u001b[0m \u001b[0mG\u001b[0m \u001b[1;33m=\u001b[0m \u001b[0mnx\u001b[0m\u001b[1;33m.\u001b[0m\u001b[0mto_networkx_graph\u001b[0m\u001b[1;33m(\u001b[0m\u001b[0msimilarity_matrix\u001b[0m\u001b[1;33m)\u001b[0m\u001b[1;33m\u001b[0m\u001b[1;33m\u001b[0m\u001b[0m\n",
      "\u001b[1;32m~\\Anaconda3\\envs\\dialogflow_train\\lib\\site-packages\\sklearn\\metrics\\pairwise.py\u001b[0m in \u001b[0;36mcosine_similarity\u001b[1;34m(X, Y, dense_output)\u001b[0m\n\u001b[0;32m   1178\u001b[0m     \u001b[1;31m# to avoid recursive import\u001b[0m\u001b[1;33m\u001b[0m\u001b[1;33m\u001b[0m\u001b[1;33m\u001b[0m\u001b[0m\n\u001b[0;32m   1179\u001b[0m \u001b[1;33m\u001b[0m\u001b[0m\n\u001b[1;32m-> 1180\u001b[1;33m     \u001b[0mX\u001b[0m\u001b[1;33m,\u001b[0m \u001b[0mY\u001b[0m \u001b[1;33m=\u001b[0m \u001b[0mcheck_pairwise_arrays\u001b[0m\u001b[1;33m(\u001b[0m\u001b[0mX\u001b[0m\u001b[1;33m,\u001b[0m \u001b[0mY\u001b[0m\u001b[1;33m)\u001b[0m\u001b[1;33m\u001b[0m\u001b[1;33m\u001b[0m\u001b[0m\n\u001b[0m\u001b[0;32m   1181\u001b[0m \u001b[1;33m\u001b[0m\u001b[0m\n\u001b[0;32m   1182\u001b[0m     \u001b[0mX_normalized\u001b[0m \u001b[1;33m=\u001b[0m \u001b[0mnormalize\u001b[0m\u001b[1;33m(\u001b[0m\u001b[0mX\u001b[0m\u001b[1;33m,\u001b[0m \u001b[0mcopy\u001b[0m\u001b[1;33m=\u001b[0m\u001b[1;32mTrue\u001b[0m\u001b[1;33m)\u001b[0m\u001b[1;33m\u001b[0m\u001b[1;33m\u001b[0m\u001b[0m\n",
      "\u001b[1;32m~\\Anaconda3\\envs\\dialogflow_train\\lib\\site-packages\\sklearn\\utils\\validation.py\u001b[0m in \u001b[0;36minner_f\u001b[1;34m(*args, **kwargs)\u001b[0m\n\u001b[0;32m     61\u001b[0m             \u001b[0mextra_args\u001b[0m \u001b[1;33m=\u001b[0m \u001b[0mlen\u001b[0m\u001b[1;33m(\u001b[0m\u001b[0margs\u001b[0m\u001b[1;33m)\u001b[0m \u001b[1;33m-\u001b[0m \u001b[0mlen\u001b[0m\u001b[1;33m(\u001b[0m\u001b[0mall_args\u001b[0m\u001b[1;33m)\u001b[0m\u001b[1;33m\u001b[0m\u001b[1;33m\u001b[0m\u001b[0m\n\u001b[0;32m     62\u001b[0m             \u001b[1;32mif\u001b[0m \u001b[0mextra_args\u001b[0m \u001b[1;33m<=\u001b[0m \u001b[1;36m0\u001b[0m\u001b[1;33m:\u001b[0m\u001b[1;33m\u001b[0m\u001b[1;33m\u001b[0m\u001b[0m\n\u001b[1;32m---> 63\u001b[1;33m                 \u001b[1;32mreturn\u001b[0m \u001b[0mf\u001b[0m\u001b[1;33m(\u001b[0m\u001b[1;33m*\u001b[0m\u001b[0margs\u001b[0m\u001b[1;33m,\u001b[0m \u001b[1;33m**\u001b[0m\u001b[0mkwargs\u001b[0m\u001b[1;33m)\u001b[0m\u001b[1;33m\u001b[0m\u001b[1;33m\u001b[0m\u001b[0m\n\u001b[0m\u001b[0;32m     64\u001b[0m \u001b[1;33m\u001b[0m\u001b[0m\n\u001b[0;32m     65\u001b[0m             \u001b[1;31m# extra_args > 0\u001b[0m\u001b[1;33m\u001b[0m\u001b[1;33m\u001b[0m\u001b[1;33m\u001b[0m\u001b[0m\n",
      "\u001b[1;32m~\\Anaconda3\\envs\\dialogflow_train\\lib\\site-packages\\sklearn\\metrics\\pairwise.py\u001b[0m in \u001b[0;36mcheck_pairwise_arrays\u001b[1;34m(X, Y, precomputed, dtype, accept_sparse, force_all_finite, copy)\u001b[0m\n\u001b[0;32m    140\u001b[0m \u001b[1;33m\u001b[0m\u001b[0m\n\u001b[0;32m    141\u001b[0m     \u001b[1;32mif\u001b[0m \u001b[0mY\u001b[0m \u001b[1;32mis\u001b[0m \u001b[0mX\u001b[0m \u001b[1;32mor\u001b[0m \u001b[0mY\u001b[0m \u001b[1;32mis\u001b[0m \u001b[1;32mNone\u001b[0m\u001b[1;33m:\u001b[0m\u001b[1;33m\u001b[0m\u001b[1;33m\u001b[0m\u001b[0m\n\u001b[1;32m--> 142\u001b[1;33m         X = Y = check_array(X, accept_sparse=accept_sparse, dtype=dtype,\n\u001b[0m\u001b[0;32m    143\u001b[0m                             \u001b[0mcopy\u001b[0m\u001b[1;33m=\u001b[0m\u001b[0mcopy\u001b[0m\u001b[1;33m,\u001b[0m \u001b[0mforce_all_finite\u001b[0m\u001b[1;33m=\u001b[0m\u001b[0mforce_all_finite\u001b[0m\u001b[1;33m,\u001b[0m\u001b[1;33m\u001b[0m\u001b[1;33m\u001b[0m\u001b[0m\n\u001b[0;32m    144\u001b[0m                             estimator=estimator)\n",
      "\u001b[1;32m~\\Anaconda3\\envs\\dialogflow_train\\lib\\site-packages\\sklearn\\utils\\validation.py\u001b[0m in \u001b[0;36minner_f\u001b[1;34m(*args, **kwargs)\u001b[0m\n\u001b[0;32m     61\u001b[0m             \u001b[0mextra_args\u001b[0m \u001b[1;33m=\u001b[0m \u001b[0mlen\u001b[0m\u001b[1;33m(\u001b[0m\u001b[0margs\u001b[0m\u001b[1;33m)\u001b[0m \u001b[1;33m-\u001b[0m \u001b[0mlen\u001b[0m\u001b[1;33m(\u001b[0m\u001b[0mall_args\u001b[0m\u001b[1;33m)\u001b[0m\u001b[1;33m\u001b[0m\u001b[1;33m\u001b[0m\u001b[0m\n\u001b[0;32m     62\u001b[0m             \u001b[1;32mif\u001b[0m \u001b[0mextra_args\u001b[0m \u001b[1;33m<=\u001b[0m \u001b[1;36m0\u001b[0m\u001b[1;33m:\u001b[0m\u001b[1;33m\u001b[0m\u001b[1;33m\u001b[0m\u001b[0m\n\u001b[1;32m---> 63\u001b[1;33m                 \u001b[1;32mreturn\u001b[0m \u001b[0mf\u001b[0m\u001b[1;33m(\u001b[0m\u001b[1;33m*\u001b[0m\u001b[0margs\u001b[0m\u001b[1;33m,\u001b[0m \u001b[1;33m**\u001b[0m\u001b[0mkwargs\u001b[0m\u001b[1;33m)\u001b[0m\u001b[1;33m\u001b[0m\u001b[1;33m\u001b[0m\u001b[0m\n\u001b[0m\u001b[0;32m     64\u001b[0m \u001b[1;33m\u001b[0m\u001b[0m\n\u001b[0;32m     65\u001b[0m             \u001b[1;31m# extra_args > 0\u001b[0m\u001b[1;33m\u001b[0m\u001b[1;33m\u001b[0m\u001b[1;33m\u001b[0m\u001b[0m\n",
      "\u001b[1;32m~\\Anaconda3\\envs\\dialogflow_train\\lib\\site-packages\\sklearn\\utils\\validation.py\u001b[0m in \u001b[0;36mcheck_array\u001b[1;34m(array, accept_sparse, accept_large_sparse, dtype, order, copy, force_all_finite, ensure_2d, allow_nd, ensure_min_samples, ensure_min_features, estimator)\u001b[0m\n\u001b[0;32m    671\u001b[0m                     \u001b[0marray\u001b[0m \u001b[1;33m=\u001b[0m \u001b[0marray\u001b[0m\u001b[1;33m.\u001b[0m\u001b[0mastype\u001b[0m\u001b[1;33m(\u001b[0m\u001b[0mdtype\u001b[0m\u001b[1;33m,\u001b[0m \u001b[0mcasting\u001b[0m\u001b[1;33m=\u001b[0m\u001b[1;34m\"unsafe\"\u001b[0m\u001b[1;33m,\u001b[0m \u001b[0mcopy\u001b[0m\u001b[1;33m=\u001b[0m\u001b[1;32mFalse\u001b[0m\u001b[1;33m)\u001b[0m\u001b[1;33m\u001b[0m\u001b[1;33m\u001b[0m\u001b[0m\n\u001b[0;32m    672\u001b[0m                 \u001b[1;32melse\u001b[0m\u001b[1;33m:\u001b[0m\u001b[1;33m\u001b[0m\u001b[1;33m\u001b[0m\u001b[0m\n\u001b[1;32m--> 673\u001b[1;33m                     \u001b[0marray\u001b[0m \u001b[1;33m=\u001b[0m \u001b[0mnp\u001b[0m\u001b[1;33m.\u001b[0m\u001b[0masarray\u001b[0m\u001b[1;33m(\u001b[0m\u001b[0marray\u001b[0m\u001b[1;33m,\u001b[0m \u001b[0morder\u001b[0m\u001b[1;33m=\u001b[0m\u001b[0morder\u001b[0m\u001b[1;33m,\u001b[0m \u001b[0mdtype\u001b[0m\u001b[1;33m=\u001b[0m\u001b[0mdtype\u001b[0m\u001b[1;33m)\u001b[0m\u001b[1;33m\u001b[0m\u001b[1;33m\u001b[0m\u001b[0m\n\u001b[0m\u001b[0;32m    674\u001b[0m             \u001b[1;32mexcept\u001b[0m \u001b[0mComplexWarning\u001b[0m \u001b[1;32mas\u001b[0m \u001b[0mcomplex_warning\u001b[0m\u001b[1;33m:\u001b[0m\u001b[1;33m\u001b[0m\u001b[1;33m\u001b[0m\u001b[0m\n\u001b[0;32m    675\u001b[0m                 raise ValueError(\"Complex data not supported\\n\"\n",
      "\u001b[1;32m~\\Anaconda3\\envs\\dialogflow_train\\lib\\site-packages\\numpy\\core\\_asarray.py\u001b[0m in \u001b[0;36masarray\u001b[1;34m(a, dtype, order, like)\u001b[0m\n\u001b[0;32m    100\u001b[0m         \u001b[1;32mreturn\u001b[0m \u001b[0m_asarray_with_like\u001b[0m\u001b[1;33m(\u001b[0m\u001b[0ma\u001b[0m\u001b[1;33m,\u001b[0m \u001b[0mdtype\u001b[0m\u001b[1;33m=\u001b[0m\u001b[0mdtype\u001b[0m\u001b[1;33m,\u001b[0m \u001b[0morder\u001b[0m\u001b[1;33m=\u001b[0m\u001b[0morder\u001b[0m\u001b[1;33m,\u001b[0m \u001b[0mlike\u001b[0m\u001b[1;33m=\u001b[0m\u001b[0mlike\u001b[0m\u001b[1;33m)\u001b[0m\u001b[1;33m\u001b[0m\u001b[1;33m\u001b[0m\u001b[0m\n\u001b[0;32m    101\u001b[0m \u001b[1;33m\u001b[0m\u001b[0m\n\u001b[1;32m--> 102\u001b[1;33m     \u001b[1;32mreturn\u001b[0m \u001b[0marray\u001b[0m\u001b[1;33m(\u001b[0m\u001b[0ma\u001b[0m\u001b[1;33m,\u001b[0m \u001b[0mdtype\u001b[0m\u001b[1;33m,\u001b[0m \u001b[0mcopy\u001b[0m\u001b[1;33m=\u001b[0m\u001b[1;32mFalse\u001b[0m\u001b[1;33m,\u001b[0m \u001b[0morder\u001b[0m\u001b[1;33m=\u001b[0m\u001b[0morder\u001b[0m\u001b[1;33m)\u001b[0m\u001b[1;33m\u001b[0m\u001b[1;33m\u001b[0m\u001b[0m\n\u001b[0m\u001b[0;32m    103\u001b[0m \u001b[1;33m\u001b[0m\u001b[0m\n\u001b[0;32m    104\u001b[0m \u001b[1;33m\u001b[0m\u001b[0m\n",
      "\u001b[1;31mTypeError\u001b[0m: float() argument must be a string or a number, not 'Word2Vec'"
     ]
    }
   ],
   "source": [
    "import networkx as nx\n",
    "similarity_matrix = cosine_similarity(model1)\n",
    "G = nx.to_networkx_graph(similarity_matrix)"
   ]
  },
  {
   "cell_type": "code",
   "execution_count": 45,
   "id": "7ada5b82-bf94-4645-af56-10c0a0fe6c89",
   "metadata": {},
   "outputs": [
    {
     "data": {
      "text/plain": [
       "DegreeView({0: 141, 1: 141, 2: 141, 3: 141, 4: 141, 5: 141, 6: 141, 7: 141, 8: 141, 9: 141, 10: 141, 11: 141, 12: 141, 13: 141, 14: 141, 15: 141, 16: 141, 17: 141, 18: 141, 19: 141, 20: 141, 21: 141, 22: 141, 23: 141, 24: 141, 25: 141, 26: 141, 27: 141, 28: 141, 29: 141, 30: 141, 31: 141, 32: 141, 33: 141, 34: 141, 35: 141, 36: 141, 37: 141, 38: 141, 39: 141, 40: 141, 41: 141, 42: 141, 43: 141, 44: 141, 45: 141, 46: 141, 47: 141, 48: 141, 49: 141, 50: 141, 51: 141, 52: 141, 53: 141, 54: 141, 55: 141, 56: 141, 57: 141, 58: 141, 59: 141, 60: 141, 61: 141, 62: 141, 63: 141, 64: 141, 65: 141, 66: 141, 67: 141, 68: 141, 69: 141, 70: 141, 71: 141, 72: 141, 73: 141, 74: 141, 75: 141, 76: 141, 77: 141, 78: 141, 79: 141, 80: 141, 81: 141, 82: 141, 83: 141, 84: 141, 85: 141, 86: 141, 87: 141, 88: 141, 89: 141, 90: 141, 91: 141, 92: 141, 93: 141, 94: 141, 95: 141, 96: 141, 97: 141, 98: 141, 99: 141, 100: 141, 101: 141, 102: 141, 103: 141, 104: 141, 105: 141, 106: 141, 107: 141, 108: 141, 109: 141, 110: 141, 111: 141, 112: 141, 113: 141, 114: 141, 115: 141, 116: 141, 117: 141, 118: 141, 119: 141, 120: 141, 121: 141, 122: 141, 123: 141, 124: 141, 125: 141, 126: 141, 127: 141, 128: 141, 129: 141, 130: 141, 131: 141, 132: 141, 133: 141, 134: 141, 135: 141, 136: 141, 137: 141, 138: 141, 139: 141})"
      ]
     },
     "execution_count": 45,
     "metadata": {},
     "output_type": "execute_result"
    }
   ],
   "source": [
    "nx.degree(G)"
   ]
  },
  {
   "cell_type": "code",
   "execution_count": 39,
   "id": "24639f46-8970-49a4-8814-127da9248b67",
   "metadata": {},
   "outputs": [
    {
     "data": {
      "image/png": "[encoded data removed]",
      "text/plain": [
       "<Figure size 432x288 with 1 Axes>"
      ]
     },
     "metadata": {},
     "output_type": "display_data"
    }
   ],
   "source": [
    "nx.draw_spring(G)"
   ]
  },
  {
   "cell_type": "code",
   "execution_count": 21,
   "id": "cdb525e1-4443-4af2-b78b-3dd87b190035",
   "metadata": {},
   "outputs": [
    {
     "ename": "TypeError",
     "evalue": "cannot use hierarchy_pos on a graph that is not a tree",
     "output_type": "error",
     "traceback": [
      "\u001b[1;31m---------------------------------------------------------------------------\u001b[0m",
      "\u001b[1;31mTypeError\u001b[0m                                 Traceback (most recent call last)",
      "\u001b[1;32m~\\AppData\\Local\\Temp/ipykernel_47216/2583046404.py\u001b[0m in \u001b[0;36m<module>\u001b[1;34m\u001b[0m\n\u001b[1;32m----> 1\u001b[1;33m \u001b[0mhierarchy_pos\u001b[0m\u001b[1;33m(\u001b[0m\u001b[0mG\u001b[0m\u001b[1;33m,\u001b[0m \u001b[1;36m1\u001b[0m\u001b[1;33m)\u001b[0m\u001b[1;33m\u001b[0m\u001b[1;33m\u001b[0m\u001b[0m\n\u001b[0m",
      "\u001b[1;32m~\\AppData\\Local\\Temp/ipykernel_47216/1030860211.py\u001b[0m in \u001b[0;36mhierarchy_pos\u001b[1;34m(G, root, width, vert_gap, vert_loc, leaf_vs_root_factor)\u001b[0m\n\u001b[0;32m     49\u001b[0m     '''\n\u001b[0;32m     50\u001b[0m     \u001b[1;32mif\u001b[0m \u001b[1;32mnot\u001b[0m \u001b[0mnx\u001b[0m\u001b[1;33m.\u001b[0m\u001b[0mis_tree\u001b[0m\u001b[1;33m(\u001b[0m\u001b[0mG\u001b[0m\u001b[1;33m)\u001b[0m\u001b[1;33m:\u001b[0m\u001b[1;33m\u001b[0m\u001b[1;33m\u001b[0m\u001b[0m\n\u001b[1;32m---> 51\u001b[1;33m         \u001b[1;32mraise\u001b[0m \u001b[0mTypeError\u001b[0m\u001b[1;33m(\u001b[0m\u001b[1;34m'cannot use hierarchy_pos on a graph that is not a tree'\u001b[0m\u001b[1;33m)\u001b[0m\u001b[1;33m\u001b[0m\u001b[1;33m\u001b[0m\u001b[0m\n\u001b[0m\u001b[0;32m     52\u001b[0m \u001b[1;33m\u001b[0m\u001b[0m\n\u001b[0;32m     53\u001b[0m     \u001b[1;32mif\u001b[0m \u001b[0mroot\u001b[0m \u001b[1;32mis\u001b[0m \u001b[1;32mNone\u001b[0m\u001b[1;33m:\u001b[0m\u001b[1;33m\u001b[0m\u001b[1;33m\u001b[0m\u001b[0m\n",
      "\u001b[1;31mTypeError\u001b[0m: cannot use hierarchy_pos on a graph that is not a tree"
     ]
    }
   ],
   "source": [
    "hierarchy_pos(G, 1)"
   ]
  },
  {
   "cell_type": "code",
   "execution_count": null,
   "id": "650c42f4-69c2-4e24-bd61-04fad8c42b1e",
   "metadata": {},
   "outputs": [],
   "source": []
  }
 ],
 "metadata": {
  "kernelspec": {
   "display_name": "Python 3 (ipykernel)",
   "language": "python",
   "name": "python3"
  },
  "language_info": {
   "codemirror_mode": {
    "name": "ipython",
    "version": 3
   },
   "file_extension": ".py",
   "mimetype": "text/x-python",
   "name": "python",
   "nbconvert_exporter": "python",
   "pygments_lexer": "ipython3",
   "version": "3.8.11"
  }
 },
 "nbformat": 4,
 "nbformat_minor": 5
}
