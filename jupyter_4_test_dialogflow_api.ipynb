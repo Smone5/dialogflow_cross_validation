{
 "cells": [
  {
   "cell_type": "markdown",
   "id": "81d9ff48-fa9d-42a0-99dd-f44e6d2573f8",
   "metadata": {},
   "source": [
    "# Test the Dialogflow API in Jupyter\n",
    "This is a notebook to test out specific Dialoflow functions in a Jupyter notebook.\n",
    "You will need the correct Google Cloud credentials setup for this notebook to work. "
   ]
  },
  {
   "cell_type": "code",
   "execution_count": 1,
   "id": "2e0719d2-33ac-4e32-aa89-3dda96b028bc",
   "metadata": {},
   "outputs": [],
   "source": [
    "import os\n",
    "from typing import List\n",
    "#from google.cloud import dialogflow\n",
    "from google.cloud import dialogflow_v2beta1 as dialogflow\n",
    "#from google.protobuf.json_format import MessageToJson"
   ]
  },
  {
   "cell_type": "code",
   "execution_count": 7,
   "id": "479a5c89-767a-4e18-b440-e5df50e4b991",
   "metadata": {},
   "outputs": [],
   "source": [
    "#initialize values\n",
    "os.environ['GOOGLE_APPLICATION_CREDENTIALS'] = 'google_cloud_credentials.json'\n",
    "\n",
    "main_project = ''\n",
    "main_project_path = 'projects/{}'.format(main_project)\n",
    "main_agent_path = 'projects/{}/agent'.format(main_project)\n",
    "\n",
    "testing_project = ''\n",
    "testing_parent = 'projects/{}'.format(testing_project)"
   ]
  },
  {
   "cell_type": "markdown",
   "id": "64103ad4-dcb5-451e-adf0-836130ff7ebd",
   "metadata": {},
   "source": [
    "## Agent"
   ]
  },
  {
   "cell_type": "code",
   "execution_count": null,
   "id": "4a873695-3c80-4dc2-b871-725bb1924630",
   "metadata": {},
   "outputs": [],
   "source": [
    "# export the main agent\n",
    "parent = main_parent\n",
    "\n",
    "agent_client = dialogflow.AgentsClient()\n",
    "export_agent_request = dialogflow.ExportAgentRequest(parent=parent)\n",
    "agent_client.export_agent(export_agent_request)"
   ]
  },
  {
   "cell_type": "code",
   "execution_count": null,
   "id": "21f07dd4-d1ad-42c2-8fdf-671becc3ae5f",
   "metadata": {},
   "outputs": [],
   "source": [
    "# train the main agent\n",
    "parent = main_parent\n",
    "\n",
    "agent_client = dialogflow.AgentsClient()\n",
    "train_agent_request = dialogflow.TrainAgentRequest(parent=parent)\n",
    "response = agent_client.train_agent(train_agent_request)\n",
    "response"
   ]
  },
  {
   "cell_type": "code",
   "execution_count": null,
   "id": "e48a2f14-cdca-4132-a596-3fe086d5f303",
   "metadata": {},
   "outputs": [],
   "source": [
    "# create the testing agent\n",
    "agent_client = dialogflow.AgentsClient()\n",
    "parent = testing_parent\n",
    "testing_agent_name = 'nlp_testing_agent'\n",
    "default_language_code=\"en\"\n",
    "time_zone=\"America/Los_Angeles\"\n",
    "tier = 'TIER_STANDARD'\n",
    "#tier=\"TIER_ENTERPRISE\"\n",
    "\n",
    "\n",
    "agent = dialogflow.Agent(parent=parent, display_name=testing_agent_name,\n",
    "                        default_language_code=default_language_code,\n",
    "                         time_zone=time_zone, tier=tier)\n",
    "\n",
    "response = agent_client.set_agent(request={\"agent\": agent})\n",
    "response"
   ]
  },
  {
   "cell_type": "code",
   "execution_count": null,
   "id": "070ab5a8-22f6-4f93-9e8f-00b82221306a",
   "metadata": {},
   "outputs": [],
   "source": [
    "# delete the test agent\n",
    "parent = testing_parent\n",
    "\n",
    "agent_client = dialogflow.AgentsClient()\n",
    "response = agent_client.delete_agent(parent=parent)\n",
    "response"
   ]
  },
  {
   "cell_type": "code",
   "execution_count": null,
   "id": "2186d28f-8667-4dd7-82f7-ca0050d3bdf1",
   "metadata": {},
   "outputs": [],
   "source": [
    "# get the testing agent\n",
    "parent = testing_parent\n",
    "\n",
    "agent_client = dialogflow.AgentsClient()\n",
    "get_agent_request = dialogflow.GetAgentRequest(parent=parent)\n",
    "response = agent_client.get_agent(get_agent_request)\n",
    "response\n"
   ]
  },
  {
   "cell_type": "markdown",
   "id": "4b7b1d73-a86f-40cb-a33a-27d9174f2578",
   "metadata": {},
   "source": [
    "## Intents"
   ]
  },
  {
   "cell_type": "code",
   "execution_count": 3,
   "id": "3df826fc-16b7-4016-9099-1108f3cd9cc0",
   "metadata": {},
   "outputs": [
    {
     "name": "stdout",
     "output_type": "stream",
     "text": [
      "Session path: projects/burgerbot-bskc/agent/sessions/123456789\n",
      "\n",
      "====================\n",
      "Query text: Hi!\n",
      "Detected intent: smalltalk.greetings.hello (confidence: 1.0)\n",
      "\n",
      "Fulfillment text: \n",
      "\n",
      "====================\n",
      "Query text: I need a burger\n",
      "Detected intent:  (confidence: 0.6668421030044556)\n",
      "\n",
      "Fulfillment text: I'm glad to help. What can I do for you?\n",
      "\n"
     ]
    }
   ],
   "source": [
    "# intent prediction using main agent without knowledge graph\n",
    "\n",
    "def detect_intent_texts(project_id, session_id, texts, language_code):\n",
    "    \"\"\"Returns the result of detect intent with texts as inputs.\n",
    "\n",
    "    Using the same `session_id` between requests allows continuation\n",
    "    of the conversation.\"\"\"\n",
    "    from google.cloud import dialogflow\n",
    "\n",
    "    session_client = dialogflow.SessionsClient()\n",
    "\n",
    "    session = session_client.session_path(project_id, session_id)\n",
    "    print(\"Session path: {}\\n\".format(session))\n",
    "\n",
    "    for text in texts:\n",
    "        text_input = dialogflow.TextInput(text=text, language_code=language_code)\n",
    "\n",
    "        query_input = dialogflow.QueryInput(text=text_input)\n",
    "\n",
    "        response = session_client.detect_intent(\n",
    "            request={\"session\": session, \"query_input\": query_input}\n",
    "        )\n",
    "\n",
    "        print(\"=\" * 20)\n",
    "        print(\"Query text: {}\".format(response.query_result.query_text))\n",
    "        print(\n",
    "            \"Detected intent: {} (confidence: {})\\n\".format(\n",
    "                response.query_result.intent.display_name,\n",
    "                response.query_result.intent_detection_confidence,\n",
    "            )\n",
    "        )\n",
    "        print(\"Fulfillment text: {}\\n\".format(response.query_result.fulfillment_text))\n",
    "        \n",
    "        \n",
    "project_id = main_project\n",
    "session_id = '123456789'\n",
    "language_code = 'en-US'\n",
    "texts = ['Hi!', 'I need a burger']\n",
    "\n",
    "\n",
    "session_client = dialogflow.SessionsClient()\n",
    "session_client\n",
    "detect_intent_texts(project_id, session_id, texts, language_code)"
   ]
  },
  {
   "cell_type": "code",
   "execution_count": 4,
   "id": "8a1e6712-a4af-44b6-bead-20d0e6000064",
   "metadata": {},
   "outputs": [],
   "source": [
    "def create_intent_list(intents, ignore_ml_disabled=True):\n",
    "    '''\n",
    "    Oveview: A function to create a dictionary of intents to create in test agent\n",
    "    Depends On: None\n",
    "    Constraints: Function has been tested mostly igorning intents disabled for machine learning. \n",
    "    Input:\n",
    "        1. intents (ListIntentsPager): A list of intents from Dialogflow API\n",
    "    Outputs:\n",
    "        1. intent_dict (dict): A dictionary containing intent path as the key and the intent display name and intent id as values\n",
    "        Ex: projects/burgerbot-bskc/agent/intents/01a0d3bf-582a-4f4a-81b2-67763d65f6b4': ('ask_transfer_charge', '01a0d3bf-582a-4f4a-81b2-67763d65f6b4')\n",
    "    \n",
    "    '''\n",
    "    intent_dict = {}\n",
    "    if  ignore_ml_disabled==True:\n",
    "        # save intent ids to list\n",
    "        for intent in intents:\n",
    "            intent_path = intent.name\n",
    "            ml_disabled = intent.ml_disabled\n",
    "            if ml_disabled == False:\n",
    "                intent_display_name = intent.display_name\n",
    "                splitted = str(intent_path).split(\"/\")\n",
    "                intent_id = splitted[-1]\n",
    "                intent_dict[intent_path] = (intent_display_name, intent_id)\n",
    "            else:\n",
    "                intent_display_name = intent.display_name\n",
    "                splitted = str(intent_path).split(\"/\")\n",
    "                intent_id = splitted[-1]\n",
    "                intent_dict[intent_path] = (intent_display_name, intent_id)\n",
    "        return intent_dict\n",
    "    \n",
    "    if ignore_ml_disabled==False:\n",
    "        # save intent ids to list\n",
    "        for intent in intents:\n",
    "            intent_path = intent.name\n",
    "            ml_disabled = intent.ml_disabled\n",
    "            if ml_disabled == False:\n",
    "                intent_display_name = intent.display_name\n",
    "                splitted = str(intent_path).split(\"/\")\n",
    "                intent_id = splitted[-1]\n",
    "                intent_dict[intent_path] = (intent_display_name, intent_id)\n",
    "            else:\n",
    "                intent_display_name = intent.display_name\n",
    "                splitted = str(intent_path).split(\"/\")\n",
    "                intent_id = splitted[-1]\n",
    "                intent_dict[intent_path] = (intent_display_name, intent_id)\n",
    "        return intent_dict "
   ]
  },
  {
   "cell_type": "code",
   "execution_count": 8,
   "id": "eb8e9fe2-64b2-46b8-b80f-26c4cf48da81",
   "metadata": {},
   "outputs": [],
   "source": [
    "# get list of intents from main agent\n",
    "intent_client = dialogflow.IntentsClient()\n",
    "\n",
    "intent_list = intent_client.list_intents(parent=main_agent_path)\n",
    "intent_dict = create_intent_list(intent_list)\n",
    " "
   ]
  },
  {
   "cell_type": "code",
   "execution_count": 9,
   "id": "14583344-b66d-4011-b0fa-75f71c2cb203",
   "metadata": {},
   "outputs": [],
   "source": [
    "intent2 = list(intent_dict.values())\n"
   ]
  },
  {
   "cell_type": "code",
   "execution_count": 10,
   "id": "0e8ca5f3-2e73-49d0-81d8-efcf3b1c542a",
   "metadata": {},
   "outputs": [],
   "source": [
    "intent3 = [intent2[i][0] for i in range(len(intent2))]"
   ]
  },
  {
   "cell_type": "code",
   "execution_count": 11,
   "id": "a2118213-9801-4a25-8515-6a6f0a9b38d6",
   "metadata": {},
   "outputs": [],
   "source": [
    "import pandas as pd\n",
    "intent_df = pd.DataFrame(intent3, columns=['intent_name'])\n",
    "intent_df = intent_df.sort_values(by='intent_name')"
   ]
  },
  {
   "cell_type": "code",
   "execution_count": 18,
   "id": "af8785e5-2b75-4cef-8b25-b07afd128c07",
   "metadata": {},
   "outputs": [],
   "source": [
    "intent_df.to_excel('intent_list.xlsx', index=False)"
   ]
  },
  {
   "cell_type": "code",
   "execution_count": null,
   "id": "b706f256-0971-4419-a9d0-613098c4fe67",
   "metadata": {},
   "outputs": [],
   "source": [
    "# list the intents in main agent\n",
    "project_id = main_project\n",
    "parent_path = 'projects/{}/agent'.format(project_id)\n",
    "\n",
    "intents_client = dialogflow.IntentsClient()\n",
    "intents = intents_client.list_intents(parent=parent_path)\n",
    "#intents"
   ]
  },
  {
   "cell_type": "code",
   "execution_count": null,
   "id": "be71bb5a-482a-4025-80d8-c6c4c7680f20",
   "metadata": {},
   "outputs": [],
   "source": [
    "# get intents in the main agent\n",
    "intent_name = 'projects/burgerbot-bskc/agent/intents/b7f67a9b-0c7e-45ba-9bf9-ebed739be037'\n",
    "\n",
    "intent_client = dialogflow.IntentsClient()\n",
    "intent_view = dialogflow.IntentView.INTENT_VIEW_FULL\n",
    "get_intent_request = dialogflow.GetIntentRequest(name=intent_name, intent_view=intent_view)\n",
    "intent = intent_client.get_intent(get_intent_request)"
   ]
  },
  {
   "cell_type": "code",
   "execution_count": null,
   "id": "a6c872aa-7b8c-487f-be55-859e3d46ca22",
   "metadata": {},
   "outputs": [],
   "source": [
    "# get training phrases and entities from intent\n",
    "print(intent.training_phrases[2].parts[0])\n",
    "print(intent.training_phrases[2].parts[0].text)\n",
    "print(intent.training_phrases[2].parts[0].entity_type)\n",
    "print(intent.training_phrases[2].parts[0].alias)"
   ]
  },
  {
   "cell_type": "code",
   "execution_count": null,
   "id": "0d13113d-ccaf-4e28-8028-31ee0f0a12ec",
   "metadata": {},
   "outputs": [],
   "source": [
    "# create new basic intent\n",
    "project_id = testing_project\n",
    "parent_path = 'projects/{}/agent'.format(project_id)\n",
    "new_intent_name = \"Test Create New Intent\"\n",
    "\n",
    "intent_client = dialogflow.IntentsClient()\n",
    "intent = dialogflow.Intent(display_name = new_intent_name)\n",
    "\n",
    "create_intent_request = dialogflow.CreateIntentRequest(parent=parent_path, intent=intent)\n",
    "response = intent_client.create_intent(create_intent_request)"
   ]
  },
  {
   "cell_type": "code",
   "execution_count": null,
   "id": "9243c627-3d45-448f-b518-cd742b4fed16",
   "metadata": {},
   "outputs": [],
   "source": [
    "# list the intents in testing agent\n",
    "project_id = testing_project\n",
    "parent_path = 'projects/{}/agent'.format(project_id)\n",
    "\n",
    "intents_client = dialogflow.IntentsClient()\n",
    "intents = intents_client.list_intents(parent=parent_path)\n",
    "intents"
   ]
  },
  {
   "cell_type": "code",
   "execution_count": null,
   "id": "fa25594c-2877-4feb-86f4-4004b5c2ed55",
   "metadata": {},
   "outputs": [],
   "source": [
    "# delete intent\n",
    "intent_name = 'projects/burgerbot-bskc-test-agent/agent/intents/f5756524-8ae4-4d9b-bc19-bcc6d61150fb'\n",
    "\n",
    "intent_client = dialogflow.IntentsClient()\n",
    "intent_client.delete_intent(name=intent_name)"
   ]
  },
  {
   "cell_type": "code",
   "execution_count": null,
   "id": "6975e30d-b752-42f1-9ba4-1bb0ce168401",
   "metadata": {},
   "outputs": [],
   "source": [
    "# create intent with training phrase\n",
    "project_id = testing_project\n",
    "parent_path = 'projects/{}/agent'.format(project_id)\n",
    "\n",
    "intent_client = dialogflow.IntentsClient()\n",
    "part = dialogflow.Intent.TrainingPhrase.Part(text = \"Test Training Phrase to Invoke\")\n",
    "training_phrase = dialogflow.Intent.TrainingPhrase(parts=[part])\n",
    "\n",
    "intent = dialogflow.Intent(display_name = \"Test Create New Intent\", training_phrases = [training_phrase])\n",
    "create_intent_request = dialogflow.CreateIntentRequest(parent=parent_path, intent=intent)\n",
    "response = intent_client.create_intent(create_intent_request)\n",
    "response"
   ]
  },
  {
   "cell_type": "code",
   "execution_count": null,
   "id": "ea7d5a0a-3ded-4084-a350-c52f5c02a11b",
   "metadata": {},
   "outputs": [],
   "source": [
    "# create intent with multiple training phrases\n",
    "project_id = testing_project\n",
    "parent_path = 'projects/{}/agent'.format(project_id)\n",
    "intent_name = 'multiple training phrases'\n",
    "create_training_phrases = [\"First Training Phrase\", \"Second Training Phrase\"]\n",
    "\n",
    "\n",
    "intent_client = dialogflow.IntentsClient()\n",
    "trained_phrases = []\n",
    "for phrase in create_training_phrases:\n",
    "    part = dialogflow.Intent.TrainingPhrase.Part(text = phrase)\n",
    "    training_phrase = dialogflow.Intent.TrainingPhrase(parts=[part])\n",
    "    trained_phrases.append(training_phrase)\n",
    "    \n",
    "intent = dialogflow.Intent(display_name = intent_name, training_phrases = trained_phrases)\n",
    "create_intent_request = dialogflow.CreateIntentRequest(parent=parent_path, intent=intent)\n",
    "response = intent_client.create_intent(create_intent_request)\n",
    "response"
   ]
  },
  {
   "cell_type": "code",
   "execution_count": null,
   "id": "f579d8bf-a032-4420-b182-6e142342d2be",
   "metadata": {},
   "outputs": [],
   "source": [
    "# create intent with training phrase and entity\n",
    "project_id = testing_project\n",
    "parent_path = 'projects/{}/agent'.format(project_id)\n",
    "\n",
    "training_phrase = \"What time is Citibank open?\"\n",
    "entity_type = '@organization'\n",
    "alias = 'organization'\n",
    "\n",
    "intent_client = dialogflow.IntentsClient()\n",
    "part = dialogflow.Intent.TrainingPhrase.Part(text = training_phrase, entity_type=entity_type, alias=alias)\n",
    "training_phrase = dialogflow.Intent.TrainingPhrase(parts=[part])\n",
    "\n",
    "intent = dialogflow.Intent(display_name = \"Test Create New Intent\", training_phrases = [training_phrase])\n",
    "create_intent_request = dialogflow.CreateIntentRequest(parent=parent_path, intent=intent)\n",
    "response = intent_client.create_intent(create_intent_request)\n",
    "response"
   ]
  },
  {
   "cell_type": "code",
   "execution_count": null,
   "id": "8a5e5bf4-d66b-49c2-9d5f-64439626cbae",
   "metadata": {},
   "outputs": [],
   "source": [
    "# create intent with training phrase and multiple entities\n",
    "\n",
    "project_id = testing_project\n",
    "parent_path = 'projects/{}/agent'.format(project_id)\n",
    "\n",
    "intent_client = dialogflow.IntentsClient()\n",
    "part1 = dialogflow.Intent.TrainingPhrase.Part(text = \"What\")\n",
    "part2 = dialogflow.Intent.TrainingPhrase.Part(text = \"time\", entity_type='@time', alias='time')\n",
    "part3 = dialogflow.Intent.TrainingPhrase.Part(text = \"is\")\n",
    "part4 = dialogflow.Intent.TrainingPhrase.Part(text = \"Citibank\", entity_type='@organization', alias='organization')\n",
    "part5 = dialogflow.Intent.TrainingPhrase.Part(text = \"open?\")\n",
    "training_phrase = dialogflow.Intent.TrainingPhrase(parts=[part1, part2, part3, part4, part5])\n",
    "\n",
    "intent = dialogflow.Intent(display_name = \"intent with training phrase and multiple entities\", training_phrases = [training_phrase])\n",
    "create_intent_request = dialogflow.CreateIntentRequest(parent=parent_path, intent=intent)\n",
    "response = intent_client.create_intent(create_intent_request)\n",
    "response"
   ]
  },
  {
   "cell_type": "code",
   "execution_count": null,
   "id": "84c6df3a-ac91-4ff0-bb43-8d5eceda795e",
   "metadata": {},
   "outputs": [],
   "source": [
    "# create intent with multiple training phrases and entities\n",
    "project_id = testing_project\n",
    "parent_path = 'projects/{}/agent'.format(project_id)\n",
    "intent_name = 'multiple training phrases and entities'\n",
    "create_training_phrases = [\"What time is Citibank open?\", \"Is the bank Citibank closed?\", \"Is the bank still open\"]\n",
    "create_entities = ['@organization','@organization', '']\n",
    "create_entity_alias = ['organization','organization', '']\n",
    "\n",
    "intent_client = dialogflow.IntentsClient()\n",
    "trained_phrases = []\n",
    "for i in range(len(create_training_phrases)):\n",
    "    part = dialogflow.Intent.TrainingPhrase.Part(text = create_training_phrases[i], entity_type=create_entities[i], alias=create_entity_alias[i])\n",
    "    training_phrase = dialogflow.Intent.TrainingPhrase(parts=[part])\n",
    "    trained_phrases.append(training_phrase)\n",
    "    \n",
    "intent = dialogflow.Intent(display_name = intent_name, training_phrases = trained_phrases)\n",
    "create_intent_request = dialogflow.CreateIntentRequest(parent=parent_path, intent=intent)\n",
    "response = intent_client.create_intent(create_intent_request)\n",
    "response"
   ]
  },
  {
   "cell_type": "code",
   "execution_count": null,
   "id": "92209638-efc2-43c7-8a09-2ad4171732b3",
   "metadata": {},
   "outputs": [],
   "source": [
    "# batch create intents with training phrases\n",
    "project_id = testing_project\n",
    "parent_path = 'projects/{}/agent'.format(project_id)\n",
    "\n",
    "intent_client = dialogflow.IntentsClient()\n",
    "part = dialogflow.Intent.TrainingPhrase.Part(text = \"Training Phrase to Invoke\")\n",
    "training_phrase = dialogflow.Intent.TrainingPhrase(parts=[part])\n",
    "intent1 = dialogflow.Intent(display_name = \"Jason's New Intent\", training_phrases = [training_phrase])\n",
    "\n",
    "part = dialogflow.Intent.TrainingPhrase.Part(text = \"Training Phrase to Invoke2\")\n",
    "training_phrase = dialogflow.Intent.TrainingPhrase(parts=[part])\n",
    "intent2 = dialogflow.Intent(display_name = \"Jason's New Intent2\", training_phrases = [training_phrase])\n",
    "\n",
    "intents: List[dialogflow.Intent] = [intent1,intent2]\n",
    "intent_batch = dialogflow.IntentBatch(intents=intents)\n",
    "batch_update_intent_request = dialogflow.BatchUpdateIntentsRequest(parent=parent_path, intent_batch_inline=intent_batch)\n",
    "response = intent_client.batch_update_intents(batch_update_intent_request)"
   ]
  },
  {
   "cell_type": "markdown",
   "id": "46b2291b-ba10-4044-8ece-83be6f1e0ea4",
   "metadata": {},
   "source": [
    "## Entities"
   ]
  },
  {
   "cell_type": "code",
   "execution_count": null,
   "id": "f7f5bd47-fe6e-4182-a0ea-f97d3d7c7db0",
   "metadata": {},
   "outputs": [],
   "source": [
    "# List entity types\n",
    "project_id = testing_project\n",
    "parent_path = 'projects/{}/agent'.format(project_id)\n",
    "\n",
    "entity_client = dialogflow.EntityTypesClient()\n",
    "response = entity_client.list_entity_types(parent=parent_path)\n",
    "response"
   ]
  },
  {
   "cell_type": "code",
   "execution_count": null,
   "id": "c05245de-6cbc-448b-a394-29a7177f8d39",
   "metadata": {},
   "outputs": [],
   "source": [
    "# create entity type\n",
    "# https://stackoverflow.com/questions/55233717/how-to-upload-entity-and-its-synonyms-to-dialogflow-using-v2-api\n",
    "project_id = testing_project\n",
    "parent_path = 'projects/{}/agent'.format(project_id)\n",
    "kind = 'KIND_MAP'\n",
    "display_name = 'organization'\n",
    "\n",
    "entity_client = dialogflow.EntityTypesClient()\n",
    "entity = dialogflow.EntityType(display_name=display_name, kind=kind)\n",
    "create_entity_type_request = dialogflow.CreateEntityTypeRequest(parent=parent_path, entity_type=entity)\n",
    "response = entity_client.create_entity_type(create_entity_type_request)\n",
    "print('Entity type created: \\n{}'.format(response))\n"
   ]
  },
  {
   "cell_type": "code",
   "execution_count": null,
   "id": "cbce307c-291a-49d3-a370-29fbd835e02a",
   "metadata": {},
   "outputs": [],
   "source": [
    "# single get entity type\n",
    "project_id = testing_project\n",
    "parent_path = 'projects/{}/agent'.format(project_id)\n",
    "\n",
    "entity_type_id = '8127cad6-bc78-463d-b18d-08fb4cf20b09'\n",
    "entity_path = parent_path+'/entityTypes/'+entity_type_id\n",
    "\n",
    "entity_client = dialogflow.EntityTypesClient()\n",
    "get_entity_type = entity_client.get_entity_type(name=entity_path)\n",
    "get_entity_type"
   ]
  },
  {
   "cell_type": "code",
   "execution_count": null,
   "id": "1d8e2696-ac38-4626-bedc-3f92c8b754c9",
   "metadata": {},
   "outputs": [],
   "source": [
    "# batch update entity type\n",
    "project_id = testing_project\n",
    "parent_path = 'projects/{}/agent'.format(project_id)\n",
    "\n",
    "entity_type_id = '8127cad6-bc78-463d-b18d-08fb4cf20b09'\n",
    "entity_path = parent_path+'/entityTypes/'+entity_type_id\n",
    "\n",
    "entity_type_client = dialogflow.EntityTypesClient()\n",
    "# first get the entity to update then update one of is values\n",
    "#entity_to_update = get_entity_type\n",
    "#entity_to_update.display_name = \"organization 2\"\n",
    "entity_type_UUID = '8127cad6-bc78-463d-b18d-08fb4cf20b09'\n",
    "entity_type_to_update = get_entity_type\n",
    "entity_type_to_update.display_name='hello'\n",
    "\n",
    "entity_types: List[dialogflow.EntityType] = [entity_type_to_update]\n",
    "entity_types_batch = dialogflow.EntityTypeBatch(entity_types=entity_types)\n",
    "batch_update_entity_type_request = dialogflow.BatchUpdateEntityTypesRequest(parent=parent_path, entity_type_batch_inline=entity_types_batch)\n",
    "\n",
    "response = entity_type_client.batch_update_entity_types(batch_update_entity_type_request)"
   ]
  },
  {
   "cell_type": "raw",
   "id": "1760b768-345d-47b6-af65-a947166f14ab",
   "metadata": {},
   "source": [
    "# delete single entity type\n",
    "project_id = testing_project\n",
    "parent_path = 'projects/{}/agent'.format(project_id)\n",
    "\n",
    "entity_type_id = 'b556511c-3d03-489a-9b48-b48fb6a8fd1c'\n",
    "entity_path = parent_path+'/entityTypes/'+entity_type_id\n",
    "\n",
    "entity_client = dialogflow.EntityTypesClient()\n",
    "response = entity_client.delete_entity_type(name=entity_path)"
   ]
  },
  {
   "cell_type": "code",
   "execution_count": null,
   "id": "21e77651-12de-477c-a786-c8b068f44b99",
   "metadata": {},
   "outputs": [],
   "source": [
    "# Create an entity type\n",
    "project_id = testing_project\n",
    "parent_path = 'projects/{}/agent'.format(project_id)\n",
    "entity_type_path = 'projects/burgerbot-bskc-test-agent/agent/entityTypes/3e4a9d84-fae2-450c-bb91-557903cdf6fa'\n",
    "entity_value = 'WAMU'\n",
    "synonyms_list = ['Washington Mutual']\n",
    "\n",
    "# Note: synonyms must be exactly [entity_value] if the\n",
    "# entity_type's kind is KIND_LIST\n",
    "entity_client = dialogflow.EntityTypesClient()\n",
    "synonyms = synonyms or [entity_value]\n",
    "\n",
    "entity = dialogflow.EntityType.Entity()\n",
    "entity.value = entity_value\n",
    "entity.synonyms.extend(synonyms)\n",
    "print(entity)\n",
    "\n",
    "#batch_create_entities_request = dialogflow.BatchCreateEntitiesRequest(entity_type_path, [entity])\n",
    "#response = entity_client.batch_create_entities(batch_create_entities_request)\n",
    "response = entity_client.batch_create_entities(entity_type_path, [entity])\n",
    "print('Entity created: {}'.format(response))"
   ]
  },
  {
   "cell_type": "markdown",
   "id": "3a5d226d-171c-49b3-a03b-467cfb0ac75a",
   "metadata": {
    "tags": []
   },
   "source": [
    "## Documents"
   ]
  },
  {
   "cell_type": "code",
   "execution_count": null,
   "id": "67bc66d2-17c2-4fba-9178-98d604960f66",
   "metadata": {},
   "outputs": [],
   "source": [
    "# list documents\n",
    "project_id = main_project\n",
    "knowledge_base_id = 'MTY4NTMzMzczMjAyOTQ3MTEyOTY'\n",
    "\n",
    "doc_client = dialogflow.DocumentsClient()\n",
    "knowledge_base_path = kb_client.knowledge_base_path(project_id, knowledge_base_id)\n",
    "list_doc_response = doc_client.list_documents(parent=knowledge_base_path)\n",
    "#list_doc_response"
   ]
  },
  {
   "cell_type": "code",
   "execution_count": null,
   "id": "c6063ee1-3fc5-4f60-a166-368841453cb4",
   "metadata": {},
   "outputs": [],
   "source": [
    "# get document\n",
    "project_id = main_project\n",
    "\n",
    "doc_client = dialogflow.DocumentsClient()\n",
    "doc_name = list_doc_response.documents[1].name\n",
    "get_doc_response = doc_client.get_document(name=doc_name)"
   ]
  },
  {
   "cell_type": "markdown",
   "id": "463229e6-6616-4f6d-85e9-671e639e6996",
   "metadata": {},
   "source": [
    "## Knowledge Base"
   ]
  },
  {
   "cell_type": "code",
   "execution_count": null,
   "id": "284908b8-30c5-43c2-9b86-be8abe51d798",
   "metadata": {},
   "outputs": [],
   "source": [
    "#list_knowledge_bases\n",
    "project_id = main_project\n",
    "parent_path = 'projects/{}'.format(project_id)\n",
    "\n",
    "kb_client = dialogflow.KnowledgeBasesClient()\n",
    "kb_list = kb_client.list_knowledge_bases(parent=parent_path)"
   ]
  },
  {
   "cell_type": "code",
   "execution_count": null,
   "id": "c4be04e2-4ce2-46d2-8979-fe9616805275",
   "metadata": {},
   "outputs": [],
   "source": [
    "# get knowledge base\n",
    "project_id = main_project\n",
    "knowledge_base_id = 'MTY4NTMzMzczMjAyOTQ3MTEyOTY'\n",
    "\n",
    "kb_client = dialogflow.KnowledgeBasesClient()\n",
    "knowledge_base_path = kb_client.knowledge_base_path(project_id, knowledge_base_id)\n",
    "response = kb_client.get_knowledge_base(name=knowledge_base_path)\n",
    "\n",
    "print(\"Got Knowledge Base:\")\n",
    "print(\" - Display Name: {}\".format(response.display_name))\n",
    "print(\" - Knowledge ID: {}\".format(response.name))"
   ]
  },
  {
   "cell_type": "code",
   "execution_count": null,
   "id": "bf2c6bc6-0918-4ad0-8b72-7823a4625fef",
   "metadata": {},
   "outputs": [],
   "source": [
    "# create new empty knowledge base\n",
    "project_id = main_project\n",
    "parent_path = 'projects/{}'.format(project_id)\n",
    "new_kb_name = 'test2'\n",
    "\n",
    "kb_client = dialogflow.KnowledgeBasesClient()\n",
    "knowledge_base = dialogflow.KnowledgeBase(display_name=new_kb_name)\n",
    "response = kb_client.create_knowledge_base(parent=parent_path, knowledge_base=knowledge_base)"
   ]
  },
  {
   "cell_type": "code",
   "execution_count": null,
   "id": "565a4238-b0d7-4da4-8a02-037b5793233d",
   "metadata": {},
   "outputs": [],
   "source": [
    "# add document to new knowledge base\n",
    "project_id = main_project\n",
    "knowledge_base_id = 'NTYxMjM1MjY1MDM3Nzk1MzI4MA'\n",
    "display_name = get_doc_response.display_name\n",
    "mime_type = get_doc_response.mime_type\n",
    "raw_content = get_doc_response.raw_content\n",
    "knowledge_type = 'FAQ'\n",
    "\n",
    "\n",
    "doc_client = dialogflow.DocumentsClient()\n",
    "knowledge_base_path = dialogflow.KnowledgeBasesClient.knowledge_base_path(project_id, knowledge_base_id)\n",
    "document = dialogflow.Document(display_name=display_name, mime_type=mime_type, raw_content=raw_content)\n",
    "document.knowledge_types.append(getattr(dialogflow.Document.KnowledgeType, knowledge_type))\n",
    "response = doc_client.create_document(parent=knowledge_base_path, document=document)\n",
    "print(\"Waiting for results...\")\n",
    "document = response.result(timeout=120)\n",
    "print(\"Created Document:\")\n",
    "print(\" - Display Name: {}\".format(document.display_name))\n",
    "print(\" - Knowledge ID: {}\".format(document.name))\n"
   ]
  },
  {
   "cell_type": "markdown",
   "id": "e413f00a-c0b3-4442-a5bb-b961c304fe41",
   "metadata": {},
   "source": [
    "## Other"
   ]
  },
  {
   "cell_type": "markdown",
   "id": "b8a7f09f-2384-47ae-ae4a-2b96bcc95477",
   "metadata": {},
   "source": [
    "### Compare Language Files"
   ]
  },
  {
   "cell_type": "code",
   "execution_count": 286,
   "id": "849426c3-a8fb-4cca-888f-064895614bc7",
   "metadata": {},
   "outputs": [],
   "source": [
    "import zipfile\n",
    "from os import listdir\n",
    "from os.path import isfile, join\n",
    "\n",
    "path_to_zip_file = 'data/export/Dolores_training_exp.zip'\n",
    "path_to_extract = 'data/export/2022_02_02/'\n",
    "\n",
    "with zipfile.ZipFile(path_to_zip_file, 'r') as zip_ref:\n",
    "    zip_ref.extractall(path_to_extract)"
   ]
  },
  {
   "cell_type": "code",
   "execution_count": 287,
   "id": "d1a000a1-a898-4229-bc97-0396355b4dd3",
   "metadata": {},
   "outputs": [
    {
     "data": {
      "text/plain": [
       "['!cancel_intent.json',\n",
       " '!cancel_intent_usersays_en.json',\n",
       " '!no_intent.json',\n",
       " '!no_intent_usersays_en.json',\n",
       " '!submit_intent.json',\n",
       " '!submit_intent_usersays_en.json',\n",
       " '!yes_intent.json',\n",
       " '!yes_intent_usersays_en.json',\n",
       " 'cme.1.0-callme_entry.json',\n",
       " 'cme.1.0-callme_entry_usersays_en-au.json',\n",
       " 'cme.1.0-callme_entry_usersays_en-us.json',\n",
       " 'cme.1.0-callme_entry_usersays_en.json',\n",
       " 'cme.3.1-callme_cancel.json',\n",
       " 'cme.3.1-callme_cancel_usersays_en-au.json',\n",
       " 'cme.3.1-callme_cancel_usersays_en-us.json',\n",
       " 'cme.3.1-callme_cancel_usersays_en.json',\n",
       " 'cme.3.2-callme_country_not_found.json',\n",
       " 'cme.3.2-callme_country_not_found_usersays_en-au.json',\n",
       " 'cme.3.2-callme_country_not_found_usersays_en-us.json',\n",
       " 'cme.3.2-callme_country_not_found_usersays_en.json']"
      ]
     },
     "execution_count": 287,
     "metadata": {},
     "output_type": "execute_result"
    }
   ],
   "source": [
    "mypath = path_to_extract+'/intents/'\n",
    "onlyfiles = [f for f in listdir(mypath) if isfile(join(mypath, f))]\n",
    "onlyfiles[0:20]"
   ]
  },
  {
   "cell_type": "code",
   "execution_count": 288,
   "id": "b581c2f8-6c2b-477f-8fd4-64b252297a44",
   "metadata": {},
   "outputs": [],
   "source": [
    "user_says_en = [x for x in onlyfiles if '_usersays_en' in x and '_usersays_en-au' not in x and '_usersays_en-us' not in x]\n",
    "user_says_en_au = [x for x in onlyfiles if '_usersays_en-au' in x]\n",
    "user_says_en_us = [x for x in onlyfiles if '_usersays_en-us' in x]"
   ]
  },
  {
   "cell_type": "code",
   "execution_count": 293,
   "id": "9e2dfb37-efde-4d64-839e-a8f56abca379",
   "metadata": {},
   "outputs": [
    {
     "name": "stdout",
     "output_type": "stream",
     "text": [
      "EN rows: 346\n",
      "AU rows: 342\n",
      "US rows: 342\n"
     ]
    }
   ],
   "source": [
    "print(\"EN rows:\", len(user_says_en))\n",
    "print(\"AU rows:\", len(user_says_en_au))\n",
    "print(\"US rows:\", len(user_says_en_us))"
   ]
  },
  {
   "cell_type": "code",
   "execution_count": 294,
   "id": "dc69b4a6-d737-4c50-ace9-81cf1f443db8",
   "metadata": {},
   "outputs": [],
   "source": [
    "import re\n",
    "\n",
    "def extract_intent_phrases(intent_json_list):\n",
    "    regex = r\"(_usersays_).*$\"\n",
    "    subst = \"\"\n",
    "    extracted_data = []\n",
    "    dict_data = {}\n",
    "    for file in intent_json_list:\n",
    "        json_file_path = 'data/export/2022_02_02/intents/{}'.format(file)\n",
    "        f = open(json_file_path, 'r', encoding='utf-8')\n",
    "        data = json.load(f)\n",
    "        intent_info_list = []\n",
    "        for i in range(len(data)):\n",
    "            id_info = data[i]['id']\n",
    "            text_info = data[i]['data'][0]['text']\n",
    "            intent_info = [id_info, text_info]\n",
    "            intent_info_list.append(intent_info)\n",
    "        \n",
    "        cleaned_name =  re.sub(regex, subst, file, 0, re.MULTILINE)\n",
    "        dict_data[cleaned_name] = intent_info_list\n",
    "        #extracted_data.append(data)\n",
    "    return dict_data"
   ]
  },
  {
   "cell_type": "code",
   "execution_count": 295,
   "id": "abee5bef-a109-4001-8e20-6e1c9a5b5864",
   "metadata": {},
   "outputs": [],
   "source": [
    "intent_info_list = []\n",
    "for i in range(len(data)):\n",
    "    id_info = data[i]['id']\n",
    "    text_info = data[i]['data'][0]['text']\n",
    "    intent_info = [id_info, text_info]\n",
    "    intent_info_list.append(intent_info)\n",
    "    #dict_t['faq.1.00-account.signing.out'] = intent_info\n",
    "    \n",
    "dict_t['faq.1.00-account.signing.out'] = intent_info_list"
   ]
  },
  {
   "cell_type": "code",
   "execution_count": 296,
   "id": "bab87264-2a45-47dd-aad6-e88c8b77d407",
   "metadata": {},
   "outputs": [],
   "source": [
    "en_data = extract_intent_phrases(user_says_en)\n",
    "en_au_data = extract_intent_phrases(user_says_en_au)\n",
    "en_us_data = extract_intent_phrases(user_says_en_us)"
   ]
  },
  {
   "cell_type": "code",
   "execution_count": 297,
   "id": "8ef151c3-084e-46e9-9541-b5ea8ddd96bf",
   "metadata": {},
   "outputs": [],
   "source": [
    "def getList(dict):\n",
    "    return list(dict.keys())"
   ]
  },
  {
   "cell_type": "code",
   "execution_count": 298,
   "id": "5d557beb-6acb-4285-b815-e32f518fce02",
   "metadata": {},
   "outputs": [],
   "source": [
    "intents_en = (getList(en_data))\n",
    "intents_en_au = (getList(en_au_data))\n",
    "intents_en_us = (getList(en_us_data))"
   ]
  },
  {
   "cell_type": "code",
   "execution_count": 299,
   "id": "5377b36c-0e1b-4d9d-96de-40fa3df512aa",
   "metadata": {},
   "outputs": [],
   "source": [
    "full_list_intents = list(set(intents_en + intents_en_au + intents_en_us))"
   ]
  },
  {
   "cell_type": "code",
   "execution_count": 300,
   "id": "c7f1a0b8-18dd-41a7-9d4f-b3806de7244b",
   "metadata": {},
   "outputs": [],
   "source": [
    "full_list_intents.sort()"
   ]
  },
  {
   "cell_type": "code",
   "execution_count": 301,
   "id": "74971870-3122-4f25-a5e0-90afb3957dc0",
   "metadata": {},
   "outputs": [
    {
     "name": "stdout",
     "output_type": "stream",
     "text": [
      "False\n",
      "0\n",
      "False\n",
      "1\n",
      "False\n",
      "2\n",
      "False\n",
      "3\n"
     ]
    }
   ],
   "source": [
    "#verify that all en phrases, au and us phrases have all the same ids\n",
    "\n",
    "i = 0\n",
    "for intent in full_list_intents:\n",
    "    en = en_data.get(intent)\n",
    "    au = en_au_data.get(intent)\n",
    "    us = en_us_data.get(intent)\n",
    "    \n",
    "    \n",
    "    #check if intent exists exists and lengths of intents are same\n",
    "    if (au and en and us) and (len(en) == len(au) and len(au) == len(us)) :\n",
    "        #print(True)\n",
    "        for j in range(len(en)):\n",
    "            a = en[j][1]\n",
    "            b = au[j][1]\n",
    "            c = us[j][1]\n",
    "            if a!=b or b!=c:\n",
    "                #print(True)\n",
    "                print('intent:',i, intent)\n",
    "                print('en!=au:',a!=b)\n",
    "                print('au!=us:',b!=c)\n",
    "            \n",
    "        i += 1\n",
    "    else:\n",
    "        print(False)\n",
    "        print(i)\n",
    "        i += 1\n",
    "    "
   ]
  },
  {
   "cell_type": "code",
   "execution_count": 302,
   "id": "60b7ed17-4fa9-4300-97d9-de4e320318d4",
   "metadata": {},
   "outputs": [],
   "source": [
    "en = en_data.get('roe.1.0-talk_to_human_entry')\n",
    "au = en_au_data.get('roe.1.0-talk_to_human_entry')\n",
    "us = en_us_data.get('roe.1.0-talk_to_human_entry')"
   ]
  },
  {
   "cell_type": "code",
   "execution_count": 303,
   "id": "163e122c-9edf-4d9f-8535-94c2955de4e1",
   "metadata": {},
   "outputs": [
    {
     "data": {
      "text/plain": [
       "729"
      ]
     },
     "execution_count": 303,
     "metadata": {},
     "output_type": "execute_result"
    }
   ],
   "source": [
    "len(en)"
   ]
  },
  {
   "cell_type": "code",
   "execution_count": 304,
   "id": "86778549-a805-4486-92cc-58d594de1ff7",
   "metadata": {},
   "outputs": [
    {
     "data": {
      "text/plain": [
       "729"
      ]
     },
     "execution_count": 304,
     "metadata": {},
     "output_type": "execute_result"
    }
   ],
   "source": [
    "len(au)"
   ]
  },
  {
   "cell_type": "code",
   "execution_count": 305,
   "id": "1c98d184-01a6-4b8b-835f-1ddfc6186414",
   "metadata": {},
   "outputs": [
    {
     "data": {
      "text/plain": [
       "729"
      ]
     },
     "execution_count": 305,
     "metadata": {},
     "output_type": "execute_result"
    }
   ],
   "source": [
    "len(us)"
   ]
  },
  {
   "cell_type": "code",
   "execution_count": 306,
   "id": "3ab5c3c1-b1c1-4bed-a00b-11822cb187f3",
   "metadata": {},
   "outputs": [
    {
     "name": "stdout",
     "output_type": "stream",
     "text": [
      "0\n",
      "d98757e9-3de8-40a0-ab6f-63f7dc174bac\n",
      "1\n",
      "f629b3c3-7626-4095-a329-c16f5fdcd6c2\n"
     ]
    }
   ],
   "source": [
    "for i in range(len(en)):\n",
    "    if en[i][0] != au[i][0]:\n",
    "        print(i)\n",
    "        print(au[i][0])"
   ]
  },
  {
   "cell_type": "code",
   "execution_count": 307,
   "id": "7513d172-e43e-42fa-af01-01be83548a90",
   "metadata": {},
   "outputs": [
    {
     "name": "stdout",
     "output_type": "stream",
     "text": [
      "0\n",
      "45858a04-f7eb-4afe-acdf-706970126dad\n",
      "1\n",
      "206bfa58-d468-4cd4-8302-1070508eb82d\n"
     ]
    }
   ],
   "source": [
    "for i in range(len(en)):\n",
    "    if en[i][0] != us[i][0]:\n",
    "        print(i)\n",
    "        print(us[i][0])"
   ]
  },
  {
   "cell_type": "code",
   "execution_count": 308,
   "id": "db0b173e-cdc2-4406-a61e-1f235b21f59f",
   "metadata": {},
   "outputs": [
    {
     "name": "stdout",
     "output_type": "stream",
     "text": [
      "0\n",
      "d98757e9-3de8-40a0-ab6f-63f7dc174bac\n",
      "1\n",
      "f629b3c3-7626-4095-a329-c16f5fdcd6c2\n"
     ]
    }
   ],
   "source": [
    "for i in range(len(en)):\n",
    "    if au[i][0] != us[i][0]:\n",
    "        print(i)\n",
    "        print(au[i][0])"
   ]
  },
  {
   "cell_type": "code",
   "execution_count": 282,
   "id": "da033336-e38e-415e-827e-3a504bb1f458",
   "metadata": {},
   "outputs": [
    {
     "data": {
      "text/plain": [
       "'2de74b71-1147-4c56-8f2a-52932dfa00e0'"
      ]
     },
     "execution_count": 282,
     "metadata": {},
     "output_type": "execute_result"
    }
   ],
   "source": [
    "en[0][0]"
   ]
  },
  {
   "cell_type": "code",
   "execution_count": 283,
   "id": "3a8b2dd8-a194-4d9e-a46f-52930db3753f",
   "metadata": {},
   "outputs": [
    {
     "data": {
      "text/plain": [
       "'d98757e9-3de8-40a0-ab6f-63f7dc174bac'"
      ]
     },
     "execution_count": 283,
     "metadata": {},
     "output_type": "execute_result"
    }
   ],
   "source": [
    "au[0][0]"
   ]
  },
  {
   "cell_type": "code",
   "execution_count": 284,
   "id": "ad27e386-836d-46ea-8e33-6a8bf1082483",
   "metadata": {},
   "outputs": [
    {
     "data": {
      "text/plain": [
       "'45858a04-f7eb-4afe-acdf-706970126dad'"
      ]
     },
     "execution_count": 284,
     "metadata": {},
     "output_type": "execute_result"
    }
   ],
   "source": [
    "us[0][0]"
   ]
  },
  {
   "cell_type": "code",
   "execution_count": 271,
   "id": "aaa33d3c-80b8-4596-b923-936151f9c76d",
   "metadata": {},
   "outputs": [
    {
     "data": {
      "text/plain": [
       "'Resolve unpaid items'"
      ]
     },
     "execution_count": 271,
     "metadata": {},
     "output_type": "execute_result"
    }
   ],
   "source": [
    "en[0][1]"
   ]
  },
  {
   "cell_type": "code",
   "execution_count": 267,
   "id": "fa088d59-74e0-4348-81cb-b667a76a0d5b",
   "metadata": {},
   "outputs": [
    {
     "data": {
      "text/plain": [
       "'Call us'"
      ]
     },
     "execution_count": 267,
     "metadata": {},
     "output_type": "execute_result"
    }
   ],
   "source": [
    "au[1][1]"
   ]
  },
  {
   "cell_type": "markdown",
   "id": "215e3701-a6a9-4376-8235-9f1e15b92bcf",
   "metadata": {},
   "source": [
    "### Extract Phrases from Intents"
   ]
  },
  {
   "cell_type": "code",
   "execution_count": null,
   "id": "34ec6756-8f12-4ce2-9ba8-1899ef0e8818",
   "metadata": {},
   "outputs": [],
   "source": [
    "# load libraries\n",
    "import re\n",
    "import os\n",
    "import zipfile\n",
    "from os import listdir\n",
    "from os.path import isfile, join"
   ]
  },
  {
   "cell_type": "code",
   "execution_count": null,
   "id": "97683ef1-bf4e-47d3-8ab2-f7c56c204e61",
   "metadata": {},
   "outputs": [],
   "source": [
    "# extract files out of zip\n",
    "\n",
    "path_to_zip_file = 'data/export/Dolores_training_exp.zip'\n",
    "path_to_extract = 'data/export/2022_02_02/'\n",
    "\n",
    "with zipfile.ZipFile(path_to_zip_file, 'r') as zip_ref:\n",
    "    zip_ref.extractall(path_to_extract)"
   ]
  },
  {
   "cell_type": "code",
   "execution_count": 311,
   "id": "9ca1c52e-a670-475e-bfd8-ee069965bdae",
   "metadata": {},
   "outputs": [
    {
     "data": {
      "text/plain": [
       "['!cancel_intent.json',\n",
       " '!cancel_intent_usersays_en.json',\n",
       " '!no_intent.json',\n",
       " '!no_intent_usersays_en.json',\n",
       " '!submit_intent.json']"
      ]
     },
     "execution_count": 311,
     "metadata": {},
     "output_type": "execute_result"
    }
   ],
   "source": [
    "# get a list of all intent json files\n",
    "\n",
    "mypath = path_to_extract+'/intents/'\n",
    "onlyfiles = [f for f in listdir(mypath) if isfile(join(mypath, f))]\n",
    "onlyfiles[0:5]"
   ]
  },
  {
   "cell_type": "code",
   "execution_count": 312,
   "id": "47b9c3e0-d2a5-48c4-99ae-52faeab7da70",
   "metadata": {},
   "outputs": [
    {
     "name": "stdout",
     "output_type": "stream",
     "text": [
      "EN rows: 346\n",
      "AU rows: 342\n",
      "US rows: 342\n"
     ]
    }
   ],
   "source": [
    "# filter the list of intent json files by en, au, us\n",
    "\n",
    "user_says_en = [x for x in onlyfiles if '_usersays_en' in x and '_usersays_en-au' not in x and '_usersays_en-us' not in x]\n",
    "user_says_en_au = [x for x in onlyfiles if '_usersays_en-au' in x]\n",
    "user_says_en_us = [x for x in onlyfiles if '_usersays_en-us' in x]\n",
    "print(\"EN rows:\", len(user_says_en))\n",
    "print(\"AU rows:\", len(user_says_en_au))\n",
    "print(\"US rows:\", len(user_says_en_us))"
   ]
  },
  {
   "cell_type": "code",
   "execution_count": 323,
   "id": "5ff4577f-1e82-4c27-83d2-c37f717776d4",
   "metadata": {},
   "outputs": [],
   "source": [
    "# extract intent name, intent ids and intent phrases\n",
    "\n",
    "def extract_intent_phrases(intent_json_list):\n",
    "    regex = r\"(_usersays_).*$\"\n",
    "    subst = \"\"\n",
    "    extracted_data = []\n",
    "    dict_data = {}\n",
    "    for file in intent_json_list:\n",
    "        json_file_path = 'data/export/2022_02_02/intents/{}'.format(file)\n",
    "        f = open(json_file_path, 'r', encoding='utf-8')\n",
    "        data = json.load(f)\n",
    "        intent_info_list = []\n",
    "        for i in range(len(data)):\n",
    "            id_info = data[i]['id']\n",
    "            text_info = data[i]['data'][0]['text']\n",
    "            intent_info = [id_info, text_info]\n",
    "            intent_info_list.append(intent_info)\n",
    "        \n",
    "        cleaned_name =  re.sub(regex, subst, file, 0, re.MULTILINE)\n",
    "        dict_data[cleaned_name] = intent_info_list\n",
    "        #extracted_data.append(data)\n",
    "    return dict_data\n",
    "\n",
    "'''\n",
    "intent_info_list = []\n",
    "for i in range(len(data)):\n",
    "    id_info = data[i]['id']\n",
    "    text_info = data[i]['data'][0]['text']\n",
    "    intent_info = [id_info, text_info]\n",
    "    intent_info_list.append(intent_info)\n",
    "'''    \n",
    "\n",
    "en_data = extract_intent_phrases(user_says_en)\n",
    "#en_au_data = extract_intent_phrases(user_says_en_au)\n",
    "#en_us_data = extract_intent_phrases(user_says_en_us)"
   ]
  },
  {
   "cell_type": "code",
   "execution_count": 347,
   "id": "98201ec9-f6b0-49ee-9eba-2d7ae4684404",
   "metadata": {},
   "outputs": [],
   "source": [
    "def getList(dict):\n",
    "    return list(dict.keys())\n",
    "\n",
    "intents_names_en = (getList(en_data))"
   ]
  },
  {
   "cell_type": "code",
   "execution_count": 360,
   "id": "d112fe25-90ca-4f77-a976-42e992914594",
   "metadata": {},
   "outputs": [],
   "source": [
    "intent_ids = []\n",
    "intent_names = []\n",
    "intent_phrases = []\n",
    "\n",
    "\n",
    "for intent in intents_names_en:\n",
    "    data = en_data[intent]\n",
    "    intent_name_list = []\n",
    "    intent_phrase_list = []\n",
    "    intent_id_list = []\n",
    "\n",
    "    for i in range(len(data)):\n",
    "        intent_id = data[i][0]\n",
    "        intent_phrase = data[i][1]\n",
    "\n",
    "        intent_id_list.append(intent_id)\n",
    "        intent_phrase_list.append(intent_phrase)\n",
    "        intent_name_list.append(intent)\n",
    "    \n",
    "    intent_names.append(intent_name_list)\n",
    "    intent_phrases.append(intent_phrase_list)\n",
    "    intent_ids.append(intent_id_list)\n",
    "        \n",
    "    \n",
    "flat_intent_names = [item for sublist in intent_names for item in sublist]\n",
    "flat_intent_phrases = [item for sublist in intent_phrases for item in sublist]\n",
    "flat_intend_ids = [item for sublist in intent_ids for item in sublist]\n",
    "\n",
    "pd_data = list(zip(flat_intent_names,flat_intent_phrases, flat_intend_ids))"
   ]
  },
  {
   "cell_type": "code",
   "execution_count": 365,
   "id": "d5f6d2e4-85bf-4796-b3e7-60b1d4f42eb2",
   "metadata": {},
   "outputs": [
    {
     "data": {
      "text/html": [
       "<div>\n",
       "<style scoped>\n",
       "    .dataframe tbody tr th:only-of-type {\n",
       "        vertical-align: middle;\n",
       "    }\n",
       "\n",
       "    .dataframe tbody tr th {\n",
       "        vertical-align: top;\n",
       "    }\n",
       "\n",
       "    .dataframe thead th {\n",
       "        text-align: right;\n",
       "    }\n",
       "</style>\n",
       "<table border=\"1\" class=\"dataframe\">\n",
       "  <thead>\n",
       "    <tr style=\"text-align: right;\">\n",
       "      <th></th>\n",
       "      <th>intent_name</th>\n",
       "      <th>phrase</th>\n",
       "      <th>id</th>\n",
       "    </tr>\n",
       "  </thead>\n",
       "  <tbody>\n",
       "    <tr>\n",
       "      <th>0</th>\n",
       "      <td>!cancel_intent</td>\n",
       "      <td>Why are you replying with nothing to do with m...</td>\n",
       "      <td>ec598522-2f4c-4b0f-a076-25d1c97dae62</td>\n",
       "    </tr>\n",
       "    <tr>\n",
       "      <th>1</th>\n",
       "      <td>!cancel_intent</td>\n",
       "      <td>abandon</td>\n",
       "      <td>f59490aa-1f0e-46e7-a6db-e6a41042c6ca</td>\n",
       "    </tr>\n",
       "    <tr>\n",
       "      <th>2</th>\n",
       "      <td>!cancel_intent</td>\n",
       "      <td>break</td>\n",
       "      <td>751c7ac7-668b-4dad-9838-910057386b52</td>\n",
       "    </tr>\n",
       "    <tr>\n",
       "      <th>3</th>\n",
       "      <td>!cancel_intent</td>\n",
       "      <td>cancel</td>\n",
       "      <td>03fe1499-e697-4fdd-864f-7680f688158c</td>\n",
       "    </tr>\n",
       "    <tr>\n",
       "      <th>4</th>\n",
       "      <td>!cancel_intent</td>\n",
       "      <td>cancle</td>\n",
       "      <td>7550224d-9c8b-4435-abe6-1e49e114a899</td>\n",
       "    </tr>\n",
       "  </tbody>\n",
       "</table>\n",
       "</div>"
      ],
      "text/plain": [
       "      intent_name                                             phrase  \\\n",
       "0  !cancel_intent  Why are you replying with nothing to do with m...   \n",
       "1  !cancel_intent                                            abandon   \n",
       "2  !cancel_intent                                              break   \n",
       "3  !cancel_intent                                             cancel   \n",
       "4  !cancel_intent                                             cancle   \n",
       "\n",
       "                                     id  \n",
       "0  ec598522-2f4c-4b0f-a076-25d1c97dae62  \n",
       "1  f59490aa-1f0e-46e7-a6db-e6a41042c6ca  \n",
       "2  751c7ac7-668b-4dad-9838-910057386b52  \n",
       "3  03fe1499-e697-4fdd-864f-7680f688158c  \n",
       "4  7550224d-9c8b-4435-abe6-1e49e114a899  "
      ]
     },
     "execution_count": 365,
     "metadata": {},
     "output_type": "execute_result"
    }
   ],
   "source": [
    "output_df = pd.DataFrame(pd_data, columns=['intent_name', 'phrase', 'id'])\n",
    "output_df.head()"
   ]
  },
  {
   "cell_type": "code",
   "execution_count": 367,
   "id": "974c22d7-4ee8-4b3f-a94c-e3c3511bec25",
   "metadata": {},
   "outputs": [],
   "source": [
    "output_df.to_excel('data/output/intent_phrases/intent_phrases.xlsx', index=False)"
   ]
  },
  {
   "cell_type": "code",
   "execution_count": null,
   "id": "edf7b67f-5918-4fdd-998e-f7fb89b6e738",
   "metadata": {},
   "outputs": [],
   "source": []
  },
  {
   "cell_type": "code",
   "execution_count": null,
   "id": "e6c48cb7-e41c-44f1-b0db-c40c5b29c0f0",
   "metadata": {},
   "outputs": [],
   "source": []
  },
  {
   "cell_type": "code",
   "execution_count": 350,
   "id": "996fc818-c711-498c-b2df-699bd6c70e9c",
   "metadata": {},
   "outputs": [
    {
     "data": {
      "text/plain": [
       "['vrp.5.8-vrp_item_without_case_seller_upi']"
      ]
     },
     "execution_count": 350,
     "metadata": {},
     "output_type": "execute_result"
    }
   ],
   "source": [
    "intent_name_list"
   ]
  },
  {
   "cell_type": "code",
   "execution_count": 351,
   "id": "4c250d68-31e6-4283-bc38-cbb63b6fd6ce",
   "metadata": {},
   "outputs": [
    {
     "data": {
      "text/plain": [
       "['Resolve unpaid items']"
      ]
     },
     "execution_count": 351,
     "metadata": {},
     "output_type": "execute_result"
    }
   ],
   "source": [
    "intent_phrase_list"
   ]
  },
  {
   "cell_type": "code",
   "execution_count": 352,
   "id": "67d8f317-3689-4583-b26a-e312783d0b8d",
   "metadata": {},
   "outputs": [
    {
     "data": {
      "text/plain": [
       "['8172bf16-af7e-47ba-8915-1670b56d41ca']"
      ]
     },
     "execution_count": 352,
     "metadata": {},
     "output_type": "execute_result"
    }
   ],
   "source": [
    "intent_id_list"
   ]
  },
  {
   "cell_type": "code",
   "execution_count": 339,
   "id": "a711f674-94ab-4f01-9392-c5eb8aef0219",
   "metadata": {},
   "outputs": [
    {
     "data": {
      "text/plain": [
       "[['70109a19-adfa-438c-ab41-8fc69c9b2e7d', 'call me'],\n",
       " ['776c810c-440e-4ebb-8844-a10c6e44db39', 'have us call you'],\n",
       " ['403140ef-e12f-4718-a074-a3e1e9f38394', 'Have us call you']]"
      ]
     },
     "execution_count": 339,
     "metadata": {},
     "output_type": "execute_result"
    }
   ],
   "source": [
    "data = en_data['cme.1.0-callme_entry']\n",
    "data"
   ]
  },
  {
   "cell_type": "code",
   "execution_count": 343,
   "id": "6df9f371-e649-4af8-8202-6ec2421b8ba1",
   "metadata": {},
   "outputs": [],
   "source": [
    "intent_name_list = []\n",
    "intent_phrase_list = []\n",
    "intent_id_list = []\n",
    "\n",
    "for i in range(len(data)):\n",
    "    intent_id = data[i][0]\n",
    "    intent_phrase = data[i][1]\n",
    "    \n",
    "    intent_id_list.append(intent_id)\n",
    "    intent_phrase_list.append(intent_phrase)\n",
    "    \n",
    "    \n",
    "    "
   ]
  },
  {
   "cell_type": "code",
   "execution_count": 344,
   "id": "5389453a-fee2-4d3c-81d3-7990d6bbef0d",
   "metadata": {},
   "outputs": [
    {
     "data": {
      "text/plain": [
       "['70109a19-adfa-438c-ab41-8fc69c9b2e7d',\n",
       " '776c810c-440e-4ebb-8844-a10c6e44db39',\n",
       " '403140ef-e12f-4718-a074-a3e1e9f38394']"
      ]
     },
     "execution_count": 344,
     "metadata": {},
     "output_type": "execute_result"
    }
   ],
   "source": [
    "intent_id_list"
   ]
  },
  {
   "cell_type": "code",
   "execution_count": 336,
   "id": "7c1e5c64-fcfe-4e75-bd75-083d9eae847c",
   "metadata": {},
   "outputs": [
    {
     "data": {
      "text/plain": [
       "['!cancel_intent',\n",
       " '!no_intent',\n",
       " '!submit_intent',\n",
       " '!yes_intent',\n",
       " 'cme.1.0-callme_entry',\n",
       " 'cme.3.1-callme_cancel',\n",
       " 'cme.3.2-callme_country_not_found',\n",
       " 'cme.3.3.1-callme_change_phone_number_continue',\n",
       " 'cme.5.0-callme_default_fallback',\n",
       " 'cme.5.1-callme_no_longer_want_call',\n",
       " 'cnt.1-cnt_entry_guest_cancel_buyer',\n",
       " 'cnt.1-cnt_entry_guest_cancel_seller',\n",
       " 'cnt.1-cnt_entry',\n",
       " 'cnt.3.0-cnt_display_no',\n",
       " 'cnt.3.0-cnt_display_yes',\n",
       " 'cnt.6.2-cnt_rtn',\n",
       " 'cnt.6.4-cnt_rcs',\n",
       " 'cnt.7.1-cnt_submission_submit',\n",
       " 'cnt.7.2-cnt_submission_cancel',\n",
       " 'cts.1-cts_entry',\n",
       " 'cts.3.0-cts_display_no',\n",
       " 'cts.3.0-cts_display_yes',\n",
       " 'cts.5.1-cts_item_without_case_cnt',\n",
       " 'cts.5.2-cts_item_without_case_rtn',\n",
       " 'cts.5.3-cts_item_without_case_inr',\n",
       " 'cts.5.4-cts_item_without_case_sdm',\n",
       " 'cts.7.1-cts_submission_submit',\n",
       " 'cts.7.2-cts_submission_cancel',\n",
       " 'default_cancel',\n",
       " 'default_dont_see_item_already_tried_that',\n",
       " 'default_dont_see_item_next_step_buyer',\n",
       " 'default_dont_see_item_next_step_seller',\n",
       " 'default_dont_see_item_next_step_unsure',\n",
       " 'default_dont_see_item',\n",
       " 'default_no_case_found_no',\n",
       " 'default_no_case_found_yes',\n",
       " 'ext.1-help.menu',\n",
       " 'faq.1-shipment_issue',\n",
       " 'faq.1.00-account.balance',\n",
       " 'faq.1.00-account.confirm.identity',\n",
       " 'faq.1.00-account.notifications',\n",
       " 'faq.1.00-account.password',\n",
       " 'faq.1.00-account.signing.out',\n",
       " 'faq.1.00-add.categories',\n",
       " 'faq.1.00-advanced.search',\n",
       " 'faq.1.00-ato.transaction',\n",
       " 'faq.1.00-bidding',\n",
       " 'faq.1.00-buyer.appeal.UPI',\n",
       " 'faq.1.00-buyer.has.not.returned.item',\n",
       " 'faq.1.00-buyer.refused.delivery',\n",
       " 'faq.1.00-buyer.returned.item.damaged',\n",
       " 'faq.1.00-buying.best.offers',\n",
       " 'faq.1.00-buying.coupons.vouchers',\n",
       " 'faq.1.00-buying.embg',\n",
       " 'faq.1.00-buying.limits',\n",
       " 'faq.1.00-buying.retract.bid',\n",
       " 'faq.1.00-buying.selling.for.ebay.charity',\n",
       " 'faq.1.00-buying.selling.restricted',\n",
       " 'faq.1.00-buying.suspended.seller',\n",
       " 'faq.1.00-buying.watch.list',\n",
       " 'faq.1.00-buying',\n",
       " 'faq.1.00-cancel.buyer.bid',\n",
       " 'faq.1.00-canceled.order.payment.issue',\n",
       " 'faq.1.00-card.charged.multiple.times',\n",
       " 'faq.1.00-change.delivery.address.after.sale',\n",
       " 'faq.1.00-change.delivery.method.costs.after.sale',\n",
       " 'faq.1.00-check.status.no.tracking',\n",
       " 'faq.1.00-click.collect',\n",
       " 'faq.1.00-close.hide.chat',\n",
       " 'faq.1.00-counter.offer.buyer',\n",
       " 'faq.1.00-counter.offer.seller',\n",
       " 'faq.1.00-different.account.buyer.seller',\n",
       " 'faq.1.00-ebay.app',\n",
       " 'faq.1.00-ebay.bucks',\n",
       " 'faq.1.00-eBay.messages',\n",
       " 'faq.1.00-eBay.partner.network',\n",
       " 'faq.1.00-ebay.plus',\n",
       " 'faq.1.00-ebay.policy',\n",
       " 'faq.1.00-eBay.shop.fees',\n",
       " 'faq.1.00-est.delivery.dates.buyers',\n",
       " 'faq.1.00-est.delivery.dates.sellers',\n",
       " 'faq.1.00-excessive.postage',\n",
       " 'faq.1.00-fee.deferral',\n",
       " 'faq.1.00-feedback.abuse',\n",
       " 'faq.1.00-feedback.for.buyers',\n",
       " 'faq.1.00-finding.listing',\n",
       " 'faq.1.00-fraud.avoidance',\n",
       " 'faq.1.00-giftcard.issues',\n",
       " 'faq.1.00-group.account.changes',\n",
       " 'faq.1.00-group.best.offer.counter.offer',\n",
       " 'faq.1.00-group.feedback',\n",
       " 'faq.1.00-group.fees',\n",
       " 'faq.1.00-group.fraud',\n",
       " 'faq.1.00-group.money',\n",
       " 'faq.1.00-group.paypal',\n",
       " 'faq.1.00-group.photos',\n",
       " 'faq.1.00-group.shipping.combined.postage',\n",
       " 'faq.1.00-group.shipping.return.postage',\n",
       " 'faq.1.00-group.wrong.address',\n",
       " 'faq.1.00-GSP',\n",
       " 'faq.1.00-handling.returns',\n",
       " 'faq.1.00-helping.buyers.with.inr',\n",
       " 'faq.1.00-how.inr.works',\n",
       " 'faq.1.00-how.returns.work',\n",
       " 'faq.1.00-how.to.refund.a.buyer',\n",
       " 'faq.1.00-http.active.content',\n",
       " 'faq.1.00-Item.stuck.customs',\n",
       " 'faq.1.00-local.pickup',\n",
       " 'faq.1.00-managed.payments.bank.account.details',\n",
       " 'faq.1.00-managed.payments.handling.buyer.disputes',\n",
       " 'faq.1.00-managed.payments.intro',\n",
       " 'faq.1.00-managed.payments.updated.listings',\n",
       " 'faq.1.00-managed.payments.verification',\n",
       " 'faq.1.00-mark.as.sold',\n",
       " 'faq.1.00-marked.as.delivered',\n",
       " 'faq.1.00-member.opened.wrong.case',\n",
       " 'faq.1.00-member.to.member.abuse',\n",
       " 'faq.1.00-more.than.90.buyer',\n",
       " 'faq.1.00-more.than.90.seller',\n",
       " 'faq.1.00-no.buyer.response',\n",
       " 'faq.1.00-no.response.to.cancel.order',\n",
       " 'faq.1.00-non.gsp.purchase',\n",
       " 'faq.1.00-open.another.account',\n",
       " 'faq.1.00-packlink.issue',\n",
       " 'faq.1.00-page.views',\n",
       " 'faq.1.00-partial_refund',\n",
       " 'faq.1.00-pay.for.removed.item',\n",
       " 'faq.1.00-pay.multiple.sellers.items',\n",
       " 'faq.1.00-payment.error.at.checkout',\n",
       " 'faq.1.00-payment.on.hold',\n",
       " 'faq.1.00-photo.adding.replacing',\n",
       " 'faq.1.00-photo.tips',\n",
       " 'faq.1.00-photo.trouble',\n",
       " 'faq.1.00-private.listing',\n",
       " 'faq.1.00-product.identifiers',\n",
       " 'faq.1.00-promote.listings',\n",
       " 'faq.1.00-promotions.manager',\n",
       " 'faq.1.00-refund.return.shipping.costs',\n",
       " 'faq.1.00-refund.via.paypal',\n",
       " 'faq.1.00-refunded.item.shown.unpaid',\n",
       " 'faq.1.00-reimburse.eBay',\n",
       " 'faq.1.00-relist.item',\n",
       " 'faq.1.00-replacement',\n",
       " 'faq.1.00-report.seller',\n",
       " 'faq.1.00-return.address.different',\n",
       " 'faq.1.00-return.insufficient.postage',\n",
       " 'faq.1.00-return.rules.policy',\n",
       " 'faq.1.00-revise.listing',\n",
       " 'faq.1.00-rtn.resolved.outside',\n",
       " 'faq.1.00-rtn_issue_not_delivered',\n",
       " 'faq.1.00-rtn_issue_wrong_address',\n",
       " 'faq.1.00-seller.doesnt.accept.returns',\n",
       " 'faq.1.00-seller.hub.seller.help',\n",
       " 'faq.1.00-seller.not.registered',\n",
       " 'faq.1.00-selling.ebay.account',\n",
       " 'faq.1.00-selling.protection.embg',\n",
       " 'faq.1.00-selling.second.chance',\n",
       " 'faq.1.00-selling',\n",
       " 'faq.1.00-shipping.combined.postage.buyer',\n",
       " 'faq.1.00-shipping.combined.postage.seller',\n",
       " 'faq.1.00-shipping.packing.tips',\n",
       " 'faq.1.00-shipping.return.postage.buyer',\n",
       " 'faq.1.00-shipping.return.postage.seller',\n",
       " 'faq.1.00-stolen.items',\n",
       " 'faq.1.00-stolen.off.porch',\n",
       " 'faq.1.00-switch.currency',\n",
       " 'faq.1.00-tax',\n",
       " 'faq.1.00-technical.issues',\n",
       " 'faq.1.00-update_rtn_tracking_info',\n",
       " 'faq.1.00-upi.credit.refund.seller.fees',\n",
       " 'faq.1.00-using.apps.on.eBay',\n",
       " 'faq.1.00-VAT.invoice',\n",
       " 'faq.1.00-why.ebay.removed.feedback',\n",
       " 'faq.1.04-report.item',\n",
       " 'faq.1.06-change.remove.feedback',\n",
       " 'faq.1.07-manage.block.bidder.buyer',\n",
       " 'faq.1.08-end.listing.early',\n",
       " 'faq.1.09-collect.loyalty.points',\n",
       " 'faq.1.10-pay.for.items',\n",
       " 'faq.1.11-close.ebay.account',\n",
       " 'faq.1.12-selling.fees',\n",
       " 'faq.1.13-guest.order.details',\n",
       " 'faq.1.14-contact.paypal',\n",
       " 'faq.1.16-reply.feedback',\n",
       " 'faq.1.17-send.invoice.to.buyer',\n",
       " 'faq.1.19-report.buyer',\n",
       " 'faq.1.20-close.ebay.shop',\n",
       " 'faq.1.20-manage.ebay.shop',\n",
       " 'faq.1.22-pay.ebay.fees',\n",
       " 'faq.1.23-refund.amount.timeline',\n",
       " 'faq.1.24-guest.buyer',\n",
       " 'faq.1.24-guest_buying_as_a_guest',\n",
       " 'faq.1.26-someone.else.used.account',\n",
       " 'faq.1.27-understand.invoice',\n",
       " 'faq.1.28-change.automatic.payment',\n",
       " 'faq.1.29-link.ebay.paypal.accounts',\n",
       " 'faq1.00-deleting.purchase.history',\n",
       " 'faq1.00-fast.free',\n",
       " 'faq1.00-immediate.payment',\n",
       " 'faq1.00-no.seller.response',\n",
       " 'faq1.00-off.ebay',\n",
       " 'faq1.00-saved.followed.searches',\n",
       " 'faq1.00-seller.defects',\n",
       " 'faq1.00-selling.alcohol',\n",
       " 'faq1.00-selling.drugs',\n",
       " 'faq1.00-selling.weapons',\n",
       " 'faq1.00-shopping.basket',\n",
       " 'faq1.00-spoof.emails',\n",
       " 'faq1.00-warranty.square.trade',\n",
       " 'faq1.00-warranty',\n",
       " 'fdb.1-feedback_entry',\n",
       " 'fdb.2-feedback_entry_df_submit',\n",
       " 'IFH.1.000-qlt.desc.itemdetails',\n",
       " 'IFH.1.000-qlt.desc.listingtool',\n",
       " 'IFH.1.000-qlt.desc.stockphotos',\n",
       " 'IFH.1.000-qlt.edit.quantity',\n",
       " 'IFH.1.000-qlt.more.options.advanced',\n",
       " 'IFH.1.000-qlt.pricing.auction.style',\n",
       " 'IFH.1.000-qlt.pricing.best.offer',\n",
       " 'IFH.1.000-qlt.remove.auto.relist',\n",
       " 'IFH.1.000-qlt.schedule.listing',\n",
       " 'IFH.1.000-qlt.shipping.delivery.options',\n",
       " 'IFH.1.000-qlt.shipping.dispatch.time',\n",
       " 'inr.1-inr_entry_guest_buyer',\n",
       " 'inr.1-inr_entry_guest_seller',\n",
       " 'inr.1-inr_entry',\n",
       " 'inr.1-inr_group_entry',\n",
       " 'inr.3.0-inr_display_no',\n",
       " 'inr.3.0-inr_display_yes',\n",
       " 'inr.7.1-inr_submission_submit',\n",
       " 'inr.7.2-inr_submission_cancel',\n",
       " 'mui.ifh.faq.1.00-accept.paypal',\n",
       " 'mui.ifh.faq.1.00-listing.with.variations',\n",
       " 'mui.ifh.faq.1.00-reserve.price',\n",
       " 'mui.ifh.faq.1.00-shipping.postage.labels',\n",
       " 'mui.ifh.faq.1.000-qlt.pricing.fixed.price',\n",
       " 'rcs.1-rcs_appeal_entry',\n",
       " 'rcs.1-rcs_close_entry',\n",
       " 'rcs.1-rcs_entry',\n",
       " 'rcs.1-rcs_escalate_entry',\n",
       " 'rcs.1-rcs_group_entry',\n",
       " 'rcs.3.0-rcs_display_no',\n",
       " 'rcs.3.0-rcs_display_yes',\n",
       " 'roe.1.0-contact_us_callme_available',\n",
       " 'roe.1.0-contact_us_chat_available',\n",
       " 'roe.1.0-guest_captcha_submission_submit',\n",
       " 'roe.1.0-talk_to_human_entry',\n",
       " 'roe.1.0-talk_to_human_with_comments_entry_df_show_card_submit',\n",
       " 'roe.3-talk_to_human_no',\n",
       " 'roe.3-talk_to_human_yes',\n",
       " 'roe.6-resolution_leave',\n",
       " 'rtn.1-rtn_arrived_damaged',\n",
       " 'rtn.1-rtn_defective_item',\n",
       " 'rtn.1-rtn_fake_or_counterfeit',\n",
       " 'rtn.1-rtn_found_better_price',\n",
       " 'rtn.1-rtn_group_entry',\n",
       " 'rtn.1-rtn_missing_parts',\n",
       " 'rtn.1-rtn_not_as_described',\n",
       " 'rtn.1-rtn_no_longer_need_item',\n",
       " 'rtn.1-rtn_ordered_accidentally',\n",
       " 'rtn.1-rtn_ordered_different_item',\n",
       " 'rtn.1-rtn_ordered_wrong_item',\n",
       " 'rtn.1-rtn_without_reason',\n",
       " 'rtn.1-rtn_wrong_size',\n",
       " 'rtn.10.1-rtn_submission_submit',\n",
       " 'rtn.10.2-rtn_submission_cancel',\n",
       " 'rtn.3.0-rtn_display_no',\n",
       " 'rtn.3.0-rtn_display_yes',\n",
       " 'rtn.5.2.1-rtn_item_eligible_with_warning_no',\n",
       " 'rtn.5.2.1-rtn_item_eligible_with_warning_yes',\n",
       " 'sl.1.0-sl_limits_entry',\n",
       " 'sl.2.0-sl_check_limits',\n",
       " 'sl.2.0-sl_increase_limits',\n",
       " 'smalltalk.agent.age',\n",
       " 'smalltalk.agent.can_you_hear_me',\n",
       " 'smalltalk.agent.do.you.like',\n",
       " 'smalltalk.agent.friend',\n",
       " 'smalltalk.agent.height',\n",
       " 'smalltalk.agent.hobby',\n",
       " 'smalltalk.agent.holidays',\n",
       " 'smalltalk.agent.hungry',\n",
       " 'smalltalk.agent.name',\n",
       " 'smalltalk.agent.ready',\n",
       " 'smalltalk.agent.relationship',\n",
       " 'smalltalk.agent.right.ok',\n",
       " 'smalltalk.agent.study',\n",
       " 'smalltalk.agent.tell_me_eBay_trivia',\n",
       " 'smalltalk.agent.time',\n",
       " 'smalltalk.appraisal.no_problem',\n",
       " 'smalltalk.appraisal.thank_you',\n",
       " 'smalltalk.dialog.come_on',\n",
       " 'smalltalk.dialog.curious',\n",
       " 'smalltalk.dialog.hold_on',\n",
       " 'smalltalk.dialog.life_is_good',\n",
       " 'smalltalk.dialog.sorry',\n",
       " 'smalltalk.emojis.unhandled',\n",
       " 'smalltalk.greetings.bye',\n",
       " 'smalltalk.greetings.hello',\n",
       " 'smalltalk.greetings.how_are_you',\n",
       " 'smalltalk.greetings.nice_to_meet_you',\n",
       " 'smalltalk.greetings.whatsup',\n",
       " 'smalltalk.legal.911',\n",
       " 'smalltalk.legal.agent.abuse.mild',\n",
       " 'smalltalk.legal.agent.abuse.offensive',\n",
       " 'smalltalk.legal.agent.abuse.strong',\n",
       " 'smalltalk.legal.domestic.violence',\n",
       " 'smalltalk.legal.eBay.competitor.opinion',\n",
       " 'smalltalk.legal.eBay.competitor',\n",
       " 'smalltalk.legal.eBay.personnel',\n",
       " 'smalltalk.legal.eBay.site.tools.negative.feedback',\n",
       " 'smalltalk.legal.horrible.people',\n",
       " 'smalltalk.legal.legal.threat',\n",
       " 'smalltalk.legal.privacy',\n",
       " 'smalltalk.legal.suicide',\n",
       " 'smalltalk.legal.terror',\n",
       " 'smalltalk.user.back.here',\n",
       " 'smalltalk.user.can_not_sleep',\n",
       " 'smalltalk.user.frustrated.waiting',\n",
       " 'smalltalk.user.has_birthday',\n",
       " 'smalltalk.user.name',\n",
       " 'smalltalk.user.sad',\n",
       " 'smalltalk.user.scared',\n",
       " 'tpk.1-tpk_entry_guest_track_item_buyer',\n",
       " 'tpk.1-tpk_entry_guest_track_item_seller',\n",
       " 'tpk.1-tpk_entry',\n",
       " 'tpk.3.0-tpk_display_no',\n",
       " 'tpk.3.0-tpk_display_yes',\n",
       " 'tpk.5.1.1-tpk_show_tracking_info_eligible_inr',\n",
       " 'upi.1-upi_entry_guest_buyer',\n",
       " 'upi.1-upi_entry_guest_seller',\n",
       " 'upi.1-upi_entry',\n",
       " 'upi.3.0-upi_display_no',\n",
       " 'upi.3.0-upi_display_yes',\n",
       " 'upi.6.1-upi_submission_submit',\n",
       " 'upi.6.2-upi_submission_cancel',\n",
       " 'vrp.1-vrp_entry',\n",
       " 'vrp.3.0-vrp_display_no',\n",
       " 'vrp.3.0-vrp_display_yes',\n",
       " 'vrp.5.1-vrp_item_without_case_tpk',\n",
       " 'vrp.5.2-vrp_item_without_case_rtn',\n",
       " 'vrp.5.3-vrp_item_without_case_inr',\n",
       " 'vrp.5.4-vrp_item_without_case_cnt',\n",
       " 'vrp.5.5-vrp_item_without_case_seller_rtn',\n",
       " 'vrp.5.6-vrp_item_without_case_seller_inr',\n",
       " 'vrp.5.7-vrp_item_without_case_selected_cts',\n",
       " 'vrp.5.8-vrp_item_without_case_seller_upi']"
      ]
     },
     "execution_count": 336,
     "metadata": {},
     "output_type": "execute_result"
    }
   ],
   "source": [
    "a#intents_en"
   ]
  },
  {
   "cell_type": "code",
   "execution_count": 331,
   "id": "ecff7608-651f-4528-a269-f74d95e3a1c8",
   "metadata": {},
   "outputs": [
    {
     "data": {
      "text/html": [
       "<div>\n",
       "<style scoped>\n",
       "    .dataframe tbody tr th:only-of-type {\n",
       "        vertical-align: middle;\n",
       "    }\n",
       "\n",
       "    .dataframe tbody tr th {\n",
       "        vertical-align: top;\n",
       "    }\n",
       "\n",
       "    .dataframe thead th {\n",
       "        text-align: right;\n",
       "    }\n",
       "</style>\n",
       "<table border=\"1\" class=\"dataframe\">\n",
       "  <thead>\n",
       "    <tr style=\"text-align: right;\">\n",
       "      <th></th>\n",
       "      <th>!cancel_intent</th>\n",
       "      <th>!no_intent</th>\n",
       "      <th>!submit_intent</th>\n",
       "      <th>!yes_intent</th>\n",
       "      <th>cme.1.0-callme_entry</th>\n",
       "      <th>cme.3.1-callme_cancel</th>\n",
       "      <th>cme.3.2-callme_country_not_found</th>\n",
       "      <th>cme.3.3.1-callme_change_phone_number_continue</th>\n",
       "      <th>cme.5.0-callme_default_fallback</th>\n",
       "      <th>cme.5.1-callme_no_longer_want_call</th>\n",
       "      <th>...</th>\n",
       "      <th>vrp.3.0-vrp_display_no</th>\n",
       "      <th>vrp.3.0-vrp_display_yes</th>\n",
       "      <th>vrp.5.1-vrp_item_without_case_tpk</th>\n",
       "      <th>vrp.5.2-vrp_item_without_case_rtn</th>\n",
       "      <th>vrp.5.3-vrp_item_without_case_inr</th>\n",
       "      <th>vrp.5.4-vrp_item_without_case_cnt</th>\n",
       "      <th>vrp.5.5-vrp_item_without_case_seller_rtn</th>\n",
       "      <th>vrp.5.6-vrp_item_without_case_seller_inr</th>\n",
       "      <th>vrp.5.7-vrp_item_without_case_selected_cts</th>\n",
       "      <th>vrp.5.8-vrp_item_without_case_seller_upi</th>\n",
       "    </tr>\n",
       "  </thead>\n",
       "  <tbody>\n",
       "    <tr>\n",
       "      <th>0</th>\n",
       "      <td>[ec598522-2f4c-4b0f-a076-25d1c97dae62, Why are...</td>\n",
       "      <td>[096dc093-dab1-4711-9128-e2258a20ca95,  No]</td>\n",
       "      <td>[378c19de-6b78-4a57-aee1-11a72bc68259, begin]</td>\n",
       "      <td>[4bbfaf5d-57b2-4d41-9dea-d0970c675519, 1]</td>\n",
       "      <td>[70109a19-adfa-438c-ab41-8fc69c9b2e7d, call me]</td>\n",
       "      <td>[ec598522-2f4c-4b0f-a076-25d1c97dae62, Why are...</td>\n",
       "      <td>[3beded04-8a16-4000-9e09-f204fd0c244c, I don't...</td>\n",
       "      <td>[6631cb77-9e62-40b1-9748-0ad02252c7cc, call me]</td>\n",
       "      <td>[b891f020-de7f-4c49-ad29-fa799ba97c14, cool]</td>\n",
       "      <td>[b5e89371-a7a7-4cc5-8afb-522e1d7ce130, can I s...</td>\n",
       "      <td>...</td>\n",
       "      <td>[096dc093-dab1-4711-9128-e2258a20ca95,  No]</td>\n",
       "      <td>[4bbfaf5d-57b2-4d41-9dea-d0970c675519, 1]</td>\n",
       "      <td>[d323e5c3-3a8a-4749-8577-035538918d14, track p...</td>\n",
       "      <td>[3c91239f-852f-49c3-82f7-6d4e2984dce6, return ...</td>\n",
       "      <td>[4c355953-a02d-4402-8875-7d356981a928, Report ...</td>\n",
       "      <td>[6493b220-b5db-4488-8193-60cb43a29ee0, cancel ...</td>\n",
       "      <td>[b81a5a3c-0ccb-4e2e-8334-e1e0bad16aed, handle ...</td>\n",
       "      <td>[a2ed8764-5b19-4e90-9709-0a393890b647, handle ...</td>\n",
       "      <td>[6baf4610-e23c-4fbe-ba41-efc5e99ec4fe, message]</td>\n",
       "      <td>[8172bf16-af7e-47ba-8915-1670b56d41ca, Resolve...</td>\n",
       "    </tr>\n",
       "    <tr>\n",
       "      <th>1</th>\n",
       "      <td>[f59490aa-1f0e-46e7-a6db-e6a41042c6ca, abandon]</td>\n",
       "      <td>[0fdd5a7d-ba6b-401b-b369-d14e0a1a9665, 2]</td>\n",
       "      <td>[2e7a97d2-13f9-42a7-ac3d-0d0f162a9dd3, do]</td>\n",
       "      <td>[e8835b3b-23b8-40c2-9c10-5bb44594a4c2, 10 4]</td>\n",
       "      <td>[776c810c-440e-4ebb-8844-a10c6e44db39, have us...</td>\n",
       "      <td>[f59490aa-1f0e-46e7-a6db-e6a41042c6ca, abandon]</td>\n",
       "      <td>None</td>\n",
       "      <td>[aa7c38ee-b1fd-4b6b-bc6c-0e71e867d797, continue]</td>\n",
       "      <td>[2f53fa01-7707-481c-9f4b-cacf21b46c59, Finally]</td>\n",
       "      <td>[72b00318-9201-46ef-9c04-96920c8edd3a, can you...</td>\n",
       "      <td>...</td>\n",
       "      <td>[0fdd5a7d-ba6b-401b-b369-d14e0a1a9665, 2]</td>\n",
       "      <td>[e8835b3b-23b8-40c2-9c10-5bb44594a4c2, 10 4]</td>\n",
       "      <td>None</td>\n",
       "      <td>None</td>\n",
       "      <td>None</td>\n",
       "      <td>[75d3edfa-8d08-4e74-8972-a6396c47bf03, cancel ...</td>\n",
       "      <td>None</td>\n",
       "      <td>None</td>\n",
       "      <td>[b3e7bb5b-c60a-4061-a171-b6a368472b22, message...</td>\n",
       "      <td>None</td>\n",
       "    </tr>\n",
       "    <tr>\n",
       "      <th>2</th>\n",
       "      <td>[751c7ac7-668b-4dad-9838-910057386b52, break]</td>\n",
       "      <td>[fbbad88b-29c7-46a8-a08c-5dd83a126d18, definit...</td>\n",
       "      <td>[b706bf45-e936-4fe8-8047-65e633df314c, do it]</td>\n",
       "      <td>[2dd5fb05-379d-4d9f-a8fb-24d2cd6ad07d, 10-4]</td>\n",
       "      <td>[403140ef-e12f-4718-a074-a3e1e9f38394, Have us...</td>\n",
       "      <td>[751c7ac7-668b-4dad-9838-910057386b52, break]</td>\n",
       "      <td>None</td>\n",
       "      <td>[697defee-8370-4df0-a326-b480e51e4d75, continu...</td>\n",
       "      <td>[f2268702-db45-408b-8887-e061768dbe58, glad to...</td>\n",
       "      <td>[61bf596d-e8dd-4f89-bd16-1bfb38c0b47b, cancel ...</td>\n",
       "      <td>...</td>\n",
       "      <td>[fbbad88b-29c7-46a8-a08c-5dd83a126d18, definit...</td>\n",
       "      <td>[2dd5fb05-379d-4d9f-a8fb-24d2cd6ad07d, 10-4]</td>\n",
       "      <td>None</td>\n",
       "      <td>None</td>\n",
       "      <td>None</td>\n",
       "      <td>None</td>\n",
       "      <td>None</td>\n",
       "      <td>None</td>\n",
       "      <td>[83fd29b4-bf71-479d-8f9a-8e2fd8cbbc4c, send a ...</td>\n",
       "      <td>None</td>\n",
       "    </tr>\n",
       "    <tr>\n",
       "      <th>3</th>\n",
       "      <td>[03fe1499-e697-4fdd-864f-7680f688158c, cancel]</td>\n",
       "      <td>[d5ea0788-5765-422e-96cf-98bc5ce66362, Dont]</td>\n",
       "      <td>[5047bcd4-8e4f-43f0-97fd-389552d71285, done]</td>\n",
       "      <td>[7d73cbb8-f70a-4db5-bae6-84544d034326, affirma...</td>\n",
       "      <td>None</td>\n",
       "      <td>[03fe1499-e697-4fdd-864f-7680f688158c, cancel]</td>\n",
       "      <td>None</td>\n",
       "      <td>[6302e9b5-2278-4c96-adda-e9cf7f61a804, continu...</td>\n",
       "      <td>[c26e44b0-83f6-4be6-803a-c1401119abd9, I will ...</td>\n",
       "      <td>[d9a9873a-54c7-4866-bea2-5d5aff5aa63e, cancel ...</td>\n",
       "      <td>...</td>\n",
       "      <td>[d5ea0788-5765-422e-96cf-98bc5ce66362, Dont]</td>\n",
       "      <td>[7d73cbb8-f70a-4db5-bae6-84544d034326, affirma...</td>\n",
       "      <td>None</td>\n",
       "      <td>None</td>\n",
       "      <td>None</td>\n",
       "      <td>None</td>\n",
       "      <td>None</td>\n",
       "      <td>None</td>\n",
       "      <td>[c7774099-7f7a-41f0-8e6e-6b23f997e0f9, send me...</td>\n",
       "      <td>None</td>\n",
       "    </tr>\n",
       "    <tr>\n",
       "      <th>4</th>\n",
       "      <td>[7550224d-9c8b-4435-abe6-1e49e114a899, cancle]</td>\n",
       "      <td>[40837b67-e21a-4423-b160-feebc755f2be, Don't]</td>\n",
       "      <td>[5a08685b-b399-400c-9be2-f9a08fa41723, enter]</td>\n",
       "      <td>[f305dd54-7eeb-48e2-a402-280b034efdbf, All right]</td>\n",
       "      <td>None</td>\n",
       "      <td>[7550224d-9c8b-4435-abe6-1e49e114a899, cancle]</td>\n",
       "      <td>None</td>\n",
       "      <td>[9051bac6-d8da-4a4e-8dcc-0a0e950497b8, continu...</td>\n",
       "      <td>[0522e6a9-ab8f-4469-abae-726e146a93aa, I'll ju...</td>\n",
       "      <td>[d1097da2-c5fc-4406-bbc4-d9f9dc4ecb60, clicked...</td>\n",
       "      <td>...</td>\n",
       "      <td>[40837b67-e21a-4423-b160-feebc755f2be, Don't]</td>\n",
       "      <td>[f305dd54-7eeb-48e2-a402-280b034efdbf, All right]</td>\n",
       "      <td>None</td>\n",
       "      <td>None</td>\n",
       "      <td>None</td>\n",
       "      <td>None</td>\n",
       "      <td>None</td>\n",
       "      <td>None</td>\n",
       "      <td>[549c08ea-d674-4dfc-a275-8142d26fec62, send th...</td>\n",
       "      <td>None</td>\n",
       "    </tr>\n",
       "    <tr>\n",
       "      <th>...</th>\n",
       "      <td>...</td>\n",
       "      <td>...</td>\n",
       "      <td>...</td>\n",
       "      <td>...</td>\n",
       "      <td>...</td>\n",
       "      <td>...</td>\n",
       "      <td>...</td>\n",
       "      <td>...</td>\n",
       "      <td>...</td>\n",
       "      <td>...</td>\n",
       "      <td>...</td>\n",
       "      <td>...</td>\n",
       "      <td>...</td>\n",
       "      <td>...</td>\n",
       "      <td>...</td>\n",
       "      <td>...</td>\n",
       "      <td>...</td>\n",
       "      <td>...</td>\n",
       "      <td>...</td>\n",
       "      <td>...</td>\n",
       "      <td>...</td>\n",
       "    </tr>\n",
       "    <tr>\n",
       "      <th>724</th>\n",
       "      <td>None</td>\n",
       "      <td>None</td>\n",
       "      <td>None</td>\n",
       "      <td>None</td>\n",
       "      <td>None</td>\n",
       "      <td>None</td>\n",
       "      <td>None</td>\n",
       "      <td>None</td>\n",
       "      <td>None</td>\n",
       "      <td>None</td>\n",
       "      <td>...</td>\n",
       "      <td>None</td>\n",
       "      <td>None</td>\n",
       "      <td>None</td>\n",
       "      <td>None</td>\n",
       "      <td>None</td>\n",
       "      <td>None</td>\n",
       "      <td>None</td>\n",
       "      <td>None</td>\n",
       "      <td>None</td>\n",
       "      <td>None</td>\n",
       "    </tr>\n",
       "    <tr>\n",
       "      <th>725</th>\n",
       "      <td>None</td>\n",
       "      <td>None</td>\n",
       "      <td>None</td>\n",
       "      <td>None</td>\n",
       "      <td>None</td>\n",
       "      <td>None</td>\n",
       "      <td>None</td>\n",
       "      <td>None</td>\n",
       "      <td>None</td>\n",
       "      <td>None</td>\n",
       "      <td>...</td>\n",
       "      <td>None</td>\n",
       "      <td>None</td>\n",
       "      <td>None</td>\n",
       "      <td>None</td>\n",
       "      <td>None</td>\n",
       "      <td>None</td>\n",
       "      <td>None</td>\n",
       "      <td>None</td>\n",
       "      <td>None</td>\n",
       "      <td>None</td>\n",
       "    </tr>\n",
       "    <tr>\n",
       "      <th>726</th>\n",
       "      <td>None</td>\n",
       "      <td>None</td>\n",
       "      <td>None</td>\n",
       "      <td>None</td>\n",
       "      <td>None</td>\n",
       "      <td>None</td>\n",
       "      <td>None</td>\n",
       "      <td>None</td>\n",
       "      <td>None</td>\n",
       "      <td>None</td>\n",
       "      <td>...</td>\n",
       "      <td>None</td>\n",
       "      <td>None</td>\n",
       "      <td>None</td>\n",
       "      <td>None</td>\n",
       "      <td>None</td>\n",
       "      <td>None</td>\n",
       "      <td>None</td>\n",
       "      <td>None</td>\n",
       "      <td>None</td>\n",
       "      <td>None</td>\n",
       "    </tr>\n",
       "    <tr>\n",
       "      <th>727</th>\n",
       "      <td>None</td>\n",
       "      <td>None</td>\n",
       "      <td>None</td>\n",
       "      <td>None</td>\n",
       "      <td>None</td>\n",
       "      <td>None</td>\n",
       "      <td>None</td>\n",
       "      <td>None</td>\n",
       "      <td>None</td>\n",
       "      <td>None</td>\n",
       "      <td>...</td>\n",
       "      <td>None</td>\n",
       "      <td>None</td>\n",
       "      <td>None</td>\n",
       "      <td>None</td>\n",
       "      <td>None</td>\n",
       "      <td>None</td>\n",
       "      <td>None</td>\n",
       "      <td>None</td>\n",
       "      <td>None</td>\n",
       "      <td>None</td>\n",
       "    </tr>\n",
       "    <tr>\n",
       "      <th>728</th>\n",
       "      <td>None</td>\n",
       "      <td>None</td>\n",
       "      <td>None</td>\n",
       "      <td>None</td>\n",
       "      <td>None</td>\n",
       "      <td>None</td>\n",
       "      <td>None</td>\n",
       "      <td>None</td>\n",
       "      <td>None</td>\n",
       "      <td>None</td>\n",
       "      <td>...</td>\n",
       "      <td>None</td>\n",
       "      <td>None</td>\n",
       "      <td>None</td>\n",
       "      <td>None</td>\n",
       "      <td>None</td>\n",
       "      <td>None</td>\n",
       "      <td>None</td>\n",
       "      <td>None</td>\n",
       "      <td>None</td>\n",
       "      <td>None</td>\n",
       "    </tr>\n",
       "  </tbody>\n",
       "</table>\n",
       "<p>729 rows × 346 columns</p>\n",
       "</div>"
      ],
      "text/plain": [
       "                                        !cancel_intent  \\\n",
       "0    [ec598522-2f4c-4b0f-a076-25d1c97dae62, Why are...   \n",
       "1      [f59490aa-1f0e-46e7-a6db-e6a41042c6ca, abandon]   \n",
       "2        [751c7ac7-668b-4dad-9838-910057386b52, break]   \n",
       "3       [03fe1499-e697-4fdd-864f-7680f688158c, cancel]   \n",
       "4       [7550224d-9c8b-4435-abe6-1e49e114a899, cancle]   \n",
       "..                                                 ...   \n",
       "724                                               None   \n",
       "725                                               None   \n",
       "726                                               None   \n",
       "727                                               None   \n",
       "728                                               None   \n",
       "\n",
       "                                            !no_intent  \\\n",
       "0          [096dc093-dab1-4711-9128-e2258a20ca95,  No]   \n",
       "1            [0fdd5a7d-ba6b-401b-b369-d14e0a1a9665, 2]   \n",
       "2    [fbbad88b-29c7-46a8-a08c-5dd83a126d18, definit...   \n",
       "3         [d5ea0788-5765-422e-96cf-98bc5ce66362, Dont]   \n",
       "4        [40837b67-e21a-4423-b160-feebc755f2be, Don't]   \n",
       "..                                                 ...   \n",
       "724                                               None   \n",
       "725                                               None   \n",
       "726                                               None   \n",
       "727                                               None   \n",
       "728                                               None   \n",
       "\n",
       "                                    !submit_intent  \\\n",
       "0    [378c19de-6b78-4a57-aee1-11a72bc68259, begin]   \n",
       "1       [2e7a97d2-13f9-42a7-ac3d-0d0f162a9dd3, do]   \n",
       "2    [b706bf45-e936-4fe8-8047-65e633df314c, do it]   \n",
       "3     [5047bcd4-8e4f-43f0-97fd-389552d71285, done]   \n",
       "4    [5a08685b-b399-400c-9be2-f9a08fa41723, enter]   \n",
       "..                                             ...   \n",
       "724                                           None   \n",
       "725                                           None   \n",
       "726                                           None   \n",
       "727                                           None   \n",
       "728                                           None   \n",
       "\n",
       "                                           !yes_intent  \\\n",
       "0            [4bbfaf5d-57b2-4d41-9dea-d0970c675519, 1]   \n",
       "1         [e8835b3b-23b8-40c2-9c10-5bb44594a4c2, 10 4]   \n",
       "2         [2dd5fb05-379d-4d9f-a8fb-24d2cd6ad07d, 10-4]   \n",
       "3    [7d73cbb8-f70a-4db5-bae6-84544d034326, affirma...   \n",
       "4    [f305dd54-7eeb-48e2-a402-280b034efdbf, All right]   \n",
       "..                                                 ...   \n",
       "724                                               None   \n",
       "725                                               None   \n",
       "726                                               None   \n",
       "727                                               None   \n",
       "728                                               None   \n",
       "\n",
       "                                  cme.1.0-callme_entry  \\\n",
       "0      [70109a19-adfa-438c-ab41-8fc69c9b2e7d, call me]   \n",
       "1    [776c810c-440e-4ebb-8844-a10c6e44db39, have us...   \n",
       "2    [403140ef-e12f-4718-a074-a3e1e9f38394, Have us...   \n",
       "3                                                 None   \n",
       "4                                                 None   \n",
       "..                                                 ...   \n",
       "724                                               None   \n",
       "725                                               None   \n",
       "726                                               None   \n",
       "727                                               None   \n",
       "728                                               None   \n",
       "\n",
       "                                 cme.3.1-callme_cancel  \\\n",
       "0    [ec598522-2f4c-4b0f-a076-25d1c97dae62, Why are...   \n",
       "1      [f59490aa-1f0e-46e7-a6db-e6a41042c6ca, abandon]   \n",
       "2        [751c7ac7-668b-4dad-9838-910057386b52, break]   \n",
       "3       [03fe1499-e697-4fdd-864f-7680f688158c, cancel]   \n",
       "4       [7550224d-9c8b-4435-abe6-1e49e114a899, cancle]   \n",
       "..                                                 ...   \n",
       "724                                               None   \n",
       "725                                               None   \n",
       "726                                               None   \n",
       "727                                               None   \n",
       "728                                               None   \n",
       "\n",
       "                      cme.3.2-callme_country_not_found  \\\n",
       "0    [3beded04-8a16-4000-9e09-f204fd0c244c, I don't...   \n",
       "1                                                 None   \n",
       "2                                                 None   \n",
       "3                                                 None   \n",
       "4                                                 None   \n",
       "..                                                 ...   \n",
       "724                                               None   \n",
       "725                                               None   \n",
       "726                                               None   \n",
       "727                                               None   \n",
       "728                                               None   \n",
       "\n",
       "         cme.3.3.1-callme_change_phone_number_continue  \\\n",
       "0      [6631cb77-9e62-40b1-9748-0ad02252c7cc, call me]   \n",
       "1     [aa7c38ee-b1fd-4b6b-bc6c-0e71e867d797, continue]   \n",
       "2    [697defee-8370-4df0-a326-b480e51e4d75, continu...   \n",
       "3    [6302e9b5-2278-4c96-adda-e9cf7f61a804, continu...   \n",
       "4    [9051bac6-d8da-4a4e-8dcc-0a0e950497b8, continu...   \n",
       "..                                                 ...   \n",
       "724                                               None   \n",
       "725                                               None   \n",
       "726                                               None   \n",
       "727                                               None   \n",
       "728                                               None   \n",
       "\n",
       "                       cme.5.0-callme_default_fallback  \\\n",
       "0         [b891f020-de7f-4c49-ad29-fa799ba97c14, cool]   \n",
       "1      [2f53fa01-7707-481c-9f4b-cacf21b46c59, Finally]   \n",
       "2    [f2268702-db45-408b-8887-e061768dbe58, glad to...   \n",
       "3    [c26e44b0-83f6-4be6-803a-c1401119abd9, I will ...   \n",
       "4    [0522e6a9-ab8f-4469-abae-726e146a93aa, I'll ju...   \n",
       "..                                                 ...   \n",
       "724                                               None   \n",
       "725                                               None   \n",
       "726                                               None   \n",
       "727                                               None   \n",
       "728                                               None   \n",
       "\n",
       "                    cme.5.1-callme_no_longer_want_call  ...  \\\n",
       "0    [b5e89371-a7a7-4cc5-8afb-522e1d7ce130, can I s...  ...   \n",
       "1    [72b00318-9201-46ef-9c04-96920c8edd3a, can you...  ...   \n",
       "2    [61bf596d-e8dd-4f89-bd16-1bfb38c0b47b, cancel ...  ...   \n",
       "3    [d9a9873a-54c7-4866-bea2-5d5aff5aa63e, cancel ...  ...   \n",
       "4    [d1097da2-c5fc-4406-bbc4-d9f9dc4ecb60, clicked...  ...   \n",
       "..                                                 ...  ...   \n",
       "724                                               None  ...   \n",
       "725                                               None  ...   \n",
       "726                                               None  ...   \n",
       "727                                               None  ...   \n",
       "728                                               None  ...   \n",
       "\n",
       "                                vrp.3.0-vrp_display_no  \\\n",
       "0          [096dc093-dab1-4711-9128-e2258a20ca95,  No]   \n",
       "1            [0fdd5a7d-ba6b-401b-b369-d14e0a1a9665, 2]   \n",
       "2    [fbbad88b-29c7-46a8-a08c-5dd83a126d18, definit...   \n",
       "3         [d5ea0788-5765-422e-96cf-98bc5ce66362, Dont]   \n",
       "4        [40837b67-e21a-4423-b160-feebc755f2be, Don't]   \n",
       "..                                                 ...   \n",
       "724                                               None   \n",
       "725                                               None   \n",
       "726                                               None   \n",
       "727                                               None   \n",
       "728                                               None   \n",
       "\n",
       "                               vrp.3.0-vrp_display_yes  \\\n",
       "0            [4bbfaf5d-57b2-4d41-9dea-d0970c675519, 1]   \n",
       "1         [e8835b3b-23b8-40c2-9c10-5bb44594a4c2, 10 4]   \n",
       "2         [2dd5fb05-379d-4d9f-a8fb-24d2cd6ad07d, 10-4]   \n",
       "3    [7d73cbb8-f70a-4db5-bae6-84544d034326, affirma...   \n",
       "4    [f305dd54-7eeb-48e2-a402-280b034efdbf, All right]   \n",
       "..                                                 ...   \n",
       "724                                               None   \n",
       "725                                               None   \n",
       "726                                               None   \n",
       "727                                               None   \n",
       "728                                               None   \n",
       "\n",
       "                     vrp.5.1-vrp_item_without_case_tpk  \\\n",
       "0    [d323e5c3-3a8a-4749-8577-035538918d14, track p...   \n",
       "1                                                 None   \n",
       "2                                                 None   \n",
       "3                                                 None   \n",
       "4                                                 None   \n",
       "..                                                 ...   \n",
       "724                                               None   \n",
       "725                                               None   \n",
       "726                                               None   \n",
       "727                                               None   \n",
       "728                                               None   \n",
       "\n",
       "                     vrp.5.2-vrp_item_without_case_rtn  \\\n",
       "0    [3c91239f-852f-49c3-82f7-6d4e2984dce6, return ...   \n",
       "1                                                 None   \n",
       "2                                                 None   \n",
       "3                                                 None   \n",
       "4                                                 None   \n",
       "..                                                 ...   \n",
       "724                                               None   \n",
       "725                                               None   \n",
       "726                                               None   \n",
       "727                                               None   \n",
       "728                                               None   \n",
       "\n",
       "                     vrp.5.3-vrp_item_without_case_inr  \\\n",
       "0    [4c355953-a02d-4402-8875-7d356981a928, Report ...   \n",
       "1                                                 None   \n",
       "2                                                 None   \n",
       "3                                                 None   \n",
       "4                                                 None   \n",
       "..                                                 ...   \n",
       "724                                               None   \n",
       "725                                               None   \n",
       "726                                               None   \n",
       "727                                               None   \n",
       "728                                               None   \n",
       "\n",
       "                     vrp.5.4-vrp_item_without_case_cnt  \\\n",
       "0    [6493b220-b5db-4488-8193-60cb43a29ee0, cancel ...   \n",
       "1    [75d3edfa-8d08-4e74-8972-a6396c47bf03, cancel ...   \n",
       "2                                                 None   \n",
       "3                                                 None   \n",
       "4                                                 None   \n",
       "..                                                 ...   \n",
       "724                                               None   \n",
       "725                                               None   \n",
       "726                                               None   \n",
       "727                                               None   \n",
       "728                                               None   \n",
       "\n",
       "              vrp.5.5-vrp_item_without_case_seller_rtn  \\\n",
       "0    [b81a5a3c-0ccb-4e2e-8334-e1e0bad16aed, handle ...   \n",
       "1                                                 None   \n",
       "2                                                 None   \n",
       "3                                                 None   \n",
       "4                                                 None   \n",
       "..                                                 ...   \n",
       "724                                               None   \n",
       "725                                               None   \n",
       "726                                               None   \n",
       "727                                               None   \n",
       "728                                               None   \n",
       "\n",
       "              vrp.5.6-vrp_item_without_case_seller_inr  \\\n",
       "0    [a2ed8764-5b19-4e90-9709-0a393890b647, handle ...   \n",
       "1                                                 None   \n",
       "2                                                 None   \n",
       "3                                                 None   \n",
       "4                                                 None   \n",
       "..                                                 ...   \n",
       "724                                               None   \n",
       "725                                               None   \n",
       "726                                               None   \n",
       "727                                               None   \n",
       "728                                               None   \n",
       "\n",
       "            vrp.5.7-vrp_item_without_case_selected_cts  \\\n",
       "0      [6baf4610-e23c-4fbe-ba41-efc5e99ec4fe, message]   \n",
       "1    [b3e7bb5b-c60a-4061-a171-b6a368472b22, message...   \n",
       "2    [83fd29b4-bf71-479d-8f9a-8e2fd8cbbc4c, send a ...   \n",
       "3    [c7774099-7f7a-41f0-8e6e-6b23f997e0f9, send me...   \n",
       "4    [549c08ea-d674-4dfc-a275-8142d26fec62, send th...   \n",
       "..                                                 ...   \n",
       "724                                               None   \n",
       "725                                               None   \n",
       "726                                               None   \n",
       "727                                               None   \n",
       "728                                               None   \n",
       "\n",
       "              vrp.5.8-vrp_item_without_case_seller_upi  \n",
       "0    [8172bf16-af7e-47ba-8915-1670b56d41ca, Resolve...  \n",
       "1                                                 None  \n",
       "2                                                 None  \n",
       "3                                                 None  \n",
       "4                                                 None  \n",
       "..                                                 ...  \n",
       "724                                               None  \n",
       "725                                               None  \n",
       "726                                               None  \n",
       "727                                               None  \n",
       "728                                               None  \n",
       "\n",
       "[729 rows x 346 columns]"
      ]
     },
     "execution_count": 331,
     "metadata": {},
     "output_type": "execute_result"
    }
   ],
   "source": [
    "pd.DataFrame.from_dict(en_data, orient='index').transpose()"
   ]
  },
  {
   "cell_type": "code",
   "execution_count": 325,
   "id": "d0393213-dab8-4393-98b9-a5c14795a58c",
   "metadata": {},
   "outputs": [
    {
     "data": {
      "text/plain": [
       "dict"
      ]
     },
     "execution_count": 325,
     "metadata": {},
     "output_type": "execute_result"
    }
   ],
   "source": [
    "type(en_data)"
   ]
  },
  {
   "cell_type": "code",
   "execution_count": 318,
   "id": "e99b8722-4de0-4692-a0df-016d254f3854",
   "metadata": {},
   "outputs": [],
   "source": [
    "def getList(dict):\n",
    "    return list(dict.keys())\n",
    "\n",
    "intents_en = (getList(en_data))\n",
    "intents_en_au = (getList(en_au_data))\n",
    "intents_en_us = (getList(en_us_data))"
   ]
  },
  {
   "cell_type": "code",
   "execution_count": 319,
   "id": "c90cfadb-de30-4105-b3bf-234640ee6715",
   "metadata": {},
   "outputs": [],
   "source": [
    "full_list_intents = list(set(intents_en + intents_en_au + intents_en_us))\n",
    "full_list_intents.sort()"
   ]
  },
  {
   "cell_type": "code",
   "execution_count": null,
   "id": "8db49040-7be0-4b11-8483-035473066b34",
   "metadata": {},
   "outputs": [],
   "source": []
  }
 ],
 "metadata": {
  "kernelspec": {
   "display_name": "Python 3 (ipykernel)",
   "language": "python",
   "name": "python3"
  },
  "language_info": {
   "codemirror_mode": {
    "name": "ipython",
    "version": 3
   },
   "file_extension": ".py",
   "mimetype": "text/x-python",
   "name": "python",
   "nbconvert_exporter": "python",
   "pygments_lexer": "ipython3",
   "version": "3.8.12"
  }
 },
 "nbformat": 4,
 "nbformat_minor": 5
}
